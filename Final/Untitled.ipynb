{
 "cells": [
  {
   "cell_type": "code",
   "execution_count": 1,
   "metadata": {},
   "outputs": [
    {
     "name": "stdout",
     "output_type": "stream",
     "text": [
      " Volume in drive C has no label.\n",
      " Volume Serial Number is 6656-0234\n",
      "\n",
      " Directory of C:\\Users\\rmcgr\\Rangeland_monitoring\\Fire_scar\\Final\n",
      "\n",
      "08/10/2021  02:23 PM    <DIR>          .\n",
      "08/10/2021  02:23 PM    <DIR>          ..\n",
      "08/10/2021  02:23 PM    <DIR>          .ipynb_checkpoints\n",
      "10/12/2020  11:40 AM             6,679 Fire_zonal_stats_on_one_property.py\n",
      "10/09/2020  02:36 PM            10,030 Fire_zonal_stats_on_one_property-v2.py\n",
      "10/12/2020  09:50 AM             9,288 Fire_zonal_stats_on_one_property-v3.py\n",
      "08/10/2021  02:23 PM                72 Untitled.ipynb\n",
      "               4 File(s)         26,069 bytes\n",
      "               3 Dir(s)  138,643,976,192 bytes free\n"
     ]
    }
   ],
   "source": [
    "ls"
   ]
  },
  {
   "cell_type": "code",
   "execution_count": 2,
   "metadata": {},
   "outputs": [
    {
     "ename": "IndentationError",
     "evalue": "unexpected indent (Fire_zonal_stats_on_one_property-v3.py, line 161)",
     "output_type": "error",
     "traceback": [
      "\u001b[1;36m  File \u001b[1;32m\"C:\\Users\\rmcgr\\Rangeland_monitoring\\Fire_scar\\Final\\Fire_zonal_stats_on_one_property-v3.py\"\u001b[1;36m, line \u001b[1;32m161\u001b[0m\n\u001b[1;33m    '''------------------------------------------------------------------------------------------------------------------'''\u001b[0m\n\u001b[1;37m    ^\u001b[0m\n\u001b[1;31mIndentationError\u001b[0m\u001b[1;31m:\u001b[0m unexpected indent\n"
     ]
    }
   ],
   "source": [
    "%run Fire_zonal_stats_on_one_property-v3.py -h"
   ]
  },
  {
   "cell_type": "code",
   "execution_count": null,
   "metadata": {},
   "outputs": [],
   "source": []
  }
 ],
 "metadata": {
  "kernelspec": {
   "display_name": "Python 3",
   "language": "python",
   "name": "python3"
  },
  "language_info": {
   "codemirror_mode": {
    "name": "ipython",
    "version": 3
   },
   "file_extension": ".py",
   "mimetype": "text/x-python",
   "name": "python",
   "nbconvert_exporter": "python",
   "pygments_lexer": "ipython3",
   "version": "3.7.7"
  }
 },
 "nbformat": 4,
 "nbformat_minor": 4
}
