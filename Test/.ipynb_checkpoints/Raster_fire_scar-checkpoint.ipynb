{
 "cells": [
  {
   "cell_type": "markdown",
   "metadata": {},
   "source": [
    "# Raster fire scar assessment - working"
   ]
  },
  {
   "cell_type": "code",
   "execution_count": 1,
   "metadata": {},
   "outputs": [],
   "source": [
    "import geopandas as gpd\n",
    "import os\n",
    "import shutil\n",
    "import glob\n",
    "import pandas as pd\n",
    "import numpy as np\n",
    "import rasterio as rio\n",
    "import rasterio.plot\n",
    "import pyproj\n",
    "import numpy as np\n",
    "import matplotlib\n",
    "import matplotlib.pyplot as plt\n",
    "#import earthpy as ep\n",
    "#import earthpy.plot as ep\n",
    "import seaborn as sns\n",
    "import fiona\n",
    "import rasterstats\n",
    "from rasterstats import zonal_stats\n",
    "\n",
    "\n",
    "# Prettier plotting with seaborn\n",
    "sns.set(font_scale=1.5, style=\"white\")"
   ]
  },
  {
   "cell_type": "markdown",
   "metadata": {},
   "source": [
    "List and copy the NAFI raster images"
   ]
  },
  {
   "cell_type": "code",
   "execution_count": 2,
   "metadata": {},
   "outputs": [
    {
     "name": "stdout",
     "output_type": "stream",
     "text": [
      "Script has finished\n"
     ]
    },
    {
     "data": {
      "text/plain": [
       "['U:\\\\Working\\\\Rangelands\\\\Spatial Data\\\\NAFI Firescars\\\\2000 firescars\\\\Raster\\\\FS2000_MTH.tif',\n",
       " 'U:\\\\Working\\\\Rangelands\\\\Spatial Data\\\\NAFI Firescars\\\\2001 firescars\\\\Raster\\\\FS2001_MTH.tif',\n",
       " 'U:\\\\Working\\\\Rangelands\\\\Spatial Data\\\\NAFI Firescars\\\\2002 firescars\\\\Raster\\\\FS2002_MTH.tif',\n",
       " 'U:\\\\Working\\\\Rangelands\\\\Spatial Data\\\\NAFI Firescars\\\\2003 firescars\\\\Raster\\\\FS2003_MTH.tif',\n",
       " 'U:\\\\Working\\\\Rangelands\\\\Spatial Data\\\\NAFI Firescars\\\\2004 firescars\\\\Raster\\\\FS2004_MTH.tif',\n",
       " 'U:\\\\Working\\\\Rangelands\\\\Spatial Data\\\\NAFI Firescars\\\\2005 firescars\\\\Raster\\\\FS2005_MTH.tif',\n",
       " 'U:\\\\Working\\\\Rangelands\\\\Spatial Data\\\\NAFI Firescars\\\\2006 firescars\\\\Raster\\\\FS2006_MTH.tif',\n",
       " 'U:\\\\Working\\\\Rangelands\\\\Spatial Data\\\\NAFI Firescars\\\\2007 firescars\\\\Raster\\\\FS2007_MTH.tif',\n",
       " 'U:\\\\Working\\\\Rangelands\\\\Spatial Data\\\\NAFI Firescars\\\\2008 firescars\\\\Raster\\\\FS2008_MTH.tif',\n",
       " 'U:\\\\Working\\\\Rangelands\\\\Spatial Data\\\\NAFI Firescars\\\\2009 firescars\\\\Raster\\\\FS2009_MTH.tif',\n",
       " 'U:\\\\Working\\\\Rangelands\\\\Spatial Data\\\\NAFI Firescars\\\\2010 firescars\\\\Raster\\\\FS2010_MTH.tif',\n",
       " 'U:\\\\Working\\\\Rangelands\\\\Spatial Data\\\\NAFI Firescars\\\\2011 firescars\\\\Raster\\\\FS2011_MTH.tif',\n",
       " 'U:\\\\Working\\\\Rangelands\\\\Spatial Data\\\\NAFI Firescars\\\\2012 firescars\\\\Raster\\\\FS2012_MTH.tif',\n",
       " 'U:\\\\Working\\\\Rangelands\\\\Spatial Data\\\\NAFI Firescars\\\\2013 firescars\\\\Raster\\\\FS2013_MTH.tif',\n",
       " 'U:\\\\Working\\\\Rangelands\\\\Spatial Data\\\\NAFI Firescars\\\\2014 firescars\\\\Raster\\\\FS2014_MTH.tif',\n",
       " 'U:\\\\Working\\\\Rangelands\\\\Spatial Data\\\\NAFI Firescars\\\\2015 firescars\\\\Raster\\\\FS2015_MTH.tif',\n",
       " 'U:\\\\Working\\\\Rangelands\\\\Spatial Data\\\\NAFI Firescars\\\\2016 firescars\\\\Raster\\\\FS2016_MTH.tif',\n",
       " 'U:\\\\Working\\\\Rangelands\\\\Spatial Data\\\\NAFI Firescars\\\\2017 firescars\\\\FS2017_MTHS.tif',\n",
       " 'U:\\\\Working\\\\Rangelands\\\\Spatial Data\\\\NAFI Firescars\\\\2018 firescars\\\\Raster\\\\fs2018M.tif',\n",
       " 'U:\\\\Working\\\\Rangelands\\\\Spatial Data\\\\NAFI Firescars\\\\2019 firescars\\\\Raster\\\\fs2019.tif',\n",
       " 'U:\\\\Working\\\\Rangelands\\\\Spatial Data\\\\NAFI Firescars\\\\2020 firescars\\\\fs2020.tif']"
      ]
     },
     "execution_count": 2,
     "metadata": {},
     "output_type": "execute_result"
    }
   ],
   "source": [
    "\n",
    "def listdir(dirname,endfilename,scratchDir):\n",
    "    \"\"\"\n",
    "    this function will return a list of files in a directory for the given file extention \"endfilename\". \n",
    "    \"\"\"\n",
    "    list_img = []\n",
    "    \n",
    "    #os.mkdir(scratchDir)\n",
    "     \n",
    "    for root, dirs, files in os.walk(dirname):\n",
    "        for file in files:\n",
    "            if file.endswith(endfilename):\n",
    "                img = (os.path.join(root, file))\n",
    "                list_img.append(img)\n",
    "                #print (img)\n",
    "                #shutil.copy(os.path.abspath(img), scratchDir)\n",
    "    print(\"Script has finished\")\n",
    "    return list_img\n",
    "\n",
    "dirname = r'U:\\Working\\Rangelands\\Spatial Data\\NAFI Firescars'\n",
    "endfilename = '.tif'\n",
    "scratchDir = r'Z:\\Scratch\\Zonal_Stats_Pipeline\\Firescars\\NAFI_fire_rasters'\n",
    "\n",
    "listdir(dirname,endfilename,scratchDir)"
   ]
  },
  {
   "cell_type": "code",
   "execution_count": 2,
   "metadata": {},
   "outputs": [],
   "source": [
    "f_path = 'U:\\\\Working\\\\Rangelands\\\\Spatial Data\\\\NAFI Firescars\\\\2000 firescars\\\\Raster\\\\FS2000_MTH.tif'"
   ]
  },
  {
   "cell_type": "code",
   "execution_count": 3,
   "metadata": {},
   "outputs": [],
   "source": [
    "# Open DTM and DSM files\n",
    "with rio.open(f_path) as src:\n",
    "    fire_im = src.read(1, masked=True)\n",
    "    #spatial_extent = plotting_extent(src)"
   ]
  },
  {
   "cell_type": "code",
   "execution_count": 4,
   "metadata": {},
   "outputs": [
    {
     "data": {
      "text/plain": [
       "masked_array(\n",
       "  data=[[0, 0, 0, ..., 0, 0, 0],\n",
       "        [0, 0, 0, ..., 0, 0, 0],\n",
       "        [0, 0, 0, ..., 0, 0, 0],\n",
       "        ...,\n",
       "        [0, 0, 0, ..., 0, 0, 0],\n",
       "        [0, 0, 0, ..., 0, 0, 0],\n",
       "        [0, 0, 0, ..., 0, 0, 0]],\n",
       "  mask=False,\n",
       "  fill_value=999999,\n",
       "  dtype=uint8)"
      ]
     },
     "execution_count": 4,
     "metadata": {},
     "output_type": "execute_result"
    }
   ],
   "source": [
    "fire_im"
   ]
  },
  {
   "cell_type": "code",
   "execution_count": 5,
   "metadata": {},
   "outputs": [
    {
     "data": {
      "text/plain": [
       "2"
      ]
     },
     "execution_count": 5,
     "metadata": {},
     "output_type": "execute_result"
    }
   ],
   "source": [
    "fire_im.ndim"
   ]
  },
  {
   "cell_type": "code",
   "execution_count": 6,
   "metadata": {},
   "outputs": [
    {
     "data": {
      "text/plain": [
       "101414552"
      ]
     },
     "execution_count": 6,
     "metadata": {},
     "output_type": "execute_result"
    }
   ],
   "source": [
    "fire_im.size"
   ]
  },
  {
   "cell_type": "code",
   "execution_count": 7,
   "metadata": {},
   "outputs": [
    {
     "data": {
      "text/plain": [
       "(7334, 13828)"
      ]
     },
     "execution_count": 7,
     "metadata": {},
     "output_type": "execute_result"
    }
   ],
   "source": [
    "fire_im.shape"
   ]
  },
  {
   "cell_type": "code",
   "execution_count": 8,
   "metadata": {},
   "outputs": [
    {
     "ename": "CRSError",
     "evalue": "Invalid projection: epsg:4283: (Internal Proj Error: proj_create: cannot build geodeticCRS 4283: SQLite error on SELECT name, ellipsoid_auth_name, ellipsoid_code, prime_meridian_auth_name, prime_meridian_code, area_of_use_auth_name, area_of_use_code, publication_date, deprecated FROM geodetic_datum WHERE auth_name = ? AND code = ?: no such column: publication_date)",
     "output_type": "error",
     "traceback": [
      "\u001b[1;31m---------------------------------------------------------------------------\u001b[0m",
      "\u001b[1;31mCRSError\u001b[0m                                  Traceback (most recent call last)",
      "\u001b[1;32m<ipython-input-8-34c577465474>\u001b[0m in \u001b[0;36m<module>\u001b[1;34m\u001b[0m\n\u001b[1;32m----> 1\u001b[1;33m \u001b[0mcadastre\u001b[0m \u001b[1;33m=\u001b[0m \u001b[0mgpd\u001b[0m\u001b[1;33m.\u001b[0m\u001b[0mread_file\u001b[0m\u001b[1;33m(\u001b[0m\u001b[1;34mr'U:\\LIB_Common\\Cadastre\\Datasets\\Av_data\\Cadastre.shp'\u001b[0m\u001b[1;33m)\u001b[0m\u001b[1;33m\u001b[0m\u001b[1;33m\u001b[0m\u001b[0m\n\u001b[0m\u001b[0;32m      2\u001b[0m \u001b[0mcadastre\u001b[0m\u001b[1;33m.\u001b[0m\u001b[0mhead\u001b[0m\u001b[1;33m(\u001b[0m\u001b[1;33m)\u001b[0m\u001b[1;33m\u001b[0m\u001b[1;33m\u001b[0m\u001b[0m\n",
      "\u001b[1;32mC:\\ProgramData\\Anaconda3\\envs\\earth-analytics\\lib\\site-packages\\geopandas\\io\\file.py\u001b[0m in \u001b[0;36m_read_file\u001b[1;34m(filename, bbox, mask, rows, **kwargs)\u001b[0m\n\u001b[0;32m    138\u001b[0m \u001b[1;33m\u001b[0m\u001b[0m\n\u001b[0;32m    139\u001b[0m             return GeoDataFrame.from_features(\n\u001b[1;32m--> 140\u001b[1;33m                 \u001b[0mf_filt\u001b[0m\u001b[1;33m,\u001b[0m \u001b[0mcrs\u001b[0m\u001b[1;33m=\u001b[0m\u001b[0mcrs\u001b[0m\u001b[1;33m,\u001b[0m \u001b[0mcolumns\u001b[0m\u001b[1;33m=\u001b[0m\u001b[0mcolumns\u001b[0m \u001b[1;33m+\u001b[0m \u001b[1;33m[\u001b[0m\u001b[1;34m\"geometry\"\u001b[0m\u001b[1;33m]\u001b[0m\u001b[1;33m\u001b[0m\u001b[1;33m\u001b[0m\u001b[0m\n\u001b[0m\u001b[0;32m    141\u001b[0m             )\n\u001b[0;32m    142\u001b[0m \u001b[1;33m\u001b[0m\u001b[0m\n",
      "\u001b[1;32mC:\\ProgramData\\Anaconda3\\envs\\earth-analytics\\lib\\site-packages\\geopandas\\geodataframe.py\u001b[0m in \u001b[0;36mfrom_features\u001b[1;34m(cls, features, crs, columns)\u001b[0m\n\u001b[0;32m    430\u001b[0m             \u001b[0mrow\u001b[0m\u001b[1;33m.\u001b[0m\u001b[0mupdate\u001b[0m\u001b[1;33m(\u001b[0m\u001b[0mfeature\u001b[0m\u001b[1;33m[\u001b[0m\u001b[1;34m\"properties\"\u001b[0m\u001b[1;33m]\u001b[0m\u001b[1;33m)\u001b[0m\u001b[1;33m\u001b[0m\u001b[1;33m\u001b[0m\u001b[0m\n\u001b[0;32m    431\u001b[0m             \u001b[0mrows\u001b[0m\u001b[1;33m.\u001b[0m\u001b[0mappend\u001b[0m\u001b[1;33m(\u001b[0m\u001b[0mrow\u001b[0m\u001b[1;33m)\u001b[0m\u001b[1;33m\u001b[0m\u001b[1;33m\u001b[0m\u001b[0m\n\u001b[1;32m--> 432\u001b[1;33m         \u001b[1;32mreturn\u001b[0m \u001b[0mGeoDataFrame\u001b[0m\u001b[1;33m(\u001b[0m\u001b[0mrows\u001b[0m\u001b[1;33m,\u001b[0m \u001b[0mcolumns\u001b[0m\u001b[1;33m=\u001b[0m\u001b[0mcolumns\u001b[0m\u001b[1;33m,\u001b[0m \u001b[0mcrs\u001b[0m\u001b[1;33m=\u001b[0m\u001b[0mcrs\u001b[0m\u001b[1;33m)\u001b[0m\u001b[1;33m\u001b[0m\u001b[1;33m\u001b[0m\u001b[0m\n\u001b[0m\u001b[0;32m    433\u001b[0m \u001b[1;33m\u001b[0m\u001b[0m\n\u001b[0;32m    434\u001b[0m     \u001b[1;33m@\u001b[0m\u001b[0mclassmethod\u001b[0m\u001b[1;33m\u001b[0m\u001b[1;33m\u001b[0m\u001b[0m\n",
      "\u001b[1;32mC:\\ProgramData\\Anaconda3\\envs\\earth-analytics\\lib\\site-packages\\geopandas\\geodataframe.py\u001b[0m in \u001b[0;36m__init__\u001b[1;34m(self, *args, **kwargs)\u001b[0m\n\u001b[0;32m    120\u001b[0m                     )\n\u001b[0;32m    121\u001b[0m                     \u001b[1;31m# TODO: raise error in 0.9 or 0.10.\u001b[0m\u001b[1;33m\u001b[0m\u001b[1;33m\u001b[0m\u001b[1;33m\u001b[0m\u001b[0m\n\u001b[1;32m--> 122\u001b[1;33m                 \u001b[0mself\u001b[0m\u001b[1;33m[\u001b[0m\u001b[1;34m\"geometry\"\u001b[0m\u001b[1;33m]\u001b[0m \u001b[1;33m=\u001b[0m \u001b[0m_ensure_geometry\u001b[0m\u001b[1;33m(\u001b[0m\u001b[0mself\u001b[0m\u001b[1;33m[\u001b[0m\u001b[1;34m\"geometry\"\u001b[0m\u001b[1;33m]\u001b[0m\u001b[1;33m.\u001b[0m\u001b[0mvalues\u001b[0m\u001b[1;33m,\u001b[0m \u001b[0mcrs\u001b[0m\u001b[1;33m)\u001b[0m\u001b[1;33m\u001b[0m\u001b[1;33m\u001b[0m\u001b[0m\n\u001b[0m\u001b[0;32m    123\u001b[0m             \u001b[1;32mexcept\u001b[0m \u001b[0mTypeError\u001b[0m\u001b[1;33m:\u001b[0m\u001b[1;33m\u001b[0m\u001b[1;33m\u001b[0m\u001b[0m\n\u001b[0;32m    124\u001b[0m                 \u001b[1;32mpass\u001b[0m\u001b[1;33m\u001b[0m\u001b[1;33m\u001b[0m\u001b[0m\n",
      "\u001b[1;32mC:\\ProgramData\\Anaconda3\\envs\\earth-analytics\\lib\\site-packages\\geopandas\\geodataframe.py\u001b[0m in \u001b[0;36m_ensure_geometry\u001b[1;34m(data, crs)\u001b[0m\n\u001b[0;32m     40\u001b[0m             \u001b[1;32mreturn\u001b[0m \u001b[0mGeoSeries\u001b[0m\u001b[1;33m(\u001b[0m\u001b[0mout\u001b[0m\u001b[1;33m,\u001b[0m \u001b[0mindex\u001b[0m\u001b[1;33m=\u001b[0m\u001b[0mdata\u001b[0m\u001b[1;33m.\u001b[0m\u001b[0mindex\u001b[0m\u001b[1;33m,\u001b[0m \u001b[0mname\u001b[0m\u001b[1;33m=\u001b[0m\u001b[0mdata\u001b[0m\u001b[1;33m.\u001b[0m\u001b[0mname\u001b[0m\u001b[1;33m)\u001b[0m\u001b[1;33m\u001b[0m\u001b[1;33m\u001b[0m\u001b[0m\n\u001b[0;32m     41\u001b[0m         \u001b[1;32melse\u001b[0m\u001b[1;33m:\u001b[0m\u001b[1;33m\u001b[0m\u001b[1;33m\u001b[0m\u001b[0m\n\u001b[1;32m---> 42\u001b[1;33m             \u001b[0mout\u001b[0m \u001b[1;33m=\u001b[0m \u001b[0mfrom_shapely\u001b[0m\u001b[1;33m(\u001b[0m\u001b[0mdata\u001b[0m\u001b[1;33m,\u001b[0m \u001b[0mcrs\u001b[0m\u001b[1;33m=\u001b[0m\u001b[0mcrs\u001b[0m\u001b[1;33m)\u001b[0m\u001b[1;33m\u001b[0m\u001b[1;33m\u001b[0m\u001b[0m\n\u001b[0m\u001b[0;32m     43\u001b[0m             \u001b[1;32mreturn\u001b[0m \u001b[0mout\u001b[0m\u001b[1;33m\u001b[0m\u001b[1;33m\u001b[0m\u001b[0m\n\u001b[0;32m     44\u001b[0m \u001b[1;33m\u001b[0m\u001b[0m\n",
      "\u001b[1;32mC:\\ProgramData\\Anaconda3\\envs\\earth-analytics\\lib\\site-packages\\geopandas\\array.py\u001b[0m in \u001b[0;36mfrom_shapely\u001b[1;34m(data, crs)\u001b[0m\n\u001b[0;32m    164\u001b[0m \u001b[1;33m\u001b[0m\u001b[0m\n\u001b[0;32m    165\u001b[0m     \"\"\"\n\u001b[1;32m--> 166\u001b[1;33m     \u001b[1;32mreturn\u001b[0m \u001b[0mGeometryArray\u001b[0m\u001b[1;33m(\u001b[0m\u001b[0mvectorized\u001b[0m\u001b[1;33m.\u001b[0m\u001b[0mfrom_shapely\u001b[0m\u001b[1;33m(\u001b[0m\u001b[0mdata\u001b[0m\u001b[1;33m)\u001b[0m\u001b[1;33m,\u001b[0m \u001b[0mcrs\u001b[0m\u001b[1;33m=\u001b[0m\u001b[0mcrs\u001b[0m\u001b[1;33m)\u001b[0m\u001b[1;33m\u001b[0m\u001b[1;33m\u001b[0m\u001b[0m\n\u001b[0m\u001b[0;32m    167\u001b[0m \u001b[1;33m\u001b[0m\u001b[0m\n\u001b[0;32m    168\u001b[0m \u001b[1;33m\u001b[0m\u001b[0m\n",
      "\u001b[1;32mC:\\ProgramData\\Anaconda3\\envs\\earth-analytics\\lib\\site-packages\\geopandas\\array.py\u001b[0m in \u001b[0;36m__init__\u001b[1;34m(self, data, crs)\u001b[0m\n\u001b[0;32m    279\u001b[0m \u001b[1;33m\u001b[0m\u001b[0m\n\u001b[0;32m    280\u001b[0m         \u001b[0mself\u001b[0m\u001b[1;33m.\u001b[0m\u001b[0m_crs\u001b[0m \u001b[1;33m=\u001b[0m \u001b[1;32mNone\u001b[0m\u001b[1;33m\u001b[0m\u001b[1;33m\u001b[0m\u001b[0m\n\u001b[1;32m--> 281\u001b[1;33m         \u001b[0mself\u001b[0m\u001b[1;33m.\u001b[0m\u001b[0mcrs\u001b[0m \u001b[1;33m=\u001b[0m \u001b[0mcrs\u001b[0m\u001b[1;33m\u001b[0m\u001b[1;33m\u001b[0m\u001b[0m\n\u001b[0m\u001b[0;32m    282\u001b[0m \u001b[1;33m\u001b[0m\u001b[0m\n\u001b[0;32m    283\u001b[0m     \u001b[1;33m@\u001b[0m\u001b[0mproperty\u001b[0m\u001b[1;33m\u001b[0m\u001b[1;33m\u001b[0m\u001b[0m\n",
      "\u001b[1;32mC:\\ProgramData\\Anaconda3\\envs\\earth-analytics\\lib\\site-packages\\geopandas\\array.py\u001b[0m in \u001b[0;36mcrs\u001b[1;34m(self, value)\u001b[0m\n\u001b[0;32m    298\u001b[0m     \u001b[1;32mdef\u001b[0m \u001b[0mcrs\u001b[0m\u001b[1;33m(\u001b[0m\u001b[0mself\u001b[0m\u001b[1;33m,\u001b[0m \u001b[0mvalue\u001b[0m\u001b[1;33m)\u001b[0m\u001b[1;33m:\u001b[0m\u001b[1;33m\u001b[0m\u001b[1;33m\u001b[0m\u001b[0m\n\u001b[0;32m    299\u001b[0m         \u001b[1;34m\"\"\"Sets the value of the crs\"\"\"\u001b[0m\u001b[1;33m\u001b[0m\u001b[1;33m\u001b[0m\u001b[0m\n\u001b[1;32m--> 300\u001b[1;33m         \u001b[0mself\u001b[0m\u001b[1;33m.\u001b[0m\u001b[0m_crs\u001b[0m \u001b[1;33m=\u001b[0m \u001b[1;32mNone\u001b[0m \u001b[1;32mif\u001b[0m \u001b[1;32mnot\u001b[0m \u001b[0mvalue\u001b[0m \u001b[1;32melse\u001b[0m \u001b[0mCRS\u001b[0m\u001b[1;33m.\u001b[0m\u001b[0mfrom_user_input\u001b[0m\u001b[1;33m(\u001b[0m\u001b[0mvalue\u001b[0m\u001b[1;33m)\u001b[0m\u001b[1;33m\u001b[0m\u001b[1;33m\u001b[0m\u001b[0m\n\u001b[0m\u001b[0;32m    301\u001b[0m \u001b[1;33m\u001b[0m\u001b[0m\n\u001b[0;32m    302\u001b[0m     \u001b[1;32mdef\u001b[0m \u001b[0mcheck_geographic_crs\u001b[0m\u001b[1;33m(\u001b[0m\u001b[0mself\u001b[0m\u001b[1;33m,\u001b[0m \u001b[0mstacklevel\u001b[0m\u001b[1;33m)\u001b[0m\u001b[1;33m:\u001b[0m\u001b[1;33m\u001b[0m\u001b[1;33m\u001b[0m\u001b[0m\n",
      "\u001b[1;32mC:\\ProgramData\\Anaconda3\\envs\\earth-analytics\\lib\\site-packages\\pyproj\\crs\\crs.py\u001b[0m in \u001b[0;36mfrom_user_input\u001b[1;34m(value, **kwargs)\u001b[0m\n\u001b[0;32m    438\u001b[0m         \u001b[1;32mif\u001b[0m \u001b[0misinstance\u001b[0m\u001b[1;33m(\u001b[0m\u001b[0mvalue\u001b[0m\u001b[1;33m,\u001b[0m \u001b[0mCRS\u001b[0m\u001b[1;33m)\u001b[0m\u001b[1;33m:\u001b[0m\u001b[1;33m\u001b[0m\u001b[1;33m\u001b[0m\u001b[0m\n\u001b[0;32m    439\u001b[0m             \u001b[1;32mreturn\u001b[0m \u001b[0mvalue\u001b[0m\u001b[1;33m\u001b[0m\u001b[1;33m\u001b[0m\u001b[0m\n\u001b[1;32m--> 440\u001b[1;33m         \u001b[1;32mreturn\u001b[0m \u001b[0mCRS\u001b[0m\u001b[1;33m(\u001b[0m\u001b[0mvalue\u001b[0m\u001b[1;33m,\u001b[0m \u001b[1;33m**\u001b[0m\u001b[0mkwargs\u001b[0m\u001b[1;33m)\u001b[0m\u001b[1;33m\u001b[0m\u001b[1;33m\u001b[0m\u001b[0m\n\u001b[0m\u001b[0;32m    441\u001b[0m \u001b[1;33m\u001b[0m\u001b[0m\n\u001b[0;32m    442\u001b[0m     \u001b[1;32mdef\u001b[0m \u001b[0mget_geod\u001b[0m\u001b[1;33m(\u001b[0m\u001b[0mself\u001b[0m\u001b[1;33m)\u001b[0m \u001b[1;33m->\u001b[0m \u001b[0mOptional\u001b[0m\u001b[1;33m[\u001b[0m\u001b[0mGeod\u001b[0m\u001b[1;33m]\u001b[0m\u001b[1;33m:\u001b[0m\u001b[1;33m\u001b[0m\u001b[1;33m\u001b[0m\u001b[0m\n",
      "\u001b[1;32mC:\\ProgramData\\Anaconda3\\envs\\earth-analytics\\lib\\site-packages\\pyproj\\crs\\crs.py\u001b[0m in \u001b[0;36m__init__\u001b[1;34m(self, projparams, **kwargs)\u001b[0m\n\u001b[0;32m    294\u001b[0m             \u001b[0mprojstring\u001b[0m \u001b[1;33m=\u001b[0m \u001b[0m_prepare_from_string\u001b[0m\u001b[1;33m(\u001b[0m\u001b[1;34m\" \"\u001b[0m\u001b[1;33m.\u001b[0m\u001b[0mjoin\u001b[0m\u001b[1;33m(\u001b[0m\u001b[1;33m(\u001b[0m\u001b[0mprojstring\u001b[0m\u001b[1;33m,\u001b[0m \u001b[0mprojkwargs\u001b[0m\u001b[1;33m)\u001b[0m\u001b[1;33m)\u001b[0m\u001b[1;33m)\u001b[0m\u001b[1;33m\u001b[0m\u001b[1;33m\u001b[0m\u001b[0m\n\u001b[0;32m    295\u001b[0m \u001b[1;33m\u001b[0m\u001b[0m\n\u001b[1;32m--> 296\u001b[1;33m         \u001b[0msuper\u001b[0m\u001b[1;33m(\u001b[0m\u001b[1;33m)\u001b[0m\u001b[1;33m.\u001b[0m\u001b[0m__init__\u001b[0m\u001b[1;33m(\u001b[0m\u001b[0mprojstring\u001b[0m\u001b[1;33m)\u001b[0m\u001b[1;33m\u001b[0m\u001b[1;33m\u001b[0m\u001b[0m\n\u001b[0m\u001b[0;32m    297\u001b[0m \u001b[1;33m\u001b[0m\u001b[0m\n\u001b[0;32m    298\u001b[0m     \u001b[1;33m@\u001b[0m\u001b[0mstaticmethod\u001b[0m\u001b[1;33m\u001b[0m\u001b[1;33m\u001b[0m\u001b[0m\n",
      "\u001b[1;32mpyproj/_crs.pyx\u001b[0m in \u001b[0;36mpyproj._crs._CRS.__init__\u001b[1;34m()\u001b[0m\n",
      "\u001b[1;31mCRSError\u001b[0m: Invalid projection: epsg:4283: (Internal Proj Error: proj_create: cannot build geodeticCRS 4283: SQLite error on SELECT name, ellipsoid_auth_name, ellipsoid_code, prime_meridian_auth_name, prime_meridian_code, area_of_use_auth_name, area_of_use_code, publication_date, deprecated FROM geodetic_datum WHERE auth_name = ? AND code = ?: no such column: publication_date)"
     ]
    }
   ],
   "source": [
    "cadastre = gpd.read_file(r'U:\\LIB_Common\\Cadastre\\Datasets\\Av_data\\Cadastre.shp')\n",
    "cadastre.head()"
   ]
  },
  {
   "cell_type": "code",
   "execution_count": null,
   "metadata": {},
   "outputs": [],
   "source": [
    "\n",
    "cmap = {1: 'Jan', 2: 'Feb', 3: 'March', 4: 'April', 5: 'May', 6: 'June', 7: 'July', 8: 'Aug', 9: 'Sep', 10: 'Oct', 11: 'Nov', 12: 'Dec'}\n",
    "zs = zonal_stats(r\"Z:\\Scratch\\Zonal_Stats_Pipeline\\shapefiles\\property\\new\\property_birrimba_GDA94.shp\",r\"U:\\Working\\Rangelands\\Spatial Data\\NAFI Firescars\\2020 firescars\\fs2020.tif\", categorical=True, category_map=cmap, nodata = 255)\n",
    "\n",
    "for zone in zs:\n",
    "    # extract \"values\" as a tuple from a dictonary\n",
    "    keys, values = zip(*zone.items())\n",
    "    print(keys)\n",
    "    print(values)\n"
   ]
  },
  {
   "cell_type": "code",
   "execution_count": null,
   "metadata": {},
   "outputs": [],
   "source": [
    "\n",
    "zonal_stats(r'C:\\Users\\rmcgr\\Desktop\\firemaps\\Moroak_GCS1994_GDA.shp','U:\\\\Working\\\\Rangelands\\\\Spatial Data\\\\NAFI Firescars\\\\2001 firescars\\\\Raster\\\\FS2001_MTH.tif', categorical=True, nodata = 0.0)"
   ]
  },
  {
   "cell_type": "code",
   "execution_count": null,
   "metadata": {},
   "outputs": [],
   "source": [
    "import geopandas as gpd\n",
    "import os\n",
    "import shutil\n",
    "import glob\n",
    "import pandas as pd\n",
    "import numpy as np\n",
    "import rasterio as rio\n",
    "import rasterio.plot\n",
    "import pyproj\n",
    "import numpy as np\n",
    "import matplotlib\n",
    "import matplotlib.pyplot as plt\n",
    "#import earthpy as ep\n",
    "#import earthpy.plot as ep\n",
    "import seaborn as sns\n",
    "import fiona\n",
    "import rasterstats\n",
    "from rasterstats import zonal_stats\n",
    "\n",
    "\n",
    "# Prettier plotting with seaborn\n",
    "sns.set(font_scale=1.5, style=\"white\")\n",
    "\n",
    "\n",
    "def listdir(dirname,endfilename,scratchDir):\n",
    "    \"\"\"\n",
    "    this function will return a list of files in a directory for the given file extention \"endfilename\". \n",
    "    \"\"\"\n",
    "    list_img = []\n",
    "     \n",
    "    for root, dirs, files in os.walk(dirname):\n",
    "        for file in files:\n",
    "            if file.endswith(endfilename):\n",
    "                img = (os.path.join(root, file))\n",
    "                list_img.append(img)\n",
    "                #print (img)\n",
    "                shutil.copy(os.path.abspath(img), scratchDir)\n",
    "    print(\"Script has finished\")\n",
    "    return list_img\n",
    "\n",
    "dirname = r'U:\\Working\\Rangelands\\Spatial Data\\NAFI Firescars'\n",
    "endfilename = 'MTH.tif'\n",
    "scratchDir = r'C:\\Users\\rmcgr\\Desktop\\firemaps\\scratch'\n",
    "\n",
    "listdir(dirname,endfilename,scratchDir)\n",
    "\n",
    "\n",
    "\n",
    "\n",
    "\n",
    "\n",
    "\n",
    "\n",
    "\n",
    "imlist = r\"Z:\\Scratch\\Zonal_Stats_Pipeline\\Firescars\\NAFI_fire_rasters\\fire_list.csv\"\n",
    "shape = r\"Z:\\Scratch\\Zonal_Stats_Pipeline\\shapefiles\\property\\property_hayfield_output_GDA94.shp\"\n",
    "\n",
    "image_name =[]\n",
    "image_date =[]\n",
    "site_li =[]\n",
    "zoneclass =[]\n",
    "zoneresults =[]\n",
    "\n",
    "\n",
    "\n",
    "#def mainRoutine():\n",
    "        \n",
    "# read in the command arguments\n",
    "\"\"\"cmdargs = getCmdargs()\n",
    "imlist = cmdargs.imlist\n",
    "nodata= int(cmdargs.nodata)\n",
    "shape = cmdargs.shape \n",
    "uid = cmdargs.uid\n",
    "export_csv = cmdargs.csv\"\"\" \n",
    "\n",
    "# check if the \"temp_individual_bands\" file already exists and delete it if it does.\n",
    "tempDir = 'temp_individual_bands'       \n",
    "try:\n",
    "    shutil.rmtree(tempDir)\n",
    "\n",
    "except:\n",
    "    print(\"The following directory was deleted: \", tempDir)\n",
    "\n",
    "# create temporary folders\n",
    "tempDir = 'temp_individual_bands'\n",
    "os.makedirs(tempDir)\n",
    "\n",
    "with open(imlist, \"r\") as imagerylist:\n",
    "\n",
    "    #Extract each image path from the image list\n",
    "    for image in imagerylist:\n",
    "        print(image)\n",
    "\n",
    "        # cleans the file pathway (Windows)\n",
    "        imageS = image.rstrip()\n",
    "        print(\"imageS: \", imageS)\n",
    "        im_name = imageS[-14:]\n",
    "        print(im_name)\n",
    "        \n",
    "        # loops through each image\n",
    "        with rasterio.open(imageS, nodata= -9999) as srci:\n",
    "            imageResults = 'image_' + im_name + '.csv'\n",
    "            # runs the zonal stats function and outputs a csv in a band specific folder\n",
    "            #finalresults = applyZonalstats(imageS, nodata, band, shape, uid)\n",
    "           \n",
    "            \"\"\"--------------------------------------------------------------------------------------------------------------\"\"\"\n",
    "\n",
    "            #def applyZonalstats(imageS, nodata, band, shape, uid):\n",
    "\n",
    "            '''image_name =[]\n",
    "            image_date =[]\n",
    "            site_li =[]\n",
    "            zoneclass =[]\n",
    "            zoneresults =[]'''\n",
    "\n",
    "\n",
    "            with rasterio.open(imageS, nodata=255.0) as srci:\n",
    "                affine = srci.transform #srci.transform is the new srci.affine\n",
    "                array = srci.read(1)\n",
    "\n",
    "                with fiona.open(shape) as src:\n",
    "                    # using \"all_touched=True\" will increase the number of pixels used to produce the stats \"False\" reduces the number\n",
    "\n",
    "                    cmap = {1: 'Jan', 2: 'Feb', 3: 'March', 4: 'April', 5: 'May', 6: 'June', 7: 'July', 8: 'Aug', 9: 'Sep', 10: 'Oct', 11: 'Nov', 12: 'Dec'}\n",
    "                    zs = zonal_stats(src, array, affine=affine, stats=['sum'],categorical=True, category_map=cmap, nodata = 255.0)\n",
    "                    print(zs)\n",
    "                    print(array)\n",
    "\n",
    "                    # extract image name and append to list\n",
    "                    imgName = str(srci)[-25:-10]\n",
    "                    print(\"imgName: \", image)\n",
    "                    image_name.append(image)\n",
    "                    # extract image date and append to list\n",
    "                    imgDate = str(srci)[-23:-19]\n",
    "                    print(\"imgDate: \", imgDate)\n",
    "                    image_date.append(imgDate)\n",
    "\n",
    "                    for zone in zs:\n",
    "                        # extract \"values\" as a tuple from a dictonary\n",
    "                        keys, values = zip(*zone.items())\n",
    "                        print(keys, values)\n",
    "                        result = list(values)\n",
    "                        zoneresults.append(result)\n",
    "                        key = list(keys)\n",
    "                        zoneclass.append(key)\n",
    "                        print(\"Keys: \", keys)\n",
    "                        print(\"Values: \", values)\n",
    "                        \"\"\"if values >= 1:\n",
    "                            result = list(values)\n",
    "                            zoneresults.append(result)\n",
    "                            key = list(keys)\n",
    "                            zoneclass.append(key)\n",
    "                            print(\"Keys: \", keys)\n",
    "                            print(\"Values: \", values)\n",
    "                        else:\n",
    "                            result = 0\n",
    "                            zoneresults.append(result)\n",
    "                            key = 0\n",
    "                            zoneclass.append(key)\n",
    "                            print(\"Keys: \", keys)\n",
    "                            print(\"Values: \", values)\"\"\"\n",
    "                            \n",
    "\n",
    "                    for i in src:\n",
    "                        # extract shapefile records\n",
    "                        table_attributes = i['properties']  \n",
    "\n",
    "                        \"\"\"uid_ = table_attributes[uid]  \n",
    "                        details = [uid_]\n",
    "                        uid_li.append(details)\"\"\"\n",
    "\n",
    "                        site = table_attributes[\"PROP_NAME\"]\n",
    "                        site_ = [site]\n",
    "                        site_li.append(site_)\n",
    "\n",
    "                        # join the elements in each of the lists row by row \n",
    "                        finalresults =  [site_li + zoneclass + zoneresults  for site_li,  zoneclass, zoneresults in zip(site_li, zoneclass, zoneresults)]\n",
    "                        print(\"Final results: \", finalresults)\n",
    "\n",
    "                        df  = pd.DataFrame.from_records(finalresults)\n",
    "                        #df['band']= band\n",
    "                        df['image']= imgName\n",
    "                        df['date']= imgDate\n",
    "                        print(\"DF: \", df)\n",
    "                        df.to_csv(tempDir + '//' + imageResults, index=False) \n",
    "\n",
    "                        # close the vector and raster file \n",
    "                        #src.close() \n",
    "                        srci.close()\n",
    "\n",
    "                        # print out the file name of the processed image\n",
    "                        print (imgName + ' ' + imgDate + ' ' + str(site) + ' ' + 'zone stats are complete')\n",
    "\n",
    "                        #return(finalresults)\n",
    "\n",
    "                        \"\"\"--------------------------------------------------------------------------------------------------------\"\"\"\n",
    "\n",
    "                        #RETURN TO MAIN FUNCTION\n",
    "\n",
    "                        #header = ['number', 'site', 'min', 'max', 'mean', 'count']#, 'std', 'median'\n",
    "\n",
    "                        \"\"\"df  = pd.DataFrame.from_records(finalresults)\n",
    "                        #df['band']= band\n",
    "                        df['image']= imgName\n",
    "                        df['date']= imgDate\n",
    "                        print(\"DF: \", df)\n",
    "                        df.to_csv(tempDir + '//' + imageResults, index=False) \"\"\"\n",
    "        "
   ]
  },
  {
   "cell_type": "markdown",
   "metadata": {},
   "source": [
    "## This is the final script as a working cell."
   ]
  },
  {
   "cell_type": "markdown",
   "metadata": {},
   "source": [
    "Loads zonal stast as a dictionary"
   ]
  },
  {
   "cell_type": "code",
   "execution_count": 9,
   "metadata": {},
   "outputs": [
    {
     "name": "stdout",
     "output_type": "stream",
     "text": [
      "Script has finished\n",
      "Z:\\Scratch\\Zonal_Stats_Pipeline\\Firescars\\NAFI_fire_rasters\\FS2000_MTH.tif\n",
      "\n",
      "imageS:  Z:\\Scratch\\Zonal_Stats_Pipeline\\Firescars\\NAFI_fire_rasters\\FS2000_MTH.tif\n",
      "Im_Name:  FS2000_MTH.tif\n",
      "[[0 0 0 ... 0 0 0]\n",
      " [0 0 0 ... 0 0 0]\n",
      " [0 0 0 ... 0 0 0]\n",
      " ...\n",
      " [0 0 0 ... 0 0 0]\n",
      " [0 0 0 ... 0 0 0]\n",
      " [0 0 0 ... 0 0 0]]\n"
     ]
    },
    {
     "name": "stderr",
     "output_type": "stream",
     "text": [
      "C:\\ProgramData\\Anaconda3\\envs\\earth-analytics\\lib\\site-packages\\rasterio\\__init__.py:218: NotGeoreferencedWarning: Dataset has no geotransform set. The identity matrix may be returned.\n",
      "  s = DatasetReader(path, driver=driver, sharing=sharing, **kwargs)\n"
     ]
    },
    {
     "ename": "ValueError",
     "evalue": "width and height must be > 0",
     "output_type": "error",
     "traceback": [
      "\u001b[1;31m---------------------------------------------------------------------------\u001b[0m",
      "\u001b[1;31mValueError\u001b[0m                                Traceback (most recent call last)",
      "\u001b[1;32m<ipython-input-9-2161e8e82d76>\u001b[0m in \u001b[0;36m<module>\u001b[1;34m\u001b[0m\n\u001b[0;32m    118\u001b[0m                     \u001b[0mcmap\u001b[0m \u001b[1;33m=\u001b[0m \u001b[1;33m{\u001b[0m\u001b[1;36m1\u001b[0m\u001b[1;33m:\u001b[0m \u001b[1;34m'Jan'\u001b[0m\u001b[1;33m,\u001b[0m \u001b[1;36m2\u001b[0m\u001b[1;33m:\u001b[0m \u001b[1;34m'Feb'\u001b[0m\u001b[1;33m,\u001b[0m \u001b[1;36m3\u001b[0m\u001b[1;33m:\u001b[0m \u001b[1;34m'March'\u001b[0m\u001b[1;33m,\u001b[0m \u001b[1;36m4\u001b[0m\u001b[1;33m:\u001b[0m \u001b[1;34m'April'\u001b[0m\u001b[1;33m,\u001b[0m \u001b[1;36m5\u001b[0m\u001b[1;33m:\u001b[0m \u001b[1;34m'May'\u001b[0m\u001b[1;33m,\u001b[0m \u001b[1;36m6\u001b[0m\u001b[1;33m:\u001b[0m \u001b[1;34m'June'\u001b[0m\u001b[1;33m,\u001b[0m \u001b[1;36m7\u001b[0m\u001b[1;33m:\u001b[0m \u001b[1;34m'July'\u001b[0m\u001b[1;33m,\u001b[0m \u001b[1;36m8\u001b[0m\u001b[1;33m:\u001b[0m \u001b[1;34m'Aug'\u001b[0m\u001b[1;33m,\u001b[0m \u001b[1;36m9\u001b[0m\u001b[1;33m:\u001b[0m \u001b[1;34m'Sep'\u001b[0m\u001b[1;33m,\u001b[0m \u001b[1;36m10\u001b[0m\u001b[1;33m:\u001b[0m \u001b[1;34m'Oct'\u001b[0m\u001b[1;33m,\u001b[0m \u001b[1;36m11\u001b[0m\u001b[1;33m:\u001b[0m \u001b[1;34m'Nov'\u001b[0m\u001b[1;33m,\u001b[0m \u001b[1;36m12\u001b[0m\u001b[1;33m:\u001b[0m \u001b[1;34m'Dec'\u001b[0m\u001b[1;33m}\u001b[0m\u001b[1;33m\u001b[0m\u001b[1;33m\u001b[0m\u001b[0m\n\u001b[0;32m    119\u001b[0m                     zs = zonal_stats(src, array, affine=affine, stats=['count'],categorical=True, \n\u001b[1;32m--> 120\u001b[1;33m                                      category_map=cmap, nodata = 255, all_touched=False)\n\u001b[0m\u001b[0;32m    121\u001b[0m \u001b[1;33m\u001b[0m\u001b[0m\n\u001b[0;32m    122\u001b[0m                     \u001b[0mprint\u001b[0m\u001b[1;33m(\u001b[0m\u001b[1;34m\"ZS: \"\u001b[0m\u001b[1;33m,\u001b[0m \u001b[0mzs\u001b[0m\u001b[1;33m)\u001b[0m\u001b[1;33m\u001b[0m\u001b[1;33m\u001b[0m\u001b[0m\n",
      "\u001b[1;32mC:\\ProgramData\\Anaconda3\\envs\\earth-analytics\\lib\\site-packages\\rasterstats\\main.py\u001b[0m in \u001b[0;36mzonal_stats\u001b[1;34m(*args, **kwargs)\u001b[0m\n\u001b[0;32m     29\u001b[0m     \u001b[0mThe\u001b[0m \u001b[0monly\u001b[0m \u001b[0mdifference\u001b[0m \u001b[1;32mis\u001b[0m \u001b[0mthat\u001b[0m\u001b[0;31m \u001b[0m\u001b[0;31m`\u001b[0m\u001b[0;31m`\u001b[0m\u001b[0mzonal_stats\u001b[0m\u001b[0;31m`\u001b[0m\u001b[0;31m`\u001b[0m \u001b[0mwill\u001b[0m\u001b[1;33m\u001b[0m\u001b[1;33m\u001b[0m\u001b[0m\n\u001b[0;32m     30\u001b[0m     return a list rather than a generator.\"\"\"\n\u001b[1;32m---> 31\u001b[1;33m     \u001b[1;32mreturn\u001b[0m \u001b[0mlist\u001b[0m\u001b[1;33m(\u001b[0m\u001b[0mgen_zonal_stats\u001b[0m\u001b[1;33m(\u001b[0m\u001b[1;33m*\u001b[0m\u001b[0margs\u001b[0m\u001b[1;33m,\u001b[0m \u001b[1;33m**\u001b[0m\u001b[0mkwargs\u001b[0m\u001b[1;33m)\u001b[0m\u001b[1;33m)\u001b[0m\u001b[1;33m\u001b[0m\u001b[1;33m\u001b[0m\u001b[0m\n\u001b[0m\u001b[0;32m     32\u001b[0m \u001b[1;33m\u001b[0m\u001b[0m\n\u001b[0;32m     33\u001b[0m \u001b[1;33m\u001b[0m\u001b[0m\n",
      "\u001b[1;32mC:\\ProgramData\\Anaconda3\\envs\\earth-analytics\\lib\\site-packages\\rasterstats\\main.py\u001b[0m in \u001b[0;36mgen_zonal_stats\u001b[1;34m(vectors, raster, layer, band, nodata, affine, stats, all_touched, categorical, category_map, add_stats, zone_func, raster_out, prefix, geojson_out, **kwargs)\u001b[0m\n\u001b[0;32m    157\u001b[0m \u001b[1;33m\u001b[0m\u001b[0m\n\u001b[0;32m    158\u001b[0m             \u001b[1;31m# rasterized geometry\u001b[0m\u001b[1;33m\u001b[0m\u001b[1;33m\u001b[0m\u001b[1;33m\u001b[0m\u001b[0m\n\u001b[1;32m--> 159\u001b[1;33m             \u001b[0mrv_array\u001b[0m \u001b[1;33m=\u001b[0m \u001b[0mrasterize_geom\u001b[0m\u001b[1;33m(\u001b[0m\u001b[0mgeom\u001b[0m\u001b[1;33m,\u001b[0m \u001b[0mlike\u001b[0m\u001b[1;33m=\u001b[0m\u001b[0mfsrc\u001b[0m\u001b[1;33m,\u001b[0m \u001b[0mall_touched\u001b[0m\u001b[1;33m=\u001b[0m\u001b[0mall_touched\u001b[0m\u001b[1;33m)\u001b[0m\u001b[1;33m\u001b[0m\u001b[1;33m\u001b[0m\u001b[0m\n\u001b[0m\u001b[0;32m    160\u001b[0m \u001b[1;33m\u001b[0m\u001b[0m\n\u001b[0;32m    161\u001b[0m             \u001b[1;31m# nodata mask\u001b[0m\u001b[1;33m\u001b[0m\u001b[1;33m\u001b[0m\u001b[1;33m\u001b[0m\u001b[0m\n",
      "\u001b[1;32mC:\\ProgramData\\Anaconda3\\envs\\earth-analytics\\lib\\site-packages\\rasterstats\\utils.py\u001b[0m in \u001b[0;36mrasterize_geom\u001b[1;34m(geom, like, all_touched)\u001b[0m\n\u001b[0;32m     45\u001b[0m         \u001b[0mfill\u001b[0m\u001b[1;33m=\u001b[0m\u001b[1;36m0\u001b[0m\u001b[1;33m,\u001b[0m\u001b[1;33m\u001b[0m\u001b[1;33m\u001b[0m\u001b[0m\n\u001b[0;32m     46\u001b[0m         \u001b[0mdtype\u001b[0m\u001b[1;33m=\u001b[0m\u001b[1;34m'uint8'\u001b[0m\u001b[1;33m,\u001b[0m\u001b[1;33m\u001b[0m\u001b[1;33m\u001b[0m\u001b[0m\n\u001b[1;32m---> 47\u001b[1;33m         all_touched=all_touched)\n\u001b[0m\u001b[0;32m     48\u001b[0m \u001b[1;33m\u001b[0m\u001b[0m\n\u001b[0;32m     49\u001b[0m     \u001b[1;32mreturn\u001b[0m \u001b[0mrv_array\u001b[0m\u001b[1;33m.\u001b[0m\u001b[0mastype\u001b[0m\u001b[1;33m(\u001b[0m\u001b[0mbool\u001b[0m\u001b[1;33m)\u001b[0m\u001b[1;33m\u001b[0m\u001b[1;33m\u001b[0m\u001b[0m\n",
      "\u001b[1;32mC:\\ProgramData\\Anaconda3\\envs\\earth-analytics\\lib\\site-packages\\rasterio\\env.py\u001b[0m in \u001b[0;36mwrapper\u001b[1;34m(*args, **kwds)\u001b[0m\n\u001b[0;32m    380\u001b[0m     \u001b[1;32mdef\u001b[0m \u001b[0mwrapper\u001b[0m\u001b[1;33m(\u001b[0m\u001b[1;33m*\u001b[0m\u001b[0margs\u001b[0m\u001b[1;33m,\u001b[0m \u001b[1;33m**\u001b[0m\u001b[0mkwds\u001b[0m\u001b[1;33m)\u001b[0m\u001b[1;33m:\u001b[0m\u001b[1;33m\u001b[0m\u001b[1;33m\u001b[0m\u001b[0m\n\u001b[0;32m    381\u001b[0m         \u001b[1;32mif\u001b[0m \u001b[0mlocal\u001b[0m\u001b[1;33m.\u001b[0m\u001b[0m_env\u001b[0m\u001b[1;33m:\u001b[0m\u001b[1;33m\u001b[0m\u001b[1;33m\u001b[0m\u001b[0m\n\u001b[1;32m--> 382\u001b[1;33m             \u001b[1;32mreturn\u001b[0m \u001b[0mf\u001b[0m\u001b[1;33m(\u001b[0m\u001b[1;33m*\u001b[0m\u001b[0margs\u001b[0m\u001b[1;33m,\u001b[0m \u001b[1;33m**\u001b[0m\u001b[0mkwds\u001b[0m\u001b[1;33m)\u001b[0m\u001b[1;33m\u001b[0m\u001b[1;33m\u001b[0m\u001b[0m\n\u001b[0m\u001b[0;32m    383\u001b[0m         \u001b[1;32melse\u001b[0m\u001b[1;33m:\u001b[0m\u001b[1;33m\u001b[0m\u001b[1;33m\u001b[0m\u001b[0m\n\u001b[0;32m    384\u001b[0m             \u001b[1;32mwith\u001b[0m \u001b[0mEnv\u001b[0m\u001b[1;33m.\u001b[0m\u001b[0mfrom_defaults\u001b[0m\u001b[1;33m(\u001b[0m\u001b[1;33m)\u001b[0m\u001b[1;33m:\u001b[0m\u001b[1;33m\u001b[0m\u001b[1;33m\u001b[0m\u001b[0m\n",
      "\u001b[1;32mC:\\ProgramData\\Anaconda3\\envs\\earth-analytics\\lib\\site-packages\\rasterio\\features.py\u001b[0m in \u001b[0;36mrasterize\u001b[1;34m(shapes, out_shape, fill, out, transform, all_touched, merge_alg, default_value, dtype)\u001b[0m\n\u001b[0;32m    345\u001b[0m \u001b[1;33m\u001b[0m\u001b[0m\n\u001b[0;32m    346\u001b[0m     \u001b[1;32mif\u001b[0m \u001b[0mmin\u001b[0m\u001b[1;33m(\u001b[0m\u001b[0mout\u001b[0m\u001b[1;33m.\u001b[0m\u001b[0mshape\u001b[0m\u001b[1;33m)\u001b[0m \u001b[1;33m==\u001b[0m \u001b[1;36m0\u001b[0m\u001b[1;33m:\u001b[0m\u001b[1;33m\u001b[0m\u001b[1;33m\u001b[0m\u001b[0m\n\u001b[1;32m--> 347\u001b[1;33m         \u001b[1;32mraise\u001b[0m \u001b[0mValueError\u001b[0m\u001b[1;33m(\u001b[0m\u001b[1;34m\"width and height must be > 0\"\u001b[0m\u001b[1;33m)\u001b[0m\u001b[1;33m\u001b[0m\u001b[1;33m\u001b[0m\u001b[0m\n\u001b[0m\u001b[0;32m    348\u001b[0m \u001b[1;33m\u001b[0m\u001b[0m\n\u001b[0;32m    349\u001b[0m     \u001b[0mtransform\u001b[0m \u001b[1;33m=\u001b[0m \u001b[0mguard_transform\u001b[0m\u001b[1;33m(\u001b[0m\u001b[0mtransform\u001b[0m\u001b[1;33m)\u001b[0m\u001b[1;33m\u001b[0m\u001b[1;33m\u001b[0m\u001b[0m\n",
      "\u001b[1;31mValueError\u001b[0m: width and height must be > 0"
     ]
    }
   ],
   "source": [
    "import geopandas as gpd\n",
    "import os\n",
    "import shutil\n",
    "import glob\n",
    "import pandas as pd\n",
    "import numpy as np\n",
    "import rasterio as rio\n",
    "import rasterio.plot\n",
    "import pyproj\n",
    "import numpy as np\n",
    "import matplotlib\n",
    "import matplotlib.pyplot as plt\n",
    "#import earthpy as ep\n",
    "#import earthpy.plot as ep\n",
    "import seaborn as sns\n",
    "import fiona\n",
    "import rasterstats\n",
    "from rasterstats import zonal_stats\n",
    "\n",
    "\n",
    "# Prettier plotting with seaborn\n",
    "#sns.set(font_scale=1.5, style=\"white\")\n",
    "\n",
    "\n",
    "def listdir(dirname,endfilename,scratchDir):\n",
    "    \"\"\"\n",
    "    this function will return a list of files in a directory for the given file extention \"endfilename\". \n",
    "    \"\"\"\n",
    "    list_img = []\n",
    "     \n",
    "    for root, dirs, files in os.walk(dirname):\n",
    "        for file in files:\n",
    "            if file.endswith(endfilename):\n",
    "                img = (os.path.join(root, file))\n",
    "                list_img.append(img)\n",
    "                #print (img)\n",
    "                shutil.copy(os.path.abspath(img), scratchDir)\n",
    "    print(\"Script has finished\")\n",
    "    return list_img\n",
    "\n",
    "dirname = r'U:\\Working\\Rangelands\\Spatial Data\\NAFI Firescars'\n",
    "endfilename = 'MTH.tif'\n",
    "scratchDir = r'C:\\Users\\rmcgr\\Desktop\\firemaps\\scratch'\n",
    "\n",
    "listdir(dirname,endfilename,scratchDir)\n",
    "\n",
    "\n",
    "\n",
    "imlist = r\"Z:\\Scratch\\Zonal_Stats_Pipeline\\Firescars\\NAFI_fire_rasters\\fire_list.csv\"\n",
    "shape = r\"T:\\rob\\Camfield_GCS_GDA_1994.shp\"\n",
    "\n",
    "image_name =[]\n",
    "image_date =[]\n",
    "site_li =[]\n",
    "zoneclass =[]\n",
    "zoneresults =[]\n",
    "\n",
    "\n",
    "\n",
    "#def mainRoutine():\n",
    "        \n",
    "# read in the command arguments\n",
    "\"\"\"cmdargs = getCmdargs()\n",
    "imlist = cmdargs.imlist\n",
    "nodata= int(cmdargs.nodata)\n",
    "shape = cmdargs.shape \n",
    "uid = cmdargs.uid\n",
    "export_csv = cmdargs.csv\"\"\" \n",
    "\n",
    "# check if the \"temp_individual_bands\" file already exists and delete it if it does.\n",
    "tempDir = 'temp_individual_bands'       \n",
    "try:\n",
    "    shutil.rmtree(tempDir)\n",
    "\n",
    "except:\n",
    "    print(\"The following directory was deleted: \", tempDir)\n",
    "\n",
    "# create temporary folders\n",
    "tempDir = 'temp_individual_bands'\n",
    "os.makedirs(tempDir)\n",
    "\n",
    "with open(imlist, \"r\") as imagerylist:\n",
    "\n",
    "    #Extract each image path from the image list\n",
    "    for image in imagerylist:\n",
    "        print(image)\n",
    "\n",
    "        # cleans the file pathway (Windows)\n",
    "        imageS = image.rstrip()\n",
    "        print(\"imageS: \", imageS)\n",
    "        im_name = imageS[60:]\n",
    "        print(\"Im_Name: \", im_name)\n",
    "        \n",
    "        # loops through each image\n",
    "        with rasterio.open(imageS, nodata= 255) as srci:\n",
    "            imageResults = 'image_' + im_name + '.csv'\n",
    "            # runs the zonal stats function and outputs a csv in a band specific folder\n",
    "            #finalresults = applyZonalstats(imageS, nodata, band, shape, uid)\n",
    "           \n",
    "            \"\"\"--------------------------------------------------------------------------------------------------------------\"\"\"\n",
    "\n",
    "            #def applyZonalstats(imageS, nodata, band, shape, uid):\n",
    "\n",
    "            '''image_name =[]\n",
    "            image_date =[]\n",
    "            site_li =[]\n",
    "            zoneclass =[]\n",
    "            zoneresults =[]'''\n",
    "\n",
    "            with rasterio.open(imageS, nodata=255) as srci:\n",
    "                affine = srci.transform #srci.transform is the new srci.affine\n",
    "                array = srci.read(1)\n",
    "                print(array)\n",
    "\n",
    "                with fiona.open(shape) as src:\n",
    "                    # using \"all_touched=True\" will increase the number of pixels used to produce the stats \"False\" reduces the number\n",
    "\n",
    "                    cmap = {1: 'Jan', 2: 'Feb', 3: 'March', 4: 'April', 5: 'May', 6: 'June', 7: 'July', 8: 'Aug', 9: 'Sep', 10: 'Oct', 11: 'Nov', 12: 'Dec'}\n",
    "                    zs = zonal_stats(src, array, affine=affine, stats=['count'],categorical=True, category_map=cmap, nodata = 255, all_touched=False)\n",
    "                    \n",
    "                    print(\"ZS: \", zs)\n",
    "                    print(\"Array: \", array)\n",
    "\n",
    "                    # extract image name and append to list\n",
    "                    imgName = str(srci)[86:-11]\n",
    "                    print(\"imgName: \", imgName)\n",
    "                    image_name.append(imgName)\n",
    "                    # extract image date and append to list\n",
    "                    imgDate = str(imgName)[2:6]\n",
    "                    print(\"imgDate: \", imgDate)\n",
    "                    image_date.append(imgDate)\n",
    "                    \n",
    "                    df  = pd.DataFrame.from_records(zs)\n",
    "                    df.insert(0, 'image', imgName)\n",
    "                    df.insert(0, 'year', imgDate)\n",
    "                \n",
    "                    for i in src:\n",
    "                        # extract shapefile records\n",
    "                        table_attributes = i['properties']  \n",
    "\n",
    "                        prop = table_attributes[\"PROP_NAME\"]\n",
    "                        df.insert(0, 'property', prop)\n",
    "                        \n",
    "                        print(\"DF: \", df)\n",
    "                        df.to_csv(tempDir + '//' + imageResults, index=False) \n",
    "\n",
    "                        srci.close()\n",
    "\n",
    "                        # print out the file name of the processed image\n",
    "                        print (imgName + ' ' + imgDate +  ' ' + 'zone stats are complete')\n",
    "\n",
    "                        #return(finalresults)\n",
    "\n",
    "                        \"\"\"--------------------------------------------------------------------------------------------------------\"\"\"\n",
    "\n",
    "                        #RETURN TO MAIN FUNCTION\n",
    "\n",
    "                        #header = ['number', 'site', 'min', 'max', 'mean', 'count']#, 'std', 'median'\n",
    "\n",
    "                        \"\"\"df  = pd.DataFrame.from_records(finalresults)\n",
    "                        #df['band']= band\n",
    "                        df['image']= imgName\n",
    "                        df['date']= imgDate\n",
    "                        print(\"DF: \", df)\n",
    "                        df.to_csv(tempDir + '//' + imageResults, index=False) \"\"\"\n",
    "\n",
    "property_name = shape.rstrip()\n",
    "print(\"Property name: \", property_name)\n",
    "clean_prop_name = property_name[7:-17]\n",
    "print(\"Clean_Prop_Name: \", clean_prop_name)\n",
    "#r\"T:\\rob\\Birrimba_GCS_GDA_1994.shp\"\n",
    "                        \n",
    "                        # for loops through the band folders and concatenates zonal stat outputs into a complete band specific csv   \n",
    "band_files = glob.glob(os.path.join(tempDir, \"*.csv\")) # advisable to use os.path.join as this makes concatenation OS independent\n",
    "df_from_each_band_file = (pd.read_csv(f) for f in band_files)\n",
    "concat_band_df   = pd.concat(df_from_each_band_file,ignore_index=False, axis=0, sort=False)\n",
    "# export the band specific results to a csv file (i.e. three outputs)\n",
    "concat_band_df.to_csv(tempDir + '//'+  \"_\" + clean_prop_name + \".csv\",index=False)                  \n",
    "\n",
    "                        \n",
    "\n",
    "        "
   ]
  },
  {
   "cell_type": "markdown",
   "metadata": {},
   "source": [
    "## PANDAS"
   ]
  },
  {
   "cell_type": "code",
   "execution_count": null,
   "metadata": {},
   "outputs": [],
   "source": [
    "%pylab inline\n",
    "import pandas as pd\n",
    "import datetime as dt\n",
    "import matplotlib.pyplot as plt\n",
    "import matplotlib.dates as mdates\n",
    "import matplotlib.ticker as ticker\n",
    "import numpy as np\n",
    "pylab.rcParams['figure.figsize'] = (30, 8.0)"
   ]
  },
  {
   "cell_type": "code",
   "execution_count": null,
   "metadata": {},
   "outputs": [],
   "source": [
    "cd Z:\\Scratch\\Zonal_Stats_Pipeline\\Firescars\\outputs"
   ]
  },
  {
   "cell_type": "code",
   "execution_count": null,
   "metadata": {},
   "outputs": [],
   "source": [
    "df = pd.read_csv(\"Middle_Creek_fire_scars.csv\")\n",
    "df2 = pd.read_csv(\"Middle_Creek_bare_ground.csv\", index_col=[0])"
   ]
  },
  {
   "cell_type": "markdown",
   "metadata": {},
   "source": [
    "## Property Fire scars"
   ]
  },
  {
   "cell_type": "code",
   "execution_count": null,
   "metadata": {},
   "outputs": [],
   "source": [
    "df = df.drop(columns='255.0')"
   ]
  },
  {
   "cell_type": "code",
   "execution_count": null,
   "metadata": {},
   "outputs": [],
   "source": [
    "#column_list =['Jan', 'Feb', 'March', 'April', 'May', 'June', 'July', 'Aug', 'Sep', 'Oct', 'Nov', 'Dec']"
   ]
  },
  {
   "cell_type": "code",
   "execution_count": null,
   "metadata": {},
   "outputs": [],
   "source": [
    "# If months dont exist add them to the dataframe\n",
    "\n",
    "column_list =['Jan', 'Feb', 'March', 'April', 'May', 'June', 'July', 'Aug', 'Sep', 'Oct', 'Nov', 'Dec']\n",
    "\n",
    "for col in column_list:\n",
    "    if col not in df.columns:\n",
    "        df[col] = np.nan"
   ]
  },
  {
   "cell_type": "code",
   "execution_count": null,
   "metadata": {},
   "outputs": [],
   "source": [
    "#Calculate the area for each month and add a column for each\n",
    "for col in column_list:\n",
    "    month_area = str(col)+'_area_m2'\n",
    "    col_ =  str(col)\n",
    "    df[month_area] = (df[col_]+(250*250))   "
   ]
  },
  {
   "cell_type": "code",
   "execution_count": null,
   "metadata": {},
   "outputs": [],
   "source": [
    "df['anual_count'] = df[column_list].sum(axis=1)\n",
    "df['annual_area_m2'] = (df['anual_count']*(250*250))"
   ]
  },
  {
   "cell_type": "code",
   "execution_count": null,
   "metadata": {},
   "outputs": [],
   "source": [
    "df.sample(5)"
   ]
  },
  {
   "cell_type": "code",
   "execution_count": null,
   "metadata": {},
   "outputs": [],
   "source": [
    "# reshape the final dataframe\n",
    "reshape_df = df[['property', 'year', 'image', 'Jan_area_m2', 'Feb_area_m2', 'March_area_m2', 'April_area_m2', 'May_area_m2', 'June_area_m2', \n",
    "                 'July_area_m2', 'Aug_area_m2', 'Sep_area_m2', 'Oct_area_m2', 'Nov_area_m2', 'Dec_area_m2', 'annual_area_m2']]\n",
    "reshape_df"
   ]
  },
  {
   "cell_type": "code",
   "execution_count": null,
   "metadata": {},
   "outputs": [],
   "source": [
    "# reshape the final dataframe\n",
    "reshape_df = df[['year', 'Jan_area_m2', 'Feb_area_m2', 'March_area_m2', 'April_area_m2', 'May_area_m2', 'June_area_m2', \n",
    "                 'July_area_m2', 'Aug_area_m2', 'Sep_area_m2', 'Oct_area_m2', 'Nov_area_m2', 'Dec_area_m2']]\n",
    "reshape_df.columns =['Year', 'Jan', 'Feb', 'Mar', 'April', 'May', 'June', 'July', 'Aug', 'Sep', 'Oct', 'Nov', 'Dec']\n",
    "reshape_df.sample(5)"
   ]
  },
  {
   "cell_type": "code",
   "execution_count": null,
   "metadata": {},
   "outputs": [],
   "source": [
    "#reshape_df.loc[reshape_df['Year'] == 2012]"
   ]
  },
  {
   "cell_type": "code",
   "execution_count": null,
   "metadata": {},
   "outputs": [],
   "source": [
    "\"\"\"reshape_df.drop(reshape_df.index[12]).inplace=True\n",
    "reshape_df.Year.value_counts()\"\"\""
   ]
  },
  {
   "cell_type": "code",
   "execution_count": null,
   "metadata": {},
   "outputs": [],
   "source": [
    "\"\"\"df =reshape_df.melt(id_vars=['Year'], var_name = 'Month', value_name= 'm2').sort_values(by='Year')\n",
    "df.Year.value_counts()\"\"\""
   ]
  },
  {
   "cell_type": "code",
   "execution_count": null,
   "metadata": {},
   "outputs": [],
   "source": [
    "df = reshape_df.set_index('Year')"
   ]
  },
  {
   "cell_type": "code",
   "execution_count": null,
   "metadata": {},
   "outputs": [],
   "source": [
    "#df.plot(kind='barh', stacked=True)\n",
    "df.plot(kind='bar', stacked=True)\n",
    "plt.legend(loc='upper left')\n",
    "plt.show()"
   ]
  },
  {
   "cell_type": "code",
   "execution_count": null,
   "metadata": {},
   "outputs": [],
   "source": []
  },
  {
   "cell_type": "code",
   "execution_count": null,
   "metadata": {},
   "outputs": [],
   "source": []
  },
  {
   "cell_type": "code",
   "execution_count": null,
   "metadata": {},
   "outputs": [],
   "source": []
  },
  {
   "cell_type": "code",
   "execution_count": null,
   "metadata": {},
   "outputs": [],
   "source": []
  },
  {
   "cell_type": "code",
   "execution_count": null,
   "metadata": {},
   "outputs": [],
   "source": []
  },
  {
   "cell_type": "code",
   "execution_count": null,
   "metadata": {},
   "outputs": [],
   "source": []
  },
  {
   "cell_type": "markdown",
   "metadata": {},
   "source": [
    "### Property Bare Ground"
   ]
  },
  {
   "cell_type": "code",
   "execution_count": null,
   "metadata": {},
   "outputs": [],
   "source": [
    "# create the date time field and sort the values\n",
    "df2 = df2[(df2['count'] > 3)]\n",
    "df2['year'] = df2['imDate'].map(lambda x: str(x)[4:8])\n",
    "df2['month'] = df2['imDate'].map(lambda x: str(x)[8:10])\n",
    "df2['day'] = df2['imDate'].map(lambda x: str(x)[10:12])\n",
    "df2['Date'] = df2['year']  + '/' + df2['month'] + '/' + df2['day']\n",
    "df2.sort_values(['Date'])"
   ]
  },
  {
   "cell_type": "code",
   "execution_count": null,
   "metadata": {},
   "outputs": [],
   "source": [
    "df2 = df2[(df2['year']>=\"2000\") & (df2['year']<=\"2019\")]\n",
    "df2.head()"
   ]
  },
  {
   "cell_type": "code",
   "execution_count": null,
   "metadata": {},
   "outputs": [],
   "source": [
    "\"\"\"df2['year'] = df2['year'].astype(int)\n",
    "df2['month'] = df2['month'].astype(int)\n",
    "df2['day'] = df2['day'].astype(int)\"\"\""
   ]
  },
  {
   "cell_type": "code",
   "execution_count": null,
   "metadata": {},
   "outputs": [],
   "source": [
    "df2.info()"
   ]
  },
  {
   "cell_type": "code",
   "execution_count": null,
   "metadata": {},
   "outputs": [],
   "source": [
    "# Select the last day of each month\n",
    "\n",
    "df_monthly = df2.reset_index().groupby([df2.year,df2.month],as_index=False).last().set_index('index')\n",
    "df_monthly[\"total_area_m2\"] = (df_monthly[\"count\"]*(30*30))\n",
    "df_monthly"
   ]
  },
  {
   "cell_type": "code",
   "execution_count": null,
   "metadata": {},
   "outputs": [],
   "source": []
  },
  {
   "cell_type": "code",
   "execution_count": null,
   "metadata": {},
   "outputs": [],
   "source": []
  },
  {
   "cell_type": "code",
   "execution_count": null,
   "metadata": {},
   "outputs": [],
   "source": []
  },
  {
   "cell_type": "code",
   "execution_count": null,
   "metadata": {},
   "outputs": [],
   "source": []
  },
  {
   "cell_type": "markdown",
   "metadata": {},
   "source": [
    "## Property"
   ]
  },
  {
   "cell_type": "code",
   "execution_count": 77,
   "metadata": {},
   "outputs": [],
   "source": [
    "import geopandas as gpd\n",
    "import matplotlib.pyplot as plt\n",
    "import pandas as pd"
   ]
  },
  {
   "cell_type": "code",
   "execution_count": 104,
   "metadata": {},
   "outputs": [],
   "source": [
    "properties = pd.read_excel(r\"\\\\pgb-bas01\\DENR_Satellite_Imagery$\\Scratch\\Zonal_Stats_Pipeline\\Copy of landsatZonalStatsTiles2.xlsx\")\n",
    "prop_list = properties.Property.unique().tolist()"
   ]
  },
  {
   "cell_type": "code",
   "execution_count": 105,
   "metadata": {},
   "outputs": [
    {
     "data": {
      "text/plain": [
       "['Allambi',\n",
       " 'Camfield',\n",
       " 'Cattle Creek',\n",
       " 'Elizabeth Downs',\n",
       " 'Epenarra',\n",
       " 'Hayfield',\n",
       " 'Inverway',\n",
       " 'Jindare',\n",
       " 'Katherine Downs',\n",
       " 'Killarney',\n",
       " 'Mary River West',\n",
       " 'Middle Creek',\n",
       " 'Montejinni East',\n",
       " 'Montejinni West',\n",
       " 'Murray Downs',\n",
       " 'Riveren',\n",
       " 'Shenandoah',\n",
       " 'Shenandoah East',\n",
       " 'Todd River',\n",
       " 'Wave Hill',\n",
       " 'Willeroo',\n",
       " 'Wongalara',\n",
       " 'Tennant Creek',\n",
       " 'Bullo River',\n",
       " 'Yambah']"
      ]
     },
     "execution_count": 105,
     "metadata": {},
     "output_type": "execute_result"
    }
   ],
   "source": [
    "prop_list = properties.Property.unique().tolist()\n",
    "prop_list"
   ]
  },
  {
   "cell_type": "code",
   "execution_count": 91,
   "metadata": {},
   "outputs": [
    {
     "data": {
      "text/plain": [
       "{'init': 'epsg:4283'}"
      ]
     },
     "execution_count": 91,
     "metadata": {},
     "output_type": "execute_result"
    }
   ],
   "source": [
    "cadastre = gpd.read_file(r'U:\\LIB_Common\\Cadastre\\Datasets\\Av_data\\Cadastre.shp')\n",
    "cadastre.head()\n",
    "cadastre.crs"
   ]
  },
  {
   "cell_type": "code",
   "execution_count": 123,
   "metadata": {},
   "outputs": [
    {
     "ename": "RuntimeError",
     "evalue": "b'no arguments in initialization list'",
     "output_type": "error",
     "traceback": [
      "\u001b[1;31m---------------------------------------------------------------------------\u001b[0m",
      "\u001b[1;31mRuntimeError\u001b[0m                              Traceback (most recent call last)",
      "\u001b[1;32m<ipython-input-123-44c90b9e81f2>\u001b[0m in \u001b[0;36m<module>\u001b[1;34m\u001b[0m\n\u001b[1;32m----> 1\u001b[1;33m \u001b[0mcadastre\u001b[0m\u001b[1;33m.\u001b[0m\u001b[0mto_crs\u001b[0m \u001b[1;33m(\u001b[0m\u001b[1;34m'epsg:32752'\u001b[0m\u001b[1;33m)\u001b[0m\u001b[1;33m\u001b[0m\u001b[1;33m\u001b[0m\u001b[0m\n\u001b[0m",
      "\u001b[1;32mC:\\ProgramData\\Anaconda3\\lib\\site-packages\\geopandas\\geodataframe.py\u001b[0m in \u001b[0;36mto_crs\u001b[1;34m(self, crs, epsg, inplace)\u001b[0m\n\u001b[0;32m    532\u001b[0m         \u001b[1;32melse\u001b[0m\u001b[1;33m:\u001b[0m\u001b[1;33m\u001b[0m\u001b[1;33m\u001b[0m\u001b[0m\n\u001b[0;32m    533\u001b[0m             \u001b[0mdf\u001b[0m \u001b[1;33m=\u001b[0m \u001b[0mself\u001b[0m\u001b[1;33m.\u001b[0m\u001b[0mcopy\u001b[0m\u001b[1;33m(\u001b[0m\u001b[1;33m)\u001b[0m\u001b[1;33m\u001b[0m\u001b[1;33m\u001b[0m\u001b[0m\n\u001b[1;32m--> 534\u001b[1;33m         \u001b[0mgeom\u001b[0m \u001b[1;33m=\u001b[0m \u001b[0mdf\u001b[0m\u001b[1;33m.\u001b[0m\u001b[0mgeometry\u001b[0m\u001b[1;33m.\u001b[0m\u001b[0mto_crs\u001b[0m\u001b[1;33m(\u001b[0m\u001b[0mcrs\u001b[0m\u001b[1;33m=\u001b[0m\u001b[0mcrs\u001b[0m\u001b[1;33m,\u001b[0m \u001b[0mepsg\u001b[0m\u001b[1;33m=\u001b[0m\u001b[0mepsg\u001b[0m\u001b[1;33m)\u001b[0m\u001b[1;33m\u001b[0m\u001b[1;33m\u001b[0m\u001b[0m\n\u001b[0m\u001b[0;32m    535\u001b[0m         \u001b[0mdf\u001b[0m\u001b[1;33m.\u001b[0m\u001b[0mgeometry\u001b[0m \u001b[1;33m=\u001b[0m \u001b[0mgeom\u001b[0m\u001b[1;33m\u001b[0m\u001b[1;33m\u001b[0m\u001b[0m\n\u001b[0;32m    536\u001b[0m         \u001b[0mdf\u001b[0m\u001b[1;33m.\u001b[0m\u001b[0mcrs\u001b[0m \u001b[1;33m=\u001b[0m \u001b[0mgeom\u001b[0m\u001b[1;33m.\u001b[0m\u001b[0mcrs\u001b[0m\u001b[1;33m\u001b[0m\u001b[1;33m\u001b[0m\u001b[0m\n",
      "\u001b[1;32mC:\\ProgramData\\Anaconda3\\lib\\site-packages\\geopandas\\geoseries.py\u001b[0m in \u001b[0;36mto_crs\u001b[1;34m(self, crs, epsg)\u001b[0m\n\u001b[0;32m    421\u001b[0m             \u001b[0mproject\u001b[0m \u001b[1;33m=\u001b[0m \u001b[0mtransformer\u001b[0m\u001b[1;33m.\u001b[0m\u001b[0mtransform\u001b[0m\u001b[1;33m\u001b[0m\u001b[1;33m\u001b[0m\u001b[0m\n\u001b[0;32m    422\u001b[0m         \u001b[1;32melse\u001b[0m\u001b[1;33m:\u001b[0m\u001b[1;33m\u001b[0m\u001b[1;33m\u001b[0m\u001b[0m\n\u001b[1;32m--> 423\u001b[1;33m             \u001b[0mproj_in\u001b[0m \u001b[1;33m=\u001b[0m \u001b[0mpyproj\u001b[0m\u001b[1;33m.\u001b[0m\u001b[0mProj\u001b[0m\u001b[1;33m(\u001b[0m\u001b[0mself\u001b[0m\u001b[1;33m.\u001b[0m\u001b[0mcrs\u001b[0m\u001b[1;33m,\u001b[0m \u001b[0mpreserve_units\u001b[0m\u001b[1;33m=\u001b[0m\u001b[1;32mTrue\u001b[0m\u001b[1;33m)\u001b[0m\u001b[1;33m\u001b[0m\u001b[1;33m\u001b[0m\u001b[0m\n\u001b[0m\u001b[0;32m    424\u001b[0m             \u001b[0mproj_out\u001b[0m \u001b[1;33m=\u001b[0m \u001b[0mpyproj\u001b[0m\u001b[1;33m.\u001b[0m\u001b[0mProj\u001b[0m\u001b[1;33m(\u001b[0m\u001b[0mcrs\u001b[0m\u001b[1;33m,\u001b[0m \u001b[0mpreserve_units\u001b[0m\u001b[1;33m=\u001b[0m\u001b[1;32mTrue\u001b[0m\u001b[1;33m)\u001b[0m\u001b[1;33m\u001b[0m\u001b[1;33m\u001b[0m\u001b[0m\n\u001b[0;32m    425\u001b[0m             \u001b[0mproject\u001b[0m \u001b[1;33m=\u001b[0m \u001b[0mpartial\u001b[0m\u001b[1;33m(\u001b[0m\u001b[0mpyproj\u001b[0m\u001b[1;33m.\u001b[0m\u001b[0mtransform\u001b[0m\u001b[1;33m,\u001b[0m \u001b[0mproj_in\u001b[0m\u001b[1;33m,\u001b[0m \u001b[0mproj_out\u001b[0m\u001b[1;33m)\u001b[0m\u001b[1;33m\u001b[0m\u001b[1;33m\u001b[0m\u001b[0m\n",
      "\u001b[1;32mC:\\ProgramData\\Anaconda3\\lib\\site-packages\\pyproj\\__init__.py\u001b[0m in \u001b[0;36m__new__\u001b[1;34m(self, projparams, preserve_units, **kwargs)\u001b[0m\n\u001b[0;32m    360\u001b[0m         \u001b[1;31m# on case-insensitive filesystems).\u001b[0m\u001b[1;33m\u001b[0m\u001b[1;33m\u001b[0m\u001b[1;33m\u001b[0m\u001b[0m\n\u001b[0;32m    361\u001b[0m         \u001b[0mprojstring\u001b[0m \u001b[1;33m=\u001b[0m \u001b[0mprojstring\u001b[0m\u001b[1;33m.\u001b[0m\u001b[0mreplace\u001b[0m\u001b[1;33m(\u001b[0m\u001b[1;34m'EPSG'\u001b[0m\u001b[1;33m,\u001b[0m\u001b[1;34m'epsg'\u001b[0m\u001b[1;33m)\u001b[0m\u001b[1;33m\u001b[0m\u001b[1;33m\u001b[0m\u001b[0m\n\u001b[1;32m--> 362\u001b[1;33m         \u001b[1;32mreturn\u001b[0m \u001b[0m_proj\u001b[0m\u001b[1;33m.\u001b[0m\u001b[0mProj\u001b[0m\u001b[1;33m.\u001b[0m\u001b[0m__new__\u001b[0m\u001b[1;33m(\u001b[0m\u001b[0mself\u001b[0m\u001b[1;33m,\u001b[0m \u001b[0mprojstring\u001b[0m\u001b[1;33m)\u001b[0m\u001b[1;33m\u001b[0m\u001b[1;33m\u001b[0m\u001b[0m\n\u001b[0m\u001b[0;32m    363\u001b[0m \u001b[1;33m\u001b[0m\u001b[0m\n\u001b[0;32m    364\u001b[0m     \u001b[1;32mdef\u001b[0m \u001b[0m__call__\u001b[0m\u001b[1;33m(\u001b[0m\u001b[0mself\u001b[0m\u001b[1;33m,\u001b[0m \u001b[1;33m*\u001b[0m\u001b[0margs\u001b[0m\u001b[1;33m,\u001b[0m \u001b[1;33m**\u001b[0m\u001b[0mkw\u001b[0m\u001b[1;33m)\u001b[0m\u001b[1;33m:\u001b[0m\u001b[1;33m\u001b[0m\u001b[1;33m\u001b[0m\u001b[0m\n",
      "\u001b[1;32m_proj.pyx\u001b[0m in \u001b[0;36m_proj.Proj.__cinit__\u001b[1;34m()\u001b[0m\n",
      "\u001b[1;31mRuntimeError\u001b[0m: b'no arguments in initialization list'"
     ]
    }
   ],
   "source": [
    "cadastre.to_crs ('epsg:32752')"
   ]
  },
  {
   "cell_type": "code",
   "execution_count": 92,
   "metadata": {},
   "outputs": [],
   "source": [
    "#crs = {'init': 'epsg:4283'}"
   ]
  },
  {
   "cell_type": "code",
   "execution_count": 93,
   "metadata": {},
   "outputs": [],
   "source": [
    "#cadastre_GDA94 = gpd.GeoDataFrame(cadastre, crs=crs)"
   ]
  },
  {
   "cell_type": "code",
   "execution_count": 94,
   "metadata": {},
   "outputs": [],
   "source": [
    "#cadastre_GDA94.crs"
   ]
  },
  {
   "cell_type": "code",
   "execution_count": 95,
   "metadata": {},
   "outputs": [
    {
     "data": {
      "image/png": "[encoded data removed]",
      "text/plain": [
       "<Figure size 864x720 with 1 Axes>"
      ]
     },
     "metadata": {},
     "output_type": "display_data"
    }
   ],
   "source": [
    "fig, ax = plt.subplots(figsize=(12,10))\n",
    "base = nyc_gdf.boundary.plot(markersize=0.1,ax=ax)\n",
    "#fire = \n",
    "#ax.set_xticklabels([])\n",
    "#ax.set_yticklabels([])\n",
    "ax.set_title('Cadastre properties')\n",
    "plt.show()"
   ]
  },
  {
   "cell_type": "code",
   "execution_count": 96,
   "metadata": {},
   "outputs": [
    {
     "name": "stdout",
     "output_type": "stream",
     "text": [
      "<class 'geopandas.geodataframe.GeoDataFrame'>\n",
      "RangeIndex: 80015 entries, 0 to 80014\n",
      "Data columns (total 38 columns):\n",
      "LAISKEY       80015 non-null object\n",
      "ST_NUMBER     80015 non-null int64\n",
      "ST_PART       711 non-null object\n",
      "ST_NAME       72633 non-null object\n",
      "ST_TYPE       72228 non-null object\n",
      "SUBURB        80015 non-null object\n",
      "LOC_CODE      80015 non-null object\n",
      "LOC_NAME      80015 non-null object\n",
      "PARCEL        80015 non-null object\n",
      "LTO_CODE      2992 non-null object\n",
      "PAR_PART      0 non-null object\n",
      "PAR_TYPE      80015 non-null object\n",
      "PAR_LABEL     80015 non-null object\n",
      "PAR_AREA_M    80015 non-null float64\n",
      "PROP_NAME     11150 non-null object\n",
      "OWNER_CAT     77351 non-null object\n",
      "SURVEY_ID     80015 non-null object\n",
      "SVYPLAN_NO    79692 non-null object\n",
      "SURVEYLINK    80015 non-null object\n",
      "TENREF_TYP    80015 non-null object\n",
      "TENREF_DES    80015 non-null object\n",
      "TENREF_NUM    80015 non-null float64\n",
      "TEN_STATUS    11069 non-null object\n",
      "TENVOLTYPE    65478 non-null object\n",
      "TEN_VOLUME    80015 non-null float64\n",
      "TEN_FOLIO     80015 non-null float64\n",
      "TOWNP_ZONE    79779 non-null object\n",
      "STATUSCODE    80015 non-null object\n",
      "ILIS_LINK     80015 non-null object\n",
      "DATEEXTRCT    80015 non-null object\n",
      "CREATEDATE    80015 non-null object\n",
      "UNIT_COUNT    80015 non-null int64\n",
      "UCV_AMOUNT    80015 non-null int64\n",
      "UCV_DATE      77265 non-null object\n",
      "UCV_PER_M2    80015 non-null float64\n",
      "ADMIN_NORM    80015 non-null object\n",
      "UFI           80015 non-null int64\n",
      "geometry      80015 non-null geometry\n",
      "dtypes: float64(5), geometry(1), int64(4), object(28)\n",
      "memory usage: 23.2+ MB\n"
     ]
    }
   ],
   "source": [
    "cadastre.info()"
   ]
  },
  {
   "cell_type": "code",
   "execution_count": 97,
   "metadata": {},
   "outputs": [],
   "source": [
    "pastoral = cadastre[(cadastre.TENREF_DES=='Pastoral Lease')|(cadastre.TENREF_DES=='Perpetual Pastoral Lease')]\n"
   ]
  },
  {
   "cell_type": "code",
   "execution_count": 98,
   "metadata": {},
   "outputs": [
    {
     "name": "stdout",
     "output_type": "stream",
     "text": [
      "['000     07348' '000     05843' '000     04970' '000     04971'\n",
      " '000     04973' '000     01630' '000     04966' '000     04331'\n",
      " '000     00701' '000     00702' '000     02979' '000     02980'\n",
      " '000     02981' '000     04293' '000     04296' '000     03981'\n",
      " '000     04272' '000     00668' '000     00674' '000     04278'\n",
      " '000     04279' '000     04280' '000     00682' '000     00697'\n",
      " '000     00700' '000     04285' '000     05171' '000     05172'\n",
      " '000     00710' '000     00714' '000     00716' '000     02725'\n",
      " '000     03987' '000     04003' '000     01483' '000     01489'\n",
      " '000     01493' '000     01947' '000     03660' '000     02092'\n",
      " '000     02093' '000     02094' '000     02095' '000     02114'\n",
      " '000     01953' '000     00002' '000     00003' '000     00004'\n",
      " '000     01605' '000     02653' '000     02654' '000     02673'\n",
      " '000     00703' '000     04516' '000     03048' '000     03685'\n",
      " '000     03692' '000     01666' '000     03050' '000     00308'\n",
      " '000     00309' '000     00960' '000     04423' '000     00962'\n",
      " '000     00963' '000     00366' '000     00367' '000     02286'\n",
      " '000     04017' '000     00727' '000     05148' '000     04030'\n",
      " '000     03736' '000     00926' '000     05109' '000     00719'\n",
      " '000     00724' '000     03350' '000     05145' '000     05146'\n",
      " '000     00318' '000     00320' '000     00324' '000     00326'\n",
      " '000     02681' '000     05845' '000     05847' '000     05849'\n",
      " '000     00259' '000     00307' '000     01991' '000     04009'\n",
      " '000     05807' '000     05774' '000     00478' '000     00483'\n",
      " '000     03725' '000     05153' '000     05154' '000     05159'\n",
      " '000     05162' '000     05163' '000     02850' '000     05170'\n",
      " '000     00408' '000     01513' '000     00747' '000     00749'\n",
      " '000     00757' '000     03431' '000     00771' '000     00773'\n",
      " '000     02454' '000     03700' '000     02729' '000     02731'\n",
      " '000     00662' '000     01361' '000     01363' '000     03219'\n",
      " '000     00620' '000     00641' '000     00578' '000     04203'\n",
      " '000     01802' '000     00581' '000     00850' '000     00898'\n",
      " '000     00814' '000     02453' '000     01587' '000     00908'\n",
      " '000     04466' '000     04476' '000     04477' '000     00659'\n",
      " '000     03115' '000     03118' '000     01287' '000     01290'\n",
      " '000     04152' '000     07048' '000     01299' '000     00833'\n",
      " '000     00650' '000     00651' '000     01328' '000     01333'\n",
      " '000     01351' '000     01764' '000     01352' '000     03811'\n",
      " '000     00794' '000     00798' '000     00810' '000     00811'\n",
      " '000     00601' '000     00549' '000     00556' '000     02443'\n",
      " '000     04868' '000     04256' '000     01164' '000     01169'\n",
      " '000     04262' '000     01746' '000     02958' '000     07049'\n",
      " '000     01747' '000     04937' '000     01075' '000     01079'\n",
      " '000     01085' '000     01092' '000     01094' '000     01095'\n",
      " '000     01103' '000     05841' '175     01582' '695     03645'\n",
      " '000     06299' '000     05775' '000     01604' '000     01631'\n",
      " '000     04465' '000     00687' '000     00704' '000     05147'\n",
      " '000     00855' '000     01402' '000     01167' '000     07026'\n",
      " '000     06365' '000     04965' '000     05130' '000     04353'\n",
      " '000     00479' '000     07060' '000     00756' '000     04020'\n",
      " '000     01077' '000     06518' '000     07123' '000     07121'\n",
      " '000     07442' '000     07493' '000     07503' '000     07504'\n",
      " '000     07512' '000     07513' '000     07514' '000     07497'\n",
      " '000     07499' '000     07500' '000     07506' '000     07531'\n",
      " '000     07556' '000     07557' '000     07536' '000     03688'\n",
      " '000     03983' '000     02676' '000     02675' '000     03047'\n",
      " '000     00281' '000     00325' '000     00746' '000     04090'\n",
      " '000     01586' '000     02201' '000     05136' '000     01163'\n",
      " '000     01104' '000     00283' '000     00342' '000     03985'\n",
      " '000     04443' '000     01202' '000     00686' '000     03375'\n",
      " '000     00856' '000     01512' '000     04275' '000     05776'\n",
      " '000     04972' '000     00677' '000     01166' '000     01102'\n",
      " '000     04867' '000     04269' '000     01091' '000     05808'\n",
      " '000     00725' '000     04775' '000     00655' '000     06517'\n",
      " '000     02730' '000     04464' '000     04468' '000     01584'\n",
      " '000     05155' '000     03221' '000     03351' '000     00261'\n",
      " '000     00695' '000     00361' '000     00717' '000     05851'\n",
      " '000     04007' '000     04080' '000     05805' '000     02663'\n",
      " '000     00799' '000     07515' '000     05108' '000     00368'\n",
      " '000     04273' '000     07494' '000     07122' '000     06366'\n",
      " '000     04471' '000     00482' '000     03220' '000     00649'\n",
      " '000     03120' '000     03054' '000     01751' '000     07347'\n",
      " '000     01598' '000     03861' '000     07578' '000     07530'\n",
      " '000     00494' '000     03222' '000     01289' '000     05133'\n",
      " '000     03418' '000     00652' '000     07062' '000     02869'\n",
      " '000     07507' '000     07517' '000     01098' '000     01367'\n",
      " '000     00481' '000     01170' '000     02101' '000     01406'\n",
      " '000     02666' '000     02724' '000     03988' '000     01484'\n",
      " '000     07589' '000     03676' '000     03982' '000     02978'\n",
      " '000     07502' '000     00657' '000     00232' '000     06298'\n",
      " '000     00653' '000     03989' '000     00244' '000     01288'\n",
      " '000     00709' '000     04351' '000     00415' '000     04292'\n",
      " '000     00298' '000     04319' '000     05806' '000     01482'\n",
      " '000     03049' '000     07027' '000     04938' '000     04270'\n",
      " '000     02406' '000     00851' '000     07501' '000     00748'\n",
      " '000     00690' '000     02977' '000     04276' '000     00812'\n",
      " '000     00001' '000     03073' '000     00312' '000     00370'\n",
      " '000     03419' '000     04018' '000     00742' '000     07498'\n",
      " '000     07511' '000     07537' '000     07492' '000     07529'\n",
      " '000     07518' '000     00241' '000     07061' '000     01344'\n",
      " '000     00680']\n"
     ]
    }
   ],
   "source": [
    "property_list = pastoral.LAISKEY.unique()\n",
    "print(property_list)"
   ]
  },
  {
   "cell_type": "code",
   "execution_count": 99,
   "metadata": {},
   "outputs": [
    {
     "data": {
      "text/plain": [
       "'000     1400'"
      ]
     },
     "execution_count": 99,
     "metadata": {},
     "output_type": "execute_result"
    }
   ],
   "source": [
    "'000     1400'"
   ]
  },
  {
   "cell_type": "code",
   "execution_count": 100,
   "metadata": {},
   "outputs": [],
   "source": [
    "pastoral_list = [\"MARY RIVER WEST\", \"CAMFIELD\", \"WONGALARA\", \"TODD RIVER\", \"KILLARNEY\", \"JINDARE\", ]"
   ]
  },
  {
   "cell_type": "code",
   "execution_count": 101,
   "metadata": {},
   "outputs": [
    {
     "name": "stdout",
     "output_type": "stream",
     "text": [
      "[None 'CROWN' 'CITY OF DARWIN' 'KAKADU ABORIGINAL LAND TRUST'\n",
      " 'TIPPERARY EAST' 'WIRLIYAJARRAYI ABORIGINAL LAND TRUST' 'TENNANT CREEK'\n",
      " 'CITY OF PALMERSTON' 'ALICE SPRINGS TOWN COUNCIL'\n",
      " 'AREYONGA STORE ABORIGINAL CORPORATION (ICN 7518)'\n",
      " 'TENNANT CREEK TOWN COUNCIL' 'JULALIKARI COUNCIL ABORIGINAL CORPORATION'\n",
      " 'LILLA ABORIGINAL CORPORATION'\n",
      " 'FOUNDATION OF REHABILITATION WITH ABORIGINAL ALCOHOL RELATED DIFFICULTIES ABORIGINAL CORPORATION ICN'\n",
      " 'ABORIGINAL HOSTELS LIMITED'\n",
      " 'YILLI RREUNG HOUSING ABORIGINAL CORPORATION (ABN 48 983 249 337)'\n",
      " 'NAMUL-NAMUL' 'MOUNT MCMINN' 'BIG RIVER' 'MARY RIVER WEST'\n",
      " 'ANINDILYAKWA LAND TRUST' 'PETERMANN ABORIGINAL LAND TRUST' 'COW CREEK'\n",
      " 'YUBULYAWUN ABORIGINAL LAND TRUST' 'BOND SPRINGS'\n",
      " 'ATNETYE ABORIGINAL LAND TRUST' 'THANGKENHARENGE ABORIGINAL LAND TRUST'\n",
      " 'KATHERINE WEST HEALTH BOARD ABORIGINAL CORPORATION' 'TANUMBIRINI'\n",
      " 'BEETALOO' 'BARRANYI ABORIGINAL CORPORATION' 'BARKLY SHIRE COUNCIL'\n",
      " 'MARGARET DOWNS' 'MOUNT FREDERICK ABORIGINAL LAND TRUST' 'LARRIZONA'\n",
      " 'OORATIPPRA' 'DOOJUM ABORIGINAL CORPORATION (ICN 1636)'\n",
      " 'HAASTS BLUFF ABORIGINAL LAND TRUST'\n",
      " 'DALY RIVER/PORT KEATS ABORIGINAL LAND TRUST'\n",
      " 'TIWI ABORIGINAL LAND TRUST' 'HOOKER CREEK ABORIGINAL LAND TRUST'\n",
      " 'LITCHFIELD COUNCIL' 'GARAWA ABORIGINAL LAND TRUST'\n",
      " 'ANURRETE ABORIGINAL LAND TRUST' 'UNDOOLYA' 'SCOTT CREEK' 'HAYFIELD'\n",
      " 'CALVERT HILLS' 'WOLLOGORANG' 'TANDYIDGEE' 'MANNERS CREEK' 'KALALA'\n",
      " 'HODGSON RIVER' 'AMBURLA' 'NEW CROWN' 'DAGURAGU ABORIGINAL LAND TRUST'\n",
      " 'ANGARAPA ABORIGINAL LAND TRUST' 'THANGKENHARENGE ABORIGINAL CORPORATION'\n",
      " 'BONROOK' 'DELMORE DOWNS' 'KURUNDI' 'BARNJARN ABORIGINAL CORPORATION'\n",
      " 'WIRRMALYANYA ABORIGINAL CORPORATION' 'BUCHANAN DOWNS'\n",
      " 'PMER ULPERRE INGWEMIRNE ARLETHERRE ABORIGINAL LAND TRUST' 'NEWRY'\n",
      " 'PINE CREEK ABORIGINAL ADVANCEMENT ASSOCIATION INC.' 'BRUNETTE DOWNS'\n",
      " 'BESWICK ABORIGINAL LAND TRUST' 'ROSEWOOD' 'SUPLEJACK' 'MOUNT DOREEN'\n",
      " 'JAWOYN ASSOCIATION ABORIGINAL CORPORATION (ABN 46 892 945 355)'\n",
      " 'IWUPATAKA ABORIGINAL LAND TRUST' 'CARPENTARIA DOWNS' 'LIMBUNYA'\n",
      " 'MAMBALIYA RRUMBURRIYA WUYALIYA ABORIGINAL LAND TRUST' 'NEWCASTLE WATERS'\n",
      " 'POWELL CREEK' 'DUNGOWAN' 'ALPURRURULAM LAND ABORIGINAL CORPORATION'\n",
      " 'ANTHONY LAGOON' 'WAMPANA - KARLANTIJPA ABORIGINAL LAND TRUST'\n",
      " 'WEST RANKEN' 'EAST RANKEN' 'SOUDAN'\n",
      " 'LAND SETTLEMENT ABORIGINAL CORPORATION'\n",
      " 'IMANGARA ABORIGINAL CORPORATION' 'AUSTRAL DOWNS' 'WAVE HILL'\n",
      " 'CATTLE CREEK' 'WOODGREEN' 'AILERON' 'ARNHEM LAND ABORIGINAL LAND TRUST'\n",
      " 'NUNGALI JAMINJUNG ABORIGINAL CORPORATION'\n",
      " 'WUNOORILL ABORIGINAL CORPORATION' 'JINGALOO ABORIGINAL CORPORATION'\n",
      " 'LILLA CREEK' 'TARLEE' 'WOMBUNGI' 'ALLAMBI' 'ELIZABETH DOWNS'\n",
      " 'BIRDUM CREEK' 'MUNGABROOM' 'WALHALLOW' 'TYURRETYE ABORIGINAL LAND TRUST'\n",
      " 'MOUNT DRUMMOND' 'DEPARTMENT OF PRIMARY INDUSTRY AN' 'HAMILTON DOWNS'\n",
      " 'MITTIEBAH' 'BENMARA' 'PAWU ABORIGINAL LAND TRUST' 'JERVOIS'\n",
      " 'TARLTON DOWNS' 'LTALALTUMA ABORIGINAL LAND TRUST' 'MURRAY DOWNS'\n",
      " 'UMBEARA' 'LIMILNGAN-WULNA (LAND HOLDING) ABORIGINAL CORPORATION'\n",
      " 'NARWIETOOMA' 'URAPUNGA ABORIGINAL LAND TRUST' 'MURRANJI'\n",
      " 'ALKWERT ABORIGINAL LAND TRUST' 'EPENARRA' 'CAMFIELD'\n",
      " 'WAKAYA ABORIGINAL LAND TRUST' 'WONGALARA'\n",
      " 'MUNGKARTA ABORIGINAL LAND TRUST' 'GLEN HELEN' 'AMBALINDUM' 'LYNDAVALE'\n",
      " 'FORREST HILL' 'TODD RIVER' 'RINGWOOD' 'VICTORY DOWNS' 'CURTIN SPRINGS'\n",
      " 'WARUMUNGU ABORIGINAL LAND TRUST' 'LITCHFIELD'\n",
      " 'FINNISS RIVER ABORIGINAL LAND TRUST' 'MUNGKARTA 2 ABORIGINAL LAND TRUST'\n",
      " 'ARRUWURRA ABORIGINAL CORPORATION'\n",
      " 'WURRALIBI (NO.2) ABORIGINAL LAND TRUST' 'KATITI ABORIGINAL LAND TRUST'\n",
      " 'MARLINJA ABORIGINAL LAND TRUST'\n",
      " 'DELISSAVILLE/WAGAIT/LARRAKIA ABORIGINAL LAND TRUST'\n",
      " 'YUTURMINYI ABORIGINAL CORPORATION' 'ILPURLA ABORIGINAL CORPORATION'\n",
      " 'KENBI ABORIGINAL LAND TRUST'\n",
      " 'DEPARTMENT OF HOUSING AND LOCAL GOVERNMENT' 'UCHARONIDGE'\n",
      " 'KEWULYI ABORIGINAL LAND TRUST' 'PALMER VALLEY'\n",
      " 'WELERE COMMUNITY ABORIGINAL CORPORATION'\n",
      " 'WAANYI/GARAWA ABORIGINAL LAND TRUST' 'DELAMERE'\n",
      " 'KURNTURLPARA ABORIGINAL LAND TRUST' 'BANJO'\n",
      " 'MAPERTE ABORIGINAL CORPORATION' 'SPIRIT HILLS'\n",
      " 'CENTRAL AUSTRALIAN ABORIGINAL CONGRESS INCORPORATED'\n",
      " 'AMOONGUNA ABORIGINAL LAND TRUST' 'WALLAMUNGA' 'NUMERY'\n",
      " 'ARNAPIPE ABORIGINAL LAND TRUST' 'WARTI-YANGU ABORIGINAL LAND TRUST'\n",
      " 'MANYALLALUK ABORIGINAL LAND TRUST' 'GURUNGU ABORIGINAL LAND TRUST'\n",
      " 'ROCKHAMPTON DOWNS' 'CRESSWELL DOWNS' 'GURUDJU ABORIGINAL LAND TRUST'\n",
      " 'COBOURG PENINSULA SANCTUARY LAND TRUST' 'MUCKATY ABORIGINAL LAND TRUST'\n",
      " 'URRAMPINYI ILTJILTJARRI ABORIGINAL LAND TRUST'\n",
      " 'URUNA ABORIGINAL LAND TRUST' 'AMMAROO' 'MOUNT KEPPLER'\n",
      " 'GULGUNNORR ABORIGINAL LAND TRUST' 'BURUDU ABORIGINAL LAND TRUST'\n",
      " 'ORANGE CREEK' 'PHILLIP CREEK' 'NUTWOOD DOWNS'\n",
      " 'GULANGULU ABORIGINAL LAND TRUST' 'UDOONGUL ABORIGINAL LAND TRUST'\n",
      " 'JAWOYN ABORIGINAL LAND TRUST' 'AHAKEYE ABORIGINAL LAND TRUST'\n",
      " 'MURRANJI ABORIGINAL LAND TRUST' 'NAPPERBY'\n",
      " 'NTARIA ABORIGINAL LAND TRUST' 'NARWINBI ABORIGINAL LAND TRUST'\n",
      " 'DERRY DOWNS' 'ELKEDRA' 'DALMORE DOWNS'\n",
      " 'ATNERRPERRKE ABORIGINAL LAND TRUST' 'DEPARTMENT OF TRANSPORT & WORKS'\n",
      " 'HUCKITTA' 'MAYAMUMBIN ABORIGINAL CORPORATION' 'BUNDA' 'WYWORRIE'\n",
      " 'LAKEFIELD' 'URLAMPE ABORIGINAL CORPORATION'\n",
      " 'ANKWELEYELENGKWE ABORIGINAL LAND TRUST'\n",
      " 'DEPARTMENT OF TRANSPORT AND WORKS' 'INJULKAMA ABORIGINAL CORPORATION'\n",
      " 'THE GARDEN' 'WATARRKA ABORIGINAL LAND TRUST'\n",
      " 'ALATJUTA ABORIGINAL LAND TRUST' 'ANDADO' 'KILLARNEY' 'LA BELLE DOWNS'\n",
      " 'WAGIMAN ABORIGINAL LAND TRUST' 'JIBABANA ABORIGINAL CORPORATION'\n",
      " 'ANGAS DOWNS' 'YAMBAH' 'AKWERRNGE ABORIGNAL CORPORATION' 'BURRAMURRA'\n",
      " 'MOUNT SKINNER' 'LHERE PIRNTE ABORIGINAL LAND TRUST' 'ANNITOWA'\n",
      " 'YINGAWUNARRI MUDBURA ABORIGINAL LAND TRUST'\n",
      " 'ANATYE ABORIGINAL LAND TRUST' 'MANGKURURRPA ABORIGINAL LAND TRUST'\n",
      " 'MISTAKE CREEK ABORIGINAL CORPORATION' 'SPRING CREEK'\n",
      " 'ALATYEYE ABORIGINAL CORPORATION' 'MOUNT RIDDOCK' 'BULLO RIVER'\n",
      " 'KUJULUWA ABORIGINAL CORPORATION' 'KOOLPINYAH'\n",
      " 'WAGIMAN (NO 2) ABORIGINAL LAND TRUST' 'WAMANKI ABORIGINAL CORPORATION'\n",
      " 'IRTNWERE TYEWELKERE ABORIGINAL CORPORATION'\n",
      " 'IMPERRENTH ABORIGINAL CORPORATION' 'INELYE ABORIGINAL CORPORATION'\n",
      " 'TYARNE ABORIGINAL CORPORATION' 'MATARANKA ABORIGINAL LAND TRUST'\n",
      " 'HORSESHOE BEND' 'LAKE NASH' 'GOONDOOLOO'\n",
      " 'WURRKLENI ABORIGINAL CORPORATION' 'DJARRUNG ABORIGINAL CORPORATION'\n",
      " 'ALAWA ABORIGINAL LAND TRUST' 'NGKERRALYE ABORIGINAL CORPORATION'\n",
      " 'MALLAPUNYAH SPRINGS' 'BANKA BANKA WEST'\n",
      " 'AKEKARRWENTEME UREYENGE ABORIGINAL LAND TRUST' 'WOOLNER'\n",
      " 'WURRALIBI ABORIGINAL LAND TRUST' 'ALROY DOWNS'\n",
      " 'GURDANJI ABORIGINAL CORPORATION'\n",
      " 'PANTHARRPILENHE ABORIGINAL CORPORATION' 'LORELLA' 'SEVEN EMU'\n",
      " 'GULUNURRU ABORIGINAL CORPORATION' 'BILINARA ABORIGINAL LAND TRUST'\n",
      " 'ATNWENGERRPE ABORIGINAL LAND TRUST' 'ILIYARNE ABORIGINAL LAND TRUST'\n",
      " 'PUNGALINA' 'MPWERINGE-ARNAPIPE (2) ABORIGINAL LAND TRUST'\n",
      " 'THAKEPERTE ABORIGINAL LAND TRUST' 'PANTYINTEME ABORIGINAL LAND TRUST'\n",
      " 'PURTA ABORIGINAL LAND TRUST' 'LEGUNE' 'MARYVALE' 'GREENBANK'\n",
      " 'APATULA ABORIGINAL LAND TRUST' 'PWANYE ABORIGINAL LAND TRUST'\n",
      " 'ULURU-KATATJUTA ABORIGINAL LAND TRUST' 'ALEXANDRIA'\n",
      " 'WANMARRA ABORIGINAL CORPORATION' 'NALIPINKAK ABORIGINAL LAND TRUST'\n",
      " 'PAWUWA ABORIGINAL CORPORATION' 'YUENDUMU ABORIGINAL LAND TRUST'\n",
      " 'NYAWANYAWAM DAWANG ABORIGINAL CORPORATION'\n",
      " 'PWERTE MARNTE MARNTE ABORIGINAL CORPORATION' 'KIANA' 'CLARAVALE'\n",
      " 'ALYAWARRA ABORIGINAL LAND TRUST' 'MONTEJINNI WEST'\n",
      " 'ANGULA ABORIGINAL CORPORATION' 'ANYUNGYUMBA ABORIGINAL CORPORATION'\n",
      " 'WESTERN DESERT NGANANPA WALYTJA PALYANTJAKU TJUTAKU ABORIGINAL CORPORATION (ICN 4236)'\n",
      " 'ROPER GULF SHIRE COUNCIL' 'IDRACOWRA' 'BANKA BANKA EAST'\n",
      " 'MONTEJINNI EAST' 'PAMAYU ABORIGINAL CORPORATION'\n",
      " 'THE ARNHEM LAND PROGRESS ABORIGINAL CORPORATION (ICN 7137)'\n",
      " 'COOMALIE COMMUNITY GOVERNMENT COUNCIL'\n",
      " 'CENTRAL AUSTRALIAN ABORIGINAL CONGRESS INC.' 'OLD MOUNT BUNDEY'\n",
      " 'INSTITUTE FOR ABORIGINAL DEVELOPMENT (ABORIGINAL CORPORATION) ICN 7395'\n",
      " 'AMUNGEE MUNGEE' 'STIRLING'\n",
      " 'CENTRAL AUSTRALIAN ABORIGINAL MEDIA ASSOCIATION (ABORIGINAL) INC.'\n",
      " 'DEPARTMENT OF LANDS PLANNING AND ENVIRONMENT'\n",
      " 'ABORIGINAL AND TORRES STRAIT ISLANDER COMMISSION'\n",
      " 'TANGENTYERE COUNCIL ABORIGINAL CORPORATION ICN 8280'\n",
      " 'INGKERREKE OUTSTATIONS RESOURCE SERVICES ABORIGINAL CORPORATION'\n",
      " 'CENTRAL AUSTRALIAN ABORIGINAL CONGRESS INC' 'DEPARTMENT OF EDUCATION'\n",
      " 'WALTJA TJUTANGKU PALYAPAYI ABORIGINAL CORPORATION'\n",
      " 'ABORIGINAL DEVELOPMENT COMMISSION' 'AMOONGUNA ABORIGNAL LAND TRUST'\n",
      " 'KNUCKEY LAGOONS' 'WAMBARDI ABORIGINAL LAND TRUST'\n",
      " 'ABORIGINAL DEVELOPMENT FOUNDATION INCORPORATED'\n",
      " 'DARWIN ABORIGINAL AND ISLANDER MEDICAL SERVICE ABORIGINAL CORPORATION'\n",
      " 'DARRANDARRA ABORIGINAL CORPORATION'\n",
      " 'ABORIGINALS FOR JESUS INCORPORATED (ABN 20 802 852 388)'\n",
      " 'MABUNJI ABORIGINAL RESOURCE INDIGENOUS CORPORATION (ICN 8252)'\n",
      " 'MABUNJI ABORIGINAL RESOURCE ASSOCIATION INCORPORATED'\n",
      " 'KATHERINE TOWN COUNCIL' 'ELLIOTT DISTRICT COMMUNITY GOVERNMENT COUNCIL'\n",
      " 'MACDONNELL SHIRE COUNCIL'\n",
      " 'APUTULA HOUSING ABORIGINAL CORPORATION (ICN 7230)'\n",
      " 'APUTULA ABORIGINAL CORPORATION ICN 7472'\n",
      " 'GUNDJEIHMI ABORIGINAL CORPORATION'\n",
      " 'JAWOYN ASSOCIATION ABORIGINAL CORPORATION (ICN 373)'\n",
      " 'WURLI-WURLINJANG ABORIGINAL CORPORATION'\n",
      " 'MIMI NGURRDALINGI ABORIGINAL CORPORATION (ICN 7654)'\n",
      " 'VICTORIA DALY SHIRE COUNCIL (ABN 66 931 675 319)'\n",
      " 'VICTORIA DALY SHIRE COUNCIL' 'ABORIGINAL HOSTELS LTD'\n",
      " 'ARIRRKI ABORIGINAL CORPORATION (ICN 4637)' 'ROPER GULF REGIONAL COUNCIL'\n",
      " 'SUNRISE HEALTH SERVICE ABORIGINAL CORPORATION' 'PALMERSTON TOWN COUNCIL'\n",
      " 'THE PINE CREEK ABORIGINAL ADVANCEMENT ASSOCIATION'\n",
      " 'NGALIWURRU - WULI ABORIGINAL CORPORATION (ICN 8993)'\n",
      " 'THE TENNANT CREEK TOWN COUNCIL'\n",
      " 'WANGARI JANGU KARI ABORIGINAL CORPORATION'\n",
      " 'PAPULU APPARR-KARI ABORIGINAL CORPORATION' 'LITCHFIELD SHIRE COUNCIL'\n",
      " 'BARKLY REGIONAL COUNCIL' 'GUNAMU ABORIGINAL CORPORATION'\n",
      " 'ANYINGINYI CONGRESS ABORIGINAL CORPORATION'\n",
      " 'ANYINGINYI HEALTH ABORIGINAL CORPORATION (ICN 283)' 'BRIDGE CREEK'\n",
      " 'GUNLOM ABORIGINAL LAND TRUST' 'PULKURRU LAND ABORIGINAL CORPORATION'\n",
      " 'IRRETETY ABORIGINAL CORPORATION'\n",
      " 'ANYINGINYI HEALTH ABORIGINAL CORPORATION'\n",
      " 'ANMATJERE COMMUNITY GOVERNMENT COUNCIL'\n",
      " 'AKAPERTATYEKE ABORIGINAL CORPORATION'\n",
      " 'YALPIRAKINU ABORIGINAL LAND TRUST' 'MANBULLOO' 'MARY RIVER EAST'\n",
      " 'MARRALAM DARRIGARU ABORIGINAL CORPORATION' 'BUSHY PARK'\n",
      " 'ARLETHERRE ABORIGINAL LAND TRUST' 'PWANYE NO 2 ABORIGINAL LAND TRUST'\n",
      " 'ALURALKWA ABORIGINAL COMMUNITY' 'KATHERINE DOWNS'\n",
      " 'IRRMARNE ABORIGINAL LAND TRUST' 'DORISVALE' 'SHENANDOAH' 'MARYFIELD'\n",
      " 'MARRA ABORIGINAL LAND TRUST' 'WINAN ABORIGINAL LAND TRUST' 'GORRIE'\n",
      " 'NGAANYATJARRA SERVICES (ABORIGINAL CORPORATION)'\n",
      " 'MARURRUM ABORIGINAL CORPORATION' 'MALA ABORIGINAL LAND TRUST'\n",
      " 'TNORALA ABORIGINAL CORPORATION' 'JABILUKA ABORIGINAL LAND TRUST'\n",
      " 'ORRTIPA THURRA ABORIGINAL CORPORATION' 'VERMELHA'\n",
      " 'ARLTUNGA ABORIGINAL LAND TRUST' 'AYLEPARRARNTENHE ABORIGINAL LAND TRUST'\n",
      " 'WONMURRI ABORIGINAL CORPORATION'\n",
      " 'ALKEPERRE-ATWARTE AYEPE-ARENYE ARLEYE ABORIGINAL LAND TRUST'\n",
      " 'THE COUNCIL FOR ABORIGINAL ALCOHOL PROGRAM SERVICES INCORPORATED'\n",
      " 'JURNTU JUNGU ABORIGINAL CORPORATION'\n",
      " 'GARAWA NO. 1 CAMP ABORIGINAL CORPORATION'\n",
      " 'CENTRAL AUSTRALIAN ABORIGINAL CONGRESS ABORIGINAL CORPORATION (ICN 7823)'\n",
      " 'CANNERY ROW' 'URREMERNE ABORIGINAL CORPORATION'\n",
      " 'ROULPMAULPMA ABORIGINAL LAND TRUST'\n",
      " 'NGARINGMAN ABORIGINAL RESOURCE CENTRE CORPORATION'\n",
      " 'SANTA TERESA ABORIGINAL LAND TRUST' 'AUVERGNE' 'BIRRINDUDU' 'STAPLETON'\n",
      " 'DELNY' 'ROPER GULF REGIONAL COUNCIL (ABN 94 746 956 090)'\n",
      " 'MOUNTAIN VALLEY' 'DOUGLAS SOUTH'\n",
      " 'NAUIYU NAMBIYU ABORIGINAL CORPORATION (ICN 7877)' 'DOUGLAS WEST'\n",
      " 'NGURRATJUTA/PMARA NTJARRA ABORIGINAL CORPORATION (ICN 414)' 'INDIANA'\n",
      " 'TYERRENG ABORIGINAL CORPORATION (ICN 8471)' 'EVA DOWNS'\n",
      " 'KARUNGKARNI ART AND CULTURE ABORIGINAL CORPORATION'\n",
      " 'NORTH AUSTRALIA ABORIGINAL CORPORATION (ICN 1178)' 'HENBURY'\n",
      " 'GURINDJI ABORIGINAL CORPORATION RNTBC (ABN 52 014 732 063)'\n",
      " 'ABORIGINES INLAND MISSION OF AUSTRALIA (PROPERTY HOLDING) PTY LIMITED'\n",
      " 'THE COUNCIL FOR ABORIGINAL ALCOHOL PROGRAM SERVICES INC'\n",
      " 'ABORIGINAL DEVELOPMENT FOUNDATION' 'WILLEROO'\n",
      " 'JAWOYN ASSOCIATION ABORIGINAL CORPORATION'\n",
      " 'MELKNGE ABORIGINAL LAND TRUST' 'KALUMBULANI ABORIGINAL CORPORATION'\n",
      " 'ULPANYALI ABORIGINAL CORPORATION' 'WESTERN CREEK' 'GEORGINA DOWNS'\n",
      " 'MULGA PARK' 'WATERLOO'\n",
      " 'INSTITUTE FOR ABORIGINAL DEVELOPMENT (ABORIGINAL CORPORATION)(ICN 7395)'\n",
      " 'WAGAIT SHIRE COUNCIL' 'MABUNJI ABORIGINAL RESOURCE ASSOCIATION INC'\n",
      " 'INVERWAY' 'LINGARRA-NGARINGMAN ABORIGINAL CORPORATION'\n",
      " 'KARU MUTU ABORIGINAL CORPORATION' 'KURRIPI ABORIGINAL CORPORATION'\n",
      " 'KARLANTIJPA NORTH ABORIGINAL LAND TRUST'\n",
      " 'YUNKANJINI ABORIGINAL LAND TRUST'\n",
      " 'GARAWA NO 2 HOUSING ABORIGINAL CORPORATION'\n",
      " 'DURDUGA TREE POINT ABORIGINAL ASSOCIATION INCORPORATED'\n",
      " 'WEST ARNHEM REGIONAL COUNCIL' 'BRUNCHILLY' 'BROADMERE' 'LUCY CREEK'\n",
      " 'NEUTRAL JUNCTION' 'TOBERMOREY' 'URETYINGKE ABORIGINAL LAND TRUST'\n",
      " 'WOGAYALA ABORIGINAL CORPORATION' 'HELEN SPRINGS'\n",
      " 'IJARRI COMMUNITY ABORIGINAL CORPORATION'\n",
      " 'VICTORIA DALY REGIONAL COUNCIL'\n",
      " 'MABUNJI ABORIGINAL RESOURCE ASSOCIATION' 'ALYUEM ABORIGINAL CORPORATION'\n",
      " 'GURINDJI ABORIGINAL CORPORATION RNTBC (ICN 7883)'\n",
      " 'YUTPUNDJI-DJINDIWIRRITJ ABORIGINAL LAND TRUST'\n",
      " 'MENGE ABORIGINAL CORPORATION' 'LONESOME DOVE'\n",
      " 'ILPARPA ABORIGINAL CORPORATION' 'FLORINA' 'RIVEREN' 'PINE HILL'\n",
      " 'INARNME ABORIGINAL LAND TRUST' 'MALAK MALAK ABORIGINAL LAND TRUST'\n",
      " 'GUYANGGAN ABORIGINAL CORPORATION' 'FLYING FOX'\n",
      " 'W LAGOON ABORIGINAL CORPORATION' 'CONWAY' 'BLOODWOOD DOWNS'\n",
      " 'CAMFIELD MUDBURA ABORIGINAL CORPORATION'\n",
      " 'DILLINYA ABORIGINAL LAND TRUST'\n",
      " 'WETENNGERR ABORIGINAL CORPORATION (ICN 239)' 'ERLDUNDA'\n",
      " 'BAN BAN SPRINGS' 'ANNINGIE' 'JUNGARRAYIWARNU ABORIGINAL CORPORATION'\n",
      " 'OLD MACDONALD DOWNS' 'YANGINJ ABORIGINAL CORPORATION' 'GILNOCKIE'\n",
      " 'KARNTE ABORIGINAL CORPORATION'\n",
      " 'ABORIGINES INLAND MISSION OF AUSTRALIA (PROPERTY HOLDING) PTY LTD'\n",
      " 'KIRKIMBIE' 'VICTORIA RIVER DOWNS' 'YININGARRA ABORIGINAL LAND TRUST'\n",
      " 'RODNA ABORIGINAL LAND TRUST'\n",
      " 'NGURRATJUTA/PMARA NTJARRA ABORIGINAL CORPORATION'\n",
      " 'DINNIE EXCISION (IMPERRENTH) ABORIGINAL CORPORATION' 'MAINORU' 'MARQUA'\n",
      " 'LILY HOLE CREEK ABORIGINAL CORPORATION' 'DOUGLAS' 'MOUNT CAVENAGH'\n",
      " 'YILLI RREUNG HOUSING ABORIGINAL CORPORATION'\n",
      " 'PATTA ABORIGINAL CORPORATION (ABN 53 827 219 691)' 'JINKA'\n",
      " 'JULALIKARI COUNCIL ABORIGINAL CORPORATION ICN 868 (ABN 52 109 391 552)'\n",
      " 'WELLTREE' 'MACDONALD DOWNS' 'MARRAKAI' 'ULBULLA ABORIGINAL CORPORATION'\n",
      " 'MPARNTWE SACRED SITES ABORIGINAL CORPORATION' 'TIPPERARY WEST'\n",
      " 'WARRABRI ABORIGINAL LAND TRUST'\n",
      " 'KARLANTIJPA SOUTH ABORIGINAL LAND TRUST' 'MAMP ABORIGINAL CORPORATION'\n",
      " 'WANIMIYN ABORIGINAL LAND TRUST' 'MULLUYU ABORIGINAL CORPORATION'\n",
      " 'URAPUNGA ABORIGINAL CORPORATION ICN 1800'\n",
      " 'BARNJARN ABORIGINAL ASSOCIATION'\n",
      " 'BILINARRA-JUTPURRA ABORIGINAL LAND TRUST'\n",
      " 'JUNGALINA ABORIGINAL CORPORATION' 'MEERCANTIE ABORIGINAL CORPORATION'\n",
      " 'CENTRAL DESERT ABORIGINAL LAND TRUST' 'WANARKULA ABORIGINAL CORPORATION'\n",
      " 'CENTRAL AUSTRALIAN ABORIGINAL MEDIA ASSOCIATION (ABORIGINAL INCORPORATION)'\n",
      " 'CENTRAL AUSTRALIAN ABORIGINAL MEDIA ASSOCIATION (ABORIGINAL CORPORATION)'\n",
      " 'MAYAT ABORIGINAL LAND TRUST' 'KARRINYARRA ABORIGINAL CORPORATION'\n",
      " 'LHERE ARTEPE ABORIGINAL CORPORATION (ICN 3991)'\n",
      " 'WESTERN DESERT NGANAMPA WALYTJA PALYANTJAKU TJUTAKU ABORIGINAL CORPORATION ICN 4236'\n",
      " 'SUNDAY CREEK' 'ARNHEM LAND ABORIGIN AL LAND TRUST'\n",
      " 'UKAKA ABORIGINAL CORPORATION' 'DIXIE' 'YURRKURU ABORIGINAL LAND TRUST'\n",
      " 'MT FREDERICK (NO.2) ABORIGINAL LAND TRUST'\n",
      " 'KANTTAJI ABORIGINAL LAND TRUST'\n",
      " 'GEAT INCORPORATED AS TRUSTEE FOR THE GROOTE EYLANDT ABORIGINAL TRUST'\n",
      " 'WESTERN DESERT NGANAMPA WALYTJA PALYANTJAKU TJUTAKU ABORIGINAL CORPORATION'\n",
      " 'YEWERRE ABORIGINAL LAND TRUST'\n",
      " 'RRUMBURRIYA MALANDARI COUNCIL ABORIGINAL CORPORATION'\n",
      " 'AHERRENGE ABORIGINAL LAND TRUST' 'ARAPUNYA'\n",
      " 'ROPER GULF REGIONAL COUNCIL (ABN 94 746 956 090),'\n",
      " 'IRTERRKEWARRE ABORIGINAL LAND TRUST'\n",
      " 'YILLI RREUNG HOUSING ABORIGINAL CORPORATION (ICN 4241)'\n",
      " 'MALNGIN 2 ABORIGINAL LAND TRUST'\n",
      " 'CENTRAL AUSTRALIAN ABORIGINAL ALCOHOL PROGRAMMES UNIT ABORIGINAL CORPORATION'\n",
      " 'UTYERRKIWE ABORIGINAL CORPORATION' 'MALNGIN ABORIGINAL LAND TRUST'\n",
      " 'JANDANKU ABORIGINAL LAND TRUST' 'LAKE MACKAY ABORIGINAL LAND TRUST'\n",
      " 'BANATJARL ABORIGINAL CORPORATION'\n",
      " 'WARLPIRI YOUTH DEVELOPMENT ABORIGINAL CORPORATION ICN 3563'\n",
      " 'NORTH AUSTRALIA ABORIGINAL CORPORATION'\n",
      " 'ABORIGINAL TORRES STRAIT ISLANDER COMMISSION'\n",
      " 'DAGARAGU COMMUNITY GOVERNMENT COUNCIL'\n",
      " 'MANGARRAYI ABORIGINAL LAND TRUST' 'WAJU ABORIGINAL CORPORATION'\n",
      " 'PIRNTE ABORIGINAL CORPORATION (ICN 7274)'\n",
      " 'MITTIEBAH ABORIGINAL LAND TRUST' 'ATHENGE LHERE ABORIGINAL LAND TRUST'\n",
      " 'NGALIWURRU/NUNGALI ABORIGINAL LAND TRUST'\n",
      " 'MENNGEN ABORIGINAL LAND TRUST' 'IRLENTYE ABORIGINAL CORPORATION'\n",
      " 'AKANTA ABORIGINAL LAND TRUST'\n",
      " 'NORTH AUSTRALIA ABORIGINAL CORPORATION (ABN 34 970 047 932)'\n",
      " 'BINJEN NINGGUWUNG ABORIGINAL CORPORATION'\n",
      " 'WESTERN DESERT NGANAMPA WALYTJA PALYANTJAKU TJUTAKU ABORIGINAL CORPORATION (ICN 4236)'\n",
      " 'S & J EARTHMOVING ABORIGINAL CORPORATION (ABN 17 815 732 013)'\n",
      " 'OWEN SPRINGS' 'BIRRIMBA' 'HIDDEN VALLEY'\n",
      " 'NORTH AUSTRALIA ABORIGINAL CORPORATION ICN 1178'\n",
      " 'MPWETYERRE ABORIGINAL CORPORATION'\n",
      " 'JILKMINGGAN COMMUNITY ABORIGINAL CORPORATION ICN 2762'\n",
      " 'JIRNGOW ABORIGINAL CORPORATION' 'NAGURUNGURU ABORIGINAL LAND TRUST'\n",
      " 'THE GAP YOUTH CENTRE ABORIGINAL CORPORATION'\n",
      " 'WUBALAWUN ABORIGINAL LAND TRUST' 'DRY RIVER'\n",
      " 'JIYLINUM ABORIGINAL CORPORATION (ICN 4234)'\n",
      " 'WESTERN DESERT NGANAMPA WALYTJA PALYANTJAKU TJUTAKU ABORIGINAL CORPORATION (ICN 4236) (ABN 94 755 01'\n",
      " 'DANILA DILBA BILURU BUTJI BINNILUTLUM HEALTH SERVICE ABORIGINAL CORPORATION'\n",
      " 'YANGULINYINA ABORIGINAL CORPORATION' 'UPPER DALY ABORIGINAL LAND TRUST'\n",
      " 'PMERE NYENTE ABORIGINAL LAND TRUST' 'WARLANGLUK ABORIGINAL CORPORATION'\n",
      " 'UREMERNE ABORIGINAL LAND TRUST' 'AROONA'\n",
      " 'MPWERINGE-ARNAPIPE ABORIGINAL LAND TRUST' 'NENEN'\n",
      " 'ANYINGINYI HEALTH ABORIGINAL CORPORATION ICN 283' 'ADDER'\n",
      " 'ILPARLE ABORIGINAL LAND TRUST' 'MOUNT RINGWOOD' 'SINGLETON'\n",
      " 'MPWELARRE ABORIGINAL LAND TRUST' 'JUTAMALING ABORIGINAL CORPORATION'\n",
      " 'JANGIRURLU ABORIGINAL CORPORATION' 'MOROAK' 'JINDARE'\n",
      " 'IRLWENTYE ABORIGINAL LAND TRUST' 'KALUMPITJA ABORIGINAL LAND TRUST'\n",
      " 'DEEP WELL' 'ALAWA 1 ABORIGINAL LAND TRUST' 'AVON DOWNS' 'MCARTHUR RIVER'\n",
      " 'LORRL ABORIGINAL LAND TRUST'\n",
      " 'NORTH AUSTRALIA ABORIGINAL CORPORATION INC (ABN 34 970 047 932)'\n",
      " 'ERLTERLAPENTYE ABORIGINAL LAND TRUST' 'PROVIDENCE' 'ROCKLANDS'\n",
      " 'MIDDLE CREEK' 'SHENANDOAH EAST' 'MCKINLAY RIVER'\n",
      " 'NGALURRTJU ABORIGINAL LAND TRUST' 'NEWHAVEN'\n",
      " 'ALLALGARA/ANNANGARA ABORIGINAL CORPORATION' 'CONISTON'\n",
      " 'YINGUALYALYA ABORIGINAL LAND TRUST' 'AREYN ABORIGINAL CORPORATION'\n",
      " 'RRURTENGE ABORIGINAL LAND TRUST' 'MANANGOORA' 'HUMBERT RIVER'\n",
      " 'MOUNT DENISON' 'ARGADARGADA' 'ALKNGIRRWELTYE ABORIGINAL CORPORATION'\n",
      " 'AVAGO' 'BINJARI COMMUNITY ABORIGINAL CORPORATION' 'DNEIPER' 'BALBIRINI'\n",
      " 'DJUDNGARIDI ABORIGINAL CORPORATION' 'TUWAKAM ABORIGINAL CORPORATION'\n",
      " 'UMALKA TJINTJIRA ABORIGINAL CORPORATION'\n",
      " 'NGALKARRANG-WULNGANN ABORIGINAL LAND TRUST'\n",
      " 'YIRRA BANDOO ABORIGINAL CORPORATION LAND TRUST' 'DERWENT' 'MATHISON'\n",
      " 'WAPIRRKA ABORIGINAL CORPORATION' 'KALUMPITJA 2 ABORIGINAL LAND TRUST'\n",
      " 'MOUNT EBENEZER' 'ATITJERE LAND ABORIGINAL CORPORATION'\n",
      " 'IRRERLIRRE ABORIGINAL CORPORATION']\n"
     ]
    }
   ],
   "source": [
    "property_list = cadastre.PROP_NAME.unique()\n",
    "print(property_list)"
   ]
  },
  {
   "cell_type": "code",
   "execution_count": 114,
   "metadata": {},
   "outputs": [
    {
     "data": {
      "text/plain": [
       "['BIRRIMBA',\n",
       " 'CAMFIELD',\n",
       " 'CATTLE CREEK',\n",
       " 'ELIZABETH DOWNS',\n",
       " 'EPENARRA',\n",
       " 'HAYFIELD',\n",
       " 'INVERWAY',\n",
       " 'JINDARE',\n",
       " 'KATHERINE DOWNS',\n",
       " 'KILLARNEY',\n",
       " 'MARY RIVER WEST',\n",
       " 'MIDDLE CREEK',\n",
       " 'MONTEJINNI EAST',\n",
       " 'MONTEJINNI WEST',\n",
       " 'MURRAY DOWNS',\n",
       " 'RIVEREN',\n",
       " 'SHENANDOAH',\n",
       " 'SHENANDOAH EAST',\n",
       " 'TODD RIVER',\n",
       " 'WAVE HILL',\n",
       " 'WILLEROO',\n",
       " 'WONGALARA',\n",
       " 'TENNANT CREEK',\n",
       " 'BULLO RIVER',\n",
       " 'YAMBAH']"
      ]
     },
     "execution_count": 114,
     "metadata": {},
     "output_type": "execute_result"
    }
   ],
   "source": [
    "properties = pd.read_excel(r\"\\\\pgb-bas01\\DENR_Satellite_Imagery$\\Scratch\\Zonal_Stats_Pipeline\\Copy of landsatZonalStatsTiles2.xlsx\")\n",
    "properties[\"Property\"] = properties[\"Property\"].str.upper()\n",
    "prop_list = properties.Property.unique().tolist()\n",
    "prop_list"
   ]
  },
  {
   "cell_type": "code",
   "execution_count": 115,
   "metadata": {},
   "outputs": [
    {
     "name": "stderr",
     "output_type": "stream",
     "text": [
      "C:\\ProgramData\\Anaconda3\\lib\\site-packages\\ipykernel_launcher.py:6: SettingWithCopyWarning: \n",
      "A value is trying to be set on a copy of a slice from a DataFrame.\n",
      "Try using .loc[row_indexer,col_indexer] = value instead\n",
      "\n",
      "See the caveats in the documentation: http://pandas.pydata.org/pandas-docs/stable/user_guide/indexing.html#returning-a-view-versus-a-copy\n",
      "  \n"
     ]
    },
    {
     "name": "stdout",
     "output_type": "stream",
     "text": [
      "BIRRIMBA\n",
      "CAMFIELD\n",
      "CATTLE CREEK\n",
      "ELIZABETH DOWNS\n",
      "EPENARRA\n",
      "HAYFIELD\n",
      "INVERWAY\n",
      "JINDARE\n",
      "KATHERINE DOWNS\n",
      "KILLARNEY\n",
      "MARY RIVER WEST\n",
      "MIDDLE CREEK\n",
      "MONTEJINNI EAST\n",
      "MONTEJINNI WEST\n",
      "MURRAY DOWNS\n",
      "RIVEREN\n",
      "SHENANDOAH\n",
      "SHENANDOAH EAST\n",
      "TODD RIVER\n",
      "WAVE HILL\n",
      "WILLEROO\n",
      "WONGALARA\n",
      "TENNANT CREEK\n",
      "BULLO RIVER\n",
      "YAMBAH\n"
     ]
    }
   ],
   "source": [
    "# create individual property shapefiles from a list\n",
    "for i in prop_list:\n",
    "    #To select rows whose column value equals a scalar, some_value, use ==:\n",
    "    prop = cadastre1[cadastre1[\"PROP_NAME\"]== i]\n",
    "    prop.reset_index(drop=True, inplace=True)\n",
    "    prop['uid']= prop.index + 1\n",
    "    print (i)\n",
    "    prop.to_file(r\"D:\\Rob\\fire\\property_\" + str.lower(i) + \"_output_GDA94.shp\")\n"
   ]
  },
  {
   "cell_type": "code",
   "execution_count": null,
   "metadata": {},
   "outputs": [],
   "source": [
    "prop"
   ]
  },
  {
   "cell_type": "code",
   "execution_count": 57,
   "metadata": {},
   "outputs": [],
   "source": [
    "# create individual property shapefiles from a list\n",
    "for i in pastoral_list:\n",
    "    #To select rows whose column value equals a scalar, some_value, use ==:\n",
    "    prop = cadastre[cadastre[\"PROP_NAME\"]== i]\n",
    "    prop['uid']= prop.index + 1\n",
    "\n",
    "    prop\n"
   ]
  },
  {
   "cell_type": "code",
   "execution_count": 58,
   "metadata": {},
   "outputs": [
    {
     "ename": "IndexError",
     "evalue": "too many indices for array",
     "output_type": "error",
     "traceback": [
      "\u001b[1;31m---------------------------------------------------------------------------\u001b[0m",
      "\u001b[1;31mIndexError\u001b[0m                                Traceback (most recent call last)",
      "\u001b[1;32mC:\\ProgramData\\Anaconda3\\lib\\site-packages\\IPython\\core\\formatters.py\u001b[0m in \u001b[0;36m__call__\u001b[1;34m(self, obj)\u001b[0m\n\u001b[0;32m    343\u001b[0m             \u001b[0mmethod\u001b[0m \u001b[1;33m=\u001b[0m \u001b[0mget_real_method\u001b[0m\u001b[1;33m(\u001b[0m\u001b[0mobj\u001b[0m\u001b[1;33m,\u001b[0m \u001b[0mself\u001b[0m\u001b[1;33m.\u001b[0m\u001b[0mprint_method\u001b[0m\u001b[1;33m)\u001b[0m\u001b[1;33m\u001b[0m\u001b[1;33m\u001b[0m\u001b[0m\n\u001b[0;32m    344\u001b[0m             \u001b[1;32mif\u001b[0m \u001b[0mmethod\u001b[0m \u001b[1;32mis\u001b[0m \u001b[1;32mnot\u001b[0m \u001b[1;32mNone\u001b[0m\u001b[1;33m:\u001b[0m\u001b[1;33m\u001b[0m\u001b[1;33m\u001b[0m\u001b[0m\n\u001b[1;32m--> 345\u001b[1;33m                 \u001b[1;32mreturn\u001b[0m \u001b[0mmethod\u001b[0m\u001b[1;33m(\u001b[0m\u001b[1;33m)\u001b[0m\u001b[1;33m\u001b[0m\u001b[1;33m\u001b[0m\u001b[0m\n\u001b[0m\u001b[0;32m    346\u001b[0m             \u001b[1;32mreturn\u001b[0m \u001b[1;32mNone\u001b[0m\u001b[1;33m\u001b[0m\u001b[1;33m\u001b[0m\u001b[0m\n\u001b[0;32m    347\u001b[0m         \u001b[1;32melse\u001b[0m\u001b[1;33m:\u001b[0m\u001b[1;33m\u001b[0m\u001b[1;33m\u001b[0m\u001b[0m\n",
      "\u001b[1;32mC:\\ProgramData\\Anaconda3\\lib\\site-packages\\pandas\\core\\frame.py\u001b[0m in \u001b[0;36m_repr_html_\u001b[1;34m(self)\u001b[0m\n\u001b[0;32m    685\u001b[0m                 \u001b[0mshow_dimensions\u001b[0m\u001b[1;33m=\u001b[0m\u001b[0mshow_dimensions\u001b[0m\u001b[1;33m,\u001b[0m\u001b[1;33m\u001b[0m\u001b[1;33m\u001b[0m\u001b[0m\n\u001b[0;32m    686\u001b[0m             )\n\u001b[1;32m--> 687\u001b[1;33m             \u001b[0mformatter\u001b[0m\u001b[1;33m.\u001b[0m\u001b[0mto_html\u001b[0m\u001b[1;33m(\u001b[0m\u001b[0mnotebook\u001b[0m\u001b[1;33m=\u001b[0m\u001b[1;32mTrue\u001b[0m\u001b[1;33m)\u001b[0m\u001b[1;33m\u001b[0m\u001b[1;33m\u001b[0m\u001b[0m\n\u001b[0m\u001b[0;32m    688\u001b[0m             \u001b[1;32mreturn\u001b[0m \u001b[0mformatter\u001b[0m\u001b[1;33m.\u001b[0m\u001b[0mbuf\u001b[0m\u001b[1;33m.\u001b[0m\u001b[0mgetvalue\u001b[0m\u001b[1;33m(\u001b[0m\u001b[1;33m)\u001b[0m\u001b[1;33m\u001b[0m\u001b[1;33m\u001b[0m\u001b[0m\n\u001b[0;32m    689\u001b[0m         \u001b[1;32melse\u001b[0m\u001b[1;33m:\u001b[0m\u001b[1;33m\u001b[0m\u001b[1;33m\u001b[0m\u001b[0m\n",
      "\u001b[1;32mC:\\ProgramData\\Anaconda3\\lib\\site-packages\\pandas\\io\\formats\\format.py\u001b[0m in \u001b[0;36mto_html\u001b[1;34m(self, classes, notebook, border)\u001b[0m\n\u001b[0;32m    838\u001b[0m \u001b[1;33m\u001b[0m\u001b[0m\n\u001b[0;32m    839\u001b[0m         \u001b[0mKlass\u001b[0m \u001b[1;33m=\u001b[0m \u001b[0mNotebookFormatter\u001b[0m \u001b[1;32mif\u001b[0m \u001b[0mnotebook\u001b[0m \u001b[1;32melse\u001b[0m \u001b[0mHTMLFormatter\u001b[0m\u001b[1;33m\u001b[0m\u001b[1;33m\u001b[0m\u001b[0m\n\u001b[1;32m--> 840\u001b[1;33m         \u001b[0mhtml\u001b[0m \u001b[1;33m=\u001b[0m \u001b[0mKlass\u001b[0m\u001b[1;33m(\u001b[0m\u001b[0mself\u001b[0m\u001b[1;33m,\u001b[0m \u001b[0mclasses\u001b[0m\u001b[1;33m=\u001b[0m\u001b[0mclasses\u001b[0m\u001b[1;33m,\u001b[0m \u001b[0mborder\u001b[0m\u001b[1;33m=\u001b[0m\u001b[0mborder\u001b[0m\u001b[1;33m)\u001b[0m\u001b[1;33m.\u001b[0m\u001b[0mrender\u001b[0m\u001b[1;33m(\u001b[0m\u001b[1;33m)\u001b[0m\u001b[1;33m\u001b[0m\u001b[1;33m\u001b[0m\u001b[0m\n\u001b[0m\u001b[0;32m    841\u001b[0m         \u001b[1;32mif\u001b[0m \u001b[0mhasattr\u001b[0m\u001b[1;33m(\u001b[0m\u001b[0mself\u001b[0m\u001b[1;33m.\u001b[0m\u001b[0mbuf\u001b[0m\u001b[1;33m,\u001b[0m \u001b[1;34m\"write\"\u001b[0m\u001b[1;33m)\u001b[0m\u001b[1;33m:\u001b[0m\u001b[1;33m\u001b[0m\u001b[1;33m\u001b[0m\u001b[0m\n\u001b[0;32m    842\u001b[0m             \u001b[0mbuffer_put_lines\u001b[0m\u001b[1;33m(\u001b[0m\u001b[0mself\u001b[0m\u001b[1;33m.\u001b[0m\u001b[0mbuf\u001b[0m\u001b[1;33m,\u001b[0m \u001b[0mhtml\u001b[0m\u001b[1;33m)\u001b[0m\u001b[1;33m\u001b[0m\u001b[1;33m\u001b[0m\u001b[0m\n",
      "\u001b[1;32mC:\\ProgramData\\Anaconda3\\lib\\site-packages\\pandas\\io\\formats\\html.py\u001b[0m in \u001b[0;36mrender\u001b[1;34m(self)\u001b[0m\n\u001b[0;32m    604\u001b[0m         \u001b[0mself\u001b[0m\u001b[1;33m.\u001b[0m\u001b[0mwrite\u001b[0m\u001b[1;33m(\u001b[0m\u001b[1;34m\"<div>\"\u001b[0m\u001b[1;33m)\u001b[0m\u001b[1;33m\u001b[0m\u001b[1;33m\u001b[0m\u001b[0m\n\u001b[0;32m    605\u001b[0m         \u001b[0mself\u001b[0m\u001b[1;33m.\u001b[0m\u001b[0mwrite_style\u001b[0m\u001b[1;33m(\u001b[0m\u001b[1;33m)\u001b[0m\u001b[1;33m\u001b[0m\u001b[1;33m\u001b[0m\u001b[0m\n\u001b[1;32m--> 606\u001b[1;33m         \u001b[0msuper\u001b[0m\u001b[1;33m(\u001b[0m\u001b[1;33m)\u001b[0m\u001b[1;33m.\u001b[0m\u001b[0mrender\u001b[0m\u001b[1;33m(\u001b[0m\u001b[1;33m)\u001b[0m\u001b[1;33m\u001b[0m\u001b[1;33m\u001b[0m\u001b[0m\n\u001b[0m\u001b[0;32m    607\u001b[0m         \u001b[0mself\u001b[0m\u001b[1;33m.\u001b[0m\u001b[0mwrite\u001b[0m\u001b[1;33m(\u001b[0m\u001b[1;34m\"</div>\"\u001b[0m\u001b[1;33m)\u001b[0m\u001b[1;33m\u001b[0m\u001b[1;33m\u001b[0m\u001b[0m\n\u001b[0;32m    608\u001b[0m         \u001b[1;32mreturn\u001b[0m \u001b[0mself\u001b[0m\u001b[1;33m.\u001b[0m\u001b[0melements\u001b[0m\u001b[1;33m\u001b[0m\u001b[1;33m\u001b[0m\u001b[0m\n",
      "\u001b[1;32mC:\\ProgramData\\Anaconda3\\lib\\site-packages\\pandas\\io\\formats\\html.py\u001b[0m in \u001b[0;36mrender\u001b[1;34m(self)\u001b[0m\n\u001b[0;32m    191\u001b[0m \u001b[1;33m\u001b[0m\u001b[0m\n\u001b[0;32m    192\u001b[0m     \u001b[1;32mdef\u001b[0m \u001b[0mrender\u001b[0m\u001b[1;33m(\u001b[0m\u001b[0mself\u001b[0m\u001b[1;33m)\u001b[0m \u001b[1;33m->\u001b[0m \u001b[0mList\u001b[0m\u001b[1;33m[\u001b[0m\u001b[0mstr\u001b[0m\u001b[1;33m]\u001b[0m\u001b[1;33m:\u001b[0m\u001b[1;33m\u001b[0m\u001b[1;33m\u001b[0m\u001b[0m\n\u001b[1;32m--> 193\u001b[1;33m         \u001b[0mself\u001b[0m\u001b[1;33m.\u001b[0m\u001b[0m_write_table\u001b[0m\u001b[1;33m(\u001b[0m\u001b[1;33m)\u001b[0m\u001b[1;33m\u001b[0m\u001b[1;33m\u001b[0m\u001b[0m\n\u001b[0m\u001b[0;32m    194\u001b[0m \u001b[1;33m\u001b[0m\u001b[0m\n\u001b[0;32m    195\u001b[0m         \u001b[1;32mif\u001b[0m \u001b[0mself\u001b[0m\u001b[1;33m.\u001b[0m\u001b[0mshould_show_dimensions\u001b[0m\u001b[1;33m:\u001b[0m\u001b[1;33m\u001b[0m\u001b[1;33m\u001b[0m\u001b[0m\n",
      "\u001b[1;32mC:\\ProgramData\\Anaconda3\\lib\\site-packages\\pandas\\io\\formats\\html.py\u001b[0m in \u001b[0;36m_write_table\u001b[1;34m(self, indent)\u001b[0m\n\u001b[0;32m    233\u001b[0m             \u001b[0mself\u001b[0m\u001b[1;33m.\u001b[0m\u001b[0m_write_header\u001b[0m\u001b[1;33m(\u001b[0m\u001b[0mindent\u001b[0m \u001b[1;33m+\u001b[0m \u001b[0mself\u001b[0m\u001b[1;33m.\u001b[0m\u001b[0mindent_delta\u001b[0m\u001b[1;33m)\u001b[0m\u001b[1;33m\u001b[0m\u001b[1;33m\u001b[0m\u001b[0m\n\u001b[0;32m    234\u001b[0m \u001b[1;33m\u001b[0m\u001b[0m\n\u001b[1;32m--> 235\u001b[1;33m         \u001b[0mself\u001b[0m\u001b[1;33m.\u001b[0m\u001b[0m_write_body\u001b[0m\u001b[1;33m(\u001b[0m\u001b[0mindent\u001b[0m \u001b[1;33m+\u001b[0m \u001b[0mself\u001b[0m\u001b[1;33m.\u001b[0m\u001b[0mindent_delta\u001b[0m\u001b[1;33m)\u001b[0m\u001b[1;33m\u001b[0m\u001b[1;33m\u001b[0m\u001b[0m\n\u001b[0m\u001b[0;32m    236\u001b[0m \u001b[1;33m\u001b[0m\u001b[0m\n\u001b[0;32m    237\u001b[0m         \u001b[0mself\u001b[0m\u001b[1;33m.\u001b[0m\u001b[0mwrite\u001b[0m\u001b[1;33m(\u001b[0m\u001b[1;34m\"</table>\"\u001b[0m\u001b[1;33m,\u001b[0m \u001b[0mindent\u001b[0m\u001b[1;33m)\u001b[0m\u001b[1;33m\u001b[0m\u001b[1;33m\u001b[0m\u001b[0m\n",
      "\u001b[1;32mC:\\ProgramData\\Anaconda3\\lib\\site-packages\\pandas\\io\\formats\\html.py\u001b[0m in \u001b[0;36m_write_body\u001b[1;34m(self, indent)\u001b[0m\n\u001b[0;32m    379\u001b[0m     \u001b[1;32mdef\u001b[0m \u001b[0m_write_body\u001b[0m\u001b[1;33m(\u001b[0m\u001b[0mself\u001b[0m\u001b[1;33m,\u001b[0m \u001b[0mindent\u001b[0m\u001b[1;33m:\u001b[0m \u001b[0mint\u001b[0m\u001b[1;33m)\u001b[0m \u001b[1;33m->\u001b[0m \u001b[1;32mNone\u001b[0m\u001b[1;33m:\u001b[0m\u001b[1;33m\u001b[0m\u001b[1;33m\u001b[0m\u001b[0m\n\u001b[0;32m    380\u001b[0m         \u001b[0mself\u001b[0m\u001b[1;33m.\u001b[0m\u001b[0mwrite\u001b[0m\u001b[1;33m(\u001b[0m\u001b[1;34m\"<tbody>\"\u001b[0m\u001b[1;33m,\u001b[0m \u001b[0mindent\u001b[0m\u001b[1;33m)\u001b[0m\u001b[1;33m\u001b[0m\u001b[1;33m\u001b[0m\u001b[0m\n\u001b[1;32m--> 381\u001b[1;33m         \u001b[0mfmt_values\u001b[0m \u001b[1;33m=\u001b[0m \u001b[0mself\u001b[0m\u001b[1;33m.\u001b[0m\u001b[0m_get_formatted_values\u001b[0m\u001b[1;33m(\u001b[0m\u001b[1;33m)\u001b[0m\u001b[1;33m\u001b[0m\u001b[1;33m\u001b[0m\u001b[0m\n\u001b[0m\u001b[0;32m    382\u001b[0m \u001b[1;33m\u001b[0m\u001b[0m\n\u001b[0;32m    383\u001b[0m         \u001b[1;31m# write values\u001b[0m\u001b[1;33m\u001b[0m\u001b[1;33m\u001b[0m\u001b[1;33m\u001b[0m\u001b[0m\n",
      "\u001b[1;32mC:\\ProgramData\\Anaconda3\\lib\\site-packages\\pandas\\io\\formats\\html.py\u001b[0m in \u001b[0;36m_get_formatted_values\u001b[1;34m(self)\u001b[0m\n\u001b[0;32m    568\u001b[0m \u001b[1;33m\u001b[0m\u001b[0m\n\u001b[0;32m    569\u001b[0m     \u001b[1;32mdef\u001b[0m \u001b[0m_get_formatted_values\u001b[0m\u001b[1;33m(\u001b[0m\u001b[0mself\u001b[0m\u001b[1;33m)\u001b[0m \u001b[1;33m->\u001b[0m \u001b[0mDict\u001b[0m\u001b[1;33m[\u001b[0m\u001b[0mint\u001b[0m\u001b[1;33m,\u001b[0m \u001b[0mList\u001b[0m\u001b[1;33m[\u001b[0m\u001b[0mstr\u001b[0m\u001b[1;33m]\u001b[0m\u001b[1;33m]\u001b[0m\u001b[1;33m:\u001b[0m\u001b[1;33m\u001b[0m\u001b[1;33m\u001b[0m\u001b[0m\n\u001b[1;32m--> 570\u001b[1;33m         \u001b[1;32mreturn\u001b[0m \u001b[1;33m{\u001b[0m\u001b[0mi\u001b[0m\u001b[1;33m:\u001b[0m \u001b[0mself\u001b[0m\u001b[1;33m.\u001b[0m\u001b[0mfmt\u001b[0m\u001b[1;33m.\u001b[0m\u001b[0m_format_col\u001b[0m\u001b[1;33m(\u001b[0m\u001b[0mi\u001b[0m\u001b[1;33m)\u001b[0m \u001b[1;32mfor\u001b[0m \u001b[0mi\u001b[0m \u001b[1;32min\u001b[0m \u001b[0mrange\u001b[0m\u001b[1;33m(\u001b[0m\u001b[0mself\u001b[0m\u001b[1;33m.\u001b[0m\u001b[0mncols\u001b[0m\u001b[1;33m)\u001b[0m\u001b[1;33m}\u001b[0m\u001b[1;33m\u001b[0m\u001b[1;33m\u001b[0m\u001b[0m\n\u001b[0m\u001b[0;32m    571\u001b[0m \u001b[1;33m\u001b[0m\u001b[0m\n\u001b[0;32m    572\u001b[0m     \u001b[1;32mdef\u001b[0m \u001b[0m_get_columns_formatted_values\u001b[0m\u001b[1;33m(\u001b[0m\u001b[0mself\u001b[0m\u001b[1;33m)\u001b[0m \u001b[1;33m->\u001b[0m \u001b[0mList\u001b[0m\u001b[1;33m[\u001b[0m\u001b[0mstr\u001b[0m\u001b[1;33m]\u001b[0m\u001b[1;33m:\u001b[0m\u001b[1;33m\u001b[0m\u001b[1;33m\u001b[0m\u001b[0m\n",
      "\u001b[1;32mC:\\ProgramData\\Anaconda3\\lib\\site-packages\\pandas\\io\\formats\\html.py\u001b[0m in \u001b[0;36m<dictcomp>\u001b[1;34m(.0)\u001b[0m\n\u001b[0;32m    568\u001b[0m \u001b[1;33m\u001b[0m\u001b[0m\n\u001b[0;32m    569\u001b[0m     \u001b[1;32mdef\u001b[0m \u001b[0m_get_formatted_values\u001b[0m\u001b[1;33m(\u001b[0m\u001b[0mself\u001b[0m\u001b[1;33m)\u001b[0m \u001b[1;33m->\u001b[0m \u001b[0mDict\u001b[0m\u001b[1;33m[\u001b[0m\u001b[0mint\u001b[0m\u001b[1;33m,\u001b[0m \u001b[0mList\u001b[0m\u001b[1;33m[\u001b[0m\u001b[0mstr\u001b[0m\u001b[1;33m]\u001b[0m\u001b[1;33m]\u001b[0m\u001b[1;33m:\u001b[0m\u001b[1;33m\u001b[0m\u001b[1;33m\u001b[0m\u001b[0m\n\u001b[1;32m--> 570\u001b[1;33m         \u001b[1;32mreturn\u001b[0m \u001b[1;33m{\u001b[0m\u001b[0mi\u001b[0m\u001b[1;33m:\u001b[0m \u001b[0mself\u001b[0m\u001b[1;33m.\u001b[0m\u001b[0mfmt\u001b[0m\u001b[1;33m.\u001b[0m\u001b[0m_format_col\u001b[0m\u001b[1;33m(\u001b[0m\u001b[0mi\u001b[0m\u001b[1;33m)\u001b[0m \u001b[1;32mfor\u001b[0m \u001b[0mi\u001b[0m \u001b[1;32min\u001b[0m \u001b[0mrange\u001b[0m\u001b[1;33m(\u001b[0m\u001b[0mself\u001b[0m\u001b[1;33m.\u001b[0m\u001b[0mncols\u001b[0m\u001b[1;33m)\u001b[0m\u001b[1;33m}\u001b[0m\u001b[1;33m\u001b[0m\u001b[1;33m\u001b[0m\u001b[0m\n\u001b[0m\u001b[0;32m    571\u001b[0m \u001b[1;33m\u001b[0m\u001b[0m\n\u001b[0;32m    572\u001b[0m     \u001b[1;32mdef\u001b[0m \u001b[0m_get_columns_formatted_values\u001b[0m\u001b[1;33m(\u001b[0m\u001b[0mself\u001b[0m\u001b[1;33m)\u001b[0m \u001b[1;33m->\u001b[0m \u001b[0mList\u001b[0m\u001b[1;33m[\u001b[0m\u001b[0mstr\u001b[0m\u001b[1;33m]\u001b[0m\u001b[1;33m:\u001b[0m\u001b[1;33m\u001b[0m\u001b[1;33m\u001b[0m\u001b[0m\n",
      "\u001b[1;32mC:\\ProgramData\\Anaconda3\\lib\\site-packages\\pandas\\io\\formats\\format.py\u001b[0m in \u001b[0;36m_format_col\u001b[1;34m(self, i)\u001b[0m\n\u001b[0;32m    815\u001b[0m             \u001b[0mna_rep\u001b[0m\u001b[1;33m=\u001b[0m\u001b[0mself\u001b[0m\u001b[1;33m.\u001b[0m\u001b[0mna_rep\u001b[0m\u001b[1;33m,\u001b[0m\u001b[1;33m\u001b[0m\u001b[1;33m\u001b[0m\u001b[0m\n\u001b[0;32m    816\u001b[0m             \u001b[0mspace\u001b[0m\u001b[1;33m=\u001b[0m\u001b[0mself\u001b[0m\u001b[1;33m.\u001b[0m\u001b[0mcol_space\u001b[0m\u001b[1;33m,\u001b[0m\u001b[1;33m\u001b[0m\u001b[1;33m\u001b[0m\u001b[0m\n\u001b[1;32m--> 817\u001b[1;33m             \u001b[0mdecimal\u001b[0m\u001b[1;33m=\u001b[0m\u001b[0mself\u001b[0m\u001b[1;33m.\u001b[0m\u001b[0mdecimal\u001b[0m\u001b[1;33m,\u001b[0m\u001b[1;33m\u001b[0m\u001b[1;33m\u001b[0m\u001b[0m\n\u001b[0m\u001b[0;32m    818\u001b[0m         )\n\u001b[0;32m    819\u001b[0m \u001b[1;33m\u001b[0m\u001b[0m\n",
      "\u001b[1;32mC:\\ProgramData\\Anaconda3\\lib\\site-packages\\pandas\\io\\formats\\format.py\u001b[0m in \u001b[0;36mformat_array\u001b[1;34m(values, formatter, float_format, na_rep, digits, space, justify, decimal, leading_space)\u001b[0m\n\u001b[0;32m   1031\u001b[0m     )\n\u001b[0;32m   1032\u001b[0m \u001b[1;33m\u001b[0m\u001b[0m\n\u001b[1;32m-> 1033\u001b[1;33m     \u001b[1;32mreturn\u001b[0m \u001b[0mfmt_obj\u001b[0m\u001b[1;33m.\u001b[0m\u001b[0mget_result\u001b[0m\u001b[1;33m(\u001b[0m\u001b[1;33m)\u001b[0m\u001b[1;33m\u001b[0m\u001b[1;33m\u001b[0m\u001b[0m\n\u001b[0m\u001b[0;32m   1034\u001b[0m \u001b[1;33m\u001b[0m\u001b[0m\n\u001b[0;32m   1035\u001b[0m \u001b[1;33m\u001b[0m\u001b[0m\n",
      "\u001b[1;32mC:\\ProgramData\\Anaconda3\\lib\\site-packages\\pandas\\io\\formats\\format.py\u001b[0m in \u001b[0;36mget_result\u001b[1;34m(self)\u001b[0m\n\u001b[0;32m   1062\u001b[0m \u001b[1;33m\u001b[0m\u001b[0m\n\u001b[0;32m   1063\u001b[0m     \u001b[1;32mdef\u001b[0m \u001b[0mget_result\u001b[0m\u001b[1;33m(\u001b[0m\u001b[0mself\u001b[0m\u001b[1;33m)\u001b[0m\u001b[1;33m:\u001b[0m\u001b[1;33m\u001b[0m\u001b[1;33m\u001b[0m\u001b[0m\n\u001b[1;32m-> 1064\u001b[1;33m         \u001b[0mfmt_values\u001b[0m \u001b[1;33m=\u001b[0m \u001b[0mself\u001b[0m\u001b[1;33m.\u001b[0m\u001b[0m_format_strings\u001b[0m\u001b[1;33m(\u001b[0m\u001b[1;33m)\u001b[0m\u001b[1;33m\u001b[0m\u001b[1;33m\u001b[0m\u001b[0m\n\u001b[0m\u001b[0;32m   1065\u001b[0m         \u001b[1;32mreturn\u001b[0m \u001b[0m_make_fixed_width\u001b[0m\u001b[1;33m(\u001b[0m\u001b[0mfmt_values\u001b[0m\u001b[1;33m,\u001b[0m \u001b[0mself\u001b[0m\u001b[1;33m.\u001b[0m\u001b[0mjustify\u001b[0m\u001b[1;33m)\u001b[0m\u001b[1;33m\u001b[0m\u001b[1;33m\u001b[0m\u001b[0m\n\u001b[0;32m   1066\u001b[0m \u001b[1;33m\u001b[0m\u001b[0m\n",
      "\u001b[1;32mC:\\ProgramData\\Anaconda3\\lib\\site-packages\\pandas\\io\\formats\\format.py\u001b[0m in \u001b[0;36m_format_strings\u001b[1;34m(self)\u001b[0m\n\u001b[0;32m   1328\u001b[0m             \u001b[0mvalues\u001b[0m \u001b[1;33m=\u001b[0m \u001b[0mvalues\u001b[0m\u001b[1;33m.\u001b[0m\u001b[0m_values\u001b[0m\u001b[1;33m\u001b[0m\u001b[1;33m\u001b[0m\u001b[0m\n\u001b[0;32m   1329\u001b[0m \u001b[1;33m\u001b[0m\u001b[0m\n\u001b[1;32m-> 1330\u001b[1;33m         \u001b[0mformatter\u001b[0m \u001b[1;33m=\u001b[0m \u001b[0mvalues\u001b[0m\u001b[1;33m.\u001b[0m\u001b[0m_formatter\u001b[0m\u001b[1;33m(\u001b[0m\u001b[0mboxed\u001b[0m\u001b[1;33m=\u001b[0m\u001b[1;32mTrue\u001b[0m\u001b[1;33m)\u001b[0m\u001b[1;33m\u001b[0m\u001b[1;33m\u001b[0m\u001b[0m\n\u001b[0m\u001b[0;32m   1331\u001b[0m \u001b[1;33m\u001b[0m\u001b[0m\n\u001b[0;32m   1332\u001b[0m         \u001b[1;32mif\u001b[0m \u001b[0mis_categorical_dtype\u001b[0m\u001b[1;33m(\u001b[0m\u001b[0mvalues\u001b[0m\u001b[1;33m.\u001b[0m\u001b[0mdtype\u001b[0m\u001b[1;33m)\u001b[0m\u001b[1;33m:\u001b[0m\u001b[1;33m\u001b[0m\u001b[1;33m\u001b[0m\u001b[0m\n",
      "\u001b[1;32mC:\\ProgramData\\Anaconda3\\lib\\site-packages\\geopandas\\array.py\u001b[0m in \u001b[0;36m_formatter\u001b[1;34m(self, boxed)\u001b[0m\n\u001b[0;32m   1009\u001b[0m                 \u001b[1;31m# dummy heuristic based on 10 first geometries that should\u001b[0m\u001b[1;33m\u001b[0m\u001b[1;33m\u001b[0m\u001b[1;33m\u001b[0m\u001b[0m\n\u001b[0;32m   1010\u001b[0m                 \u001b[1;31m# work in most cases\u001b[0m\u001b[1;33m\u001b[0m\u001b[1;33m\u001b[0m\u001b[1;33m\u001b[0m\u001b[0m\n\u001b[1;32m-> 1011\u001b[1;33m                 \u001b[0mxmin\u001b[0m\u001b[1;33m,\u001b[0m \u001b[0mymin\u001b[0m\u001b[1;33m,\u001b[0m \u001b[0mxmax\u001b[0m\u001b[1;33m,\u001b[0m \u001b[0mymax\u001b[0m \u001b[1;33m=\u001b[0m \u001b[0mself\u001b[0m\u001b[1;33m[\u001b[0m\u001b[1;33m~\u001b[0m\u001b[0mself\u001b[0m\u001b[1;33m.\u001b[0m\u001b[0misna\u001b[0m\u001b[1;33m(\u001b[0m\u001b[1;33m)\u001b[0m\u001b[1;33m]\u001b[0m\u001b[1;33m[\u001b[0m\u001b[1;33m:\u001b[0m\u001b[1;36m10\u001b[0m\u001b[1;33m]\u001b[0m\u001b[1;33m.\u001b[0m\u001b[0mtotal_bounds\u001b[0m\u001b[1;33m\u001b[0m\u001b[1;33m\u001b[0m\u001b[0m\n\u001b[0m\u001b[0;32m   1012\u001b[0m                 if (\n\u001b[0;32m   1013\u001b[0m                     \u001b[1;33m(\u001b[0m\u001b[1;33m-\u001b[0m\u001b[1;36m180\u001b[0m \u001b[1;33m<=\u001b[0m \u001b[0mxmin\u001b[0m \u001b[1;33m<=\u001b[0m \u001b[1;36m180\u001b[0m\u001b[1;33m)\u001b[0m\u001b[1;33m\u001b[0m\u001b[1;33m\u001b[0m\u001b[0m\n",
      "\u001b[1;32mC:\\ProgramData\\Anaconda3\\lib\\site-packages\\geopandas\\array.py\u001b[0m in \u001b[0;36mtotal_bounds\u001b[1;34m(self)\u001b[0m\n\u001b[0;32m    750\u001b[0m         return np.array(\n\u001b[0;32m    751\u001b[0m             (\n\u001b[1;32m--> 752\u001b[1;33m                 \u001b[0mb\u001b[0m\u001b[1;33m[\u001b[0m\u001b[1;33m:\u001b[0m\u001b[1;33m,\u001b[0m \u001b[1;36m0\u001b[0m\u001b[1;33m]\u001b[0m\u001b[1;33m.\u001b[0m\u001b[0mmin\u001b[0m\u001b[1;33m(\u001b[0m\u001b[1;33m)\u001b[0m\u001b[1;33m,\u001b[0m  \u001b[1;31m# minx\u001b[0m\u001b[1;33m\u001b[0m\u001b[1;33m\u001b[0m\u001b[0m\n\u001b[0m\u001b[0;32m    753\u001b[0m                 \u001b[0mb\u001b[0m\u001b[1;33m[\u001b[0m\u001b[1;33m:\u001b[0m\u001b[1;33m,\u001b[0m \u001b[1;36m1\u001b[0m\u001b[1;33m]\u001b[0m\u001b[1;33m.\u001b[0m\u001b[0mmin\u001b[0m\u001b[1;33m(\u001b[0m\u001b[1;33m)\u001b[0m\u001b[1;33m,\u001b[0m  \u001b[1;31m# miny\u001b[0m\u001b[1;33m\u001b[0m\u001b[1;33m\u001b[0m\u001b[0m\n\u001b[0;32m    754\u001b[0m                 \u001b[0mb\u001b[0m\u001b[1;33m[\u001b[0m\u001b[1;33m:\u001b[0m\u001b[1;33m,\u001b[0m \u001b[1;36m2\u001b[0m\u001b[1;33m]\u001b[0m\u001b[1;33m.\u001b[0m\u001b[0mmax\u001b[0m\u001b[1;33m(\u001b[0m\u001b[1;33m)\u001b[0m\u001b[1;33m,\u001b[0m  \u001b[1;31m# maxx\u001b[0m\u001b[1;33m\u001b[0m\u001b[1;33m\u001b[0m\u001b[0m\n",
      "\u001b[1;31mIndexError\u001b[0m: too many indices for array"
     ]
    },
    {
     "data": {
      "text/plain": [
       "Empty GeoDataFrame\n",
       "Columns: [LAISKEY, ST_NUMBER, ST_PART, ST_NAME, ST_TYPE, SUBURB, LOC_CODE, LOC_NAME, PARCEL, LTO_CODE, PAR_PART, PAR_TYPE, PAR_LABEL, PAR_AREA_M, PROP_NAME, OWNER_CAT, SURVEY_ID, SVYPLAN_NO, SURVEYLINK, TENREF_TYP, TENREF_DES, TENREF_NUM, TEN_STATUS, TENVOLTYPE, TEN_VOLUME, TEN_FOLIO, TOWNP_ZONE, STATUSCODE, ILIS_LINK, DATEEXTRCT, CREATEDATE, UNIT_COUNT, UCV_AMOUNT, UCV_DATE, UCV_PER_M2, ADMIN_NORM, UFI, geometry, uid]\n",
       "Index: []\n",
       "\n",
       "[0 rows x 39 columns]"
      ]
     },
     "execution_count": 58,
     "metadata": {},
     "output_type": "execute_result"
    }
   ],
   "source": [
    "prop"
   ]
  },
  {
   "cell_type": "code",
   "execution_count": null,
   "metadata": {},
   "outputs": [],
   "source": [
    "for i in property_list:\n",
    "    #To select rows whose column value equals a scalar, some_value, use ==:\n",
    "    #prop = cadastre1[cadastre1[\"PROP_NAME\"]== i]\n",
    "    print (i)\n",
    "    mask = prop[cadastre1.PROP_NAME== i]\n",
    "    "
   ]
  },
  {
   "cell_type": "code",
   "execution_count": null,
   "metadata": {},
   "outputs": [],
   "source": [
    "cadastre = gpd.read_file(r\"D:\\Rob\\fire\\three_properties.shp\")\n",
    "property_list = cadastre.PARCEL.unique()\n",
    "print(property_list)"
   ]
  },
  {
   "cell_type": "code",
   "execution_count": null,
   "metadata": {},
   "outputs": [],
   "source": [
    "for i in property_list:\n",
    "    #To select rows whose column value equals a scalar, some_value, use ==:\n",
    "    prop =cadastre[(cadastre[\"LOC_NAME\"]== 'NT Portion') & (cadastre[\"PARCEL\"] == i)]\n",
    "    #print(prop)\n",
    "    print(\"Prop crs: \", prop.crs)\n",
    "    prop_ = prop.to_crs(\"EPSG:4283\")\n",
    "    "
   ]
  },
  {
   "cell_type": "code",
   "execution_count": null,
   "metadata": {},
   "outputs": [],
   "source": [
    "def epsg(epsg_code):\n",
    "    \n",
    "    \"\"\"\n",
    "    function to convert the epsg code to proj4, the orginal example of the code used pycrs \n",
    "    to obtain this infromatin for the internet. This version relies on it being in this function. \n",
    "    I have covered all the codes relevent to me however it may fail if used elsewhere.\n",
    "    \n",
    "    \"\"\"\n",
    "    if epsg_code == 32752:\n",
    "        epsg_code_proj4 = '+proj=utm +zone=52 +south +ellps=WGS84 +datum=WGS84 +units=m +no_defs'\n",
    "    if epsg_code == 32753:\n",
    "        epsg_code_proj4 = '+proj=utm +zone=53 +south +ellps=WGS84 +datum=WGS84 +units=m +no_defs'\n",
    "        \n",
    "    if epsg_code == 28352:\n",
    "        epsg_code_proj4 = '+proj=utm +zone=52 +south +ellps=GRS80 +towgs84=0,0,0,0,0,0,0 +units=m +no_defs'   \n",
    "    \n",
    "    if epsg_code == 28353:\n",
    "        epsg_code_proj4 = '+proj=utm +zone=53 +south +ellps=GRS80 +towgs84=0,0,0,0,0,0,0 +units=m +no_defs'        \n",
    "    \n",
    "    if epsg_code == 4283:\n",
    "        epsg_code_proj4 = '+proj=longlat +ellps=GRS80 +towgs84=0,0,0,0,0,0,0 +no_defs'     \n",
    "        \n",
    "    if epsg_code == 6644:\n",
    "        epsg_code_proj4 = '+proj=aea +lat_1=-18 +lat_2=-36 +lat_0=0 +lon_0=134 +x_0=0 +y_0=0 +ellps=GRS80 +towgs84=0,0,0,0,0,0,0 +units=m +no_defs' \n",
    "    if epsg_code == 3577:\n",
    "        epsg_code_proj4 = '+proj=aea +lat_1=-18 +lat_2=-36 +lat_0=0 +lon_0=132 +x_0=0 +y_0=0 +ellps=GRS80 +towgs84=0,0,0,0,0,0,0 +units=m +no_defs'\n",
    "    \n",
    "    return epsg_code_proj4"
   ]
  },
  {
   "cell_type": "code",
   "execution_count": null,
   "metadata": {},
   "outputs": [],
   "source": [
    "prop =cadastre[(cadastre[\"LOC_NAME\"]== propName) & (cadastre[\"PARCEL\"] == propNum)]\n",
    "print(\"Prop crs: \", prop.crs)"
   ]
  },
  {
   "cell_type": "markdown",
   "metadata": {},
   "source": [
    "## Project Tif"
   ]
  },
  {
   "cell_type": "code",
   "execution_count": null,
   "metadata": {},
   "outputs": [],
   "source": [
    "import gdal"
   ]
  },
  {
   "cell_type": "code",
   "execution_count": null,
   "metadata": {},
   "outputs": [],
   "source": [
    "ds = gdal.Open(r\"Z:\\Scratch\\Zonal_Stats_Pipeline\\Firescars\\no_spatial\\FS2006_MTH.tif\")"
   ]
  },
  {
   "cell_type": "code",
   "execution_count": null,
   "metadata": {},
   "outputs": [],
   "source": [
    "from osgeo import ogr, osr\n",
    "ds.GetProjection()"
   ]
  },
  {
   "cell_type": "code",
   "execution_count": null,
   "metadata": {},
   "outputs": [],
   "source": [
    "roads = gdal.Open(r\"Z:\\Scratch\\Zonal_Stats_Pipeline\\Firescars\\no_spatial\\FS2000_MTH.tif\", gdal.GA_Update)"
   ]
  },
  {
   "cell_type": "code",
   "execution_count": null,
   "metadata": {},
   "outputs": [],
   "source": []
  }
 ],
 "metadata": {
  "kernelspec": {
   "display_name": "Python 3",
   "language": "python",
   "name": "python3"
  },
  "language_info": {
   "codemirror_mode": {
    "name": "ipython",
    "version": 3
   },
   "file_extension": ".py",
   "mimetype": "text/x-python",
   "name": "python",
   "nbconvert_exporter": "python",
   "pygments_lexer": "ipython3",
   "version": "3.7.8"
  }
 },
 "nbformat": 4,
 "nbformat_minor": 2
}
