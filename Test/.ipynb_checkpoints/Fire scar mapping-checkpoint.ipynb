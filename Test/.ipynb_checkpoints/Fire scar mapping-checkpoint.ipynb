{
 "cells": [
  {
   "cell_type": "markdown",
   "metadata": {},
   "source": [
    "# Fire scar mapping"
   ]
  },
  {
   "cell_type": "code",
   "execution_count": 1,
   "metadata": {},
   "outputs": [
    {
     "name": "stderr",
     "output_type": "stream",
     "text": [
      "In C:\\ProgramData\\Anaconda3\\lib\\site-packages\\matplotlib\\mpl-data\\stylelib\\_classic_test.mplstyle: \n",
      "The text.latex.preview rcparam was deprecated in Matplotlib 3.3 and will be removed two minor releases later.\n",
      "In C:\\ProgramData\\Anaconda3\\lib\\site-packages\\matplotlib\\mpl-data\\stylelib\\_classic_test.mplstyle: \n",
      "The mathtext.fallback_to_cm rcparam was deprecated in Matplotlib 3.3 and will be removed two minor releases later.\n",
      "In C:\\ProgramData\\Anaconda3\\lib\\site-packages\\matplotlib\\mpl-data\\stylelib\\_classic_test.mplstyle: Support for setting the 'mathtext.fallback_to_cm' rcParam is deprecated since 3.3 and will be removed two minor releases later; use 'mathtext.fallback : 'cm' instead.\n",
      "In C:\\ProgramData\\Anaconda3\\lib\\site-packages\\matplotlib\\mpl-data\\stylelib\\_classic_test.mplstyle: \n",
      "The validate_bool_maybe_none function was deprecated in Matplotlib 3.3 and will be removed two minor releases later.\n",
      "In C:\\ProgramData\\Anaconda3\\lib\\site-packages\\matplotlib\\mpl-data\\stylelib\\_classic_test.mplstyle: \n",
      "The savefig.jpeg_quality rcparam was deprecated in Matplotlib 3.3 and will be removed two minor releases later.\n",
      "In C:\\ProgramData\\Anaconda3\\lib\\site-packages\\matplotlib\\mpl-data\\stylelib\\_classic_test.mplstyle: \n",
      "The keymap.all_axes rcparam was deprecated in Matplotlib 3.3 and will be removed two minor releases later.\n",
      "In C:\\ProgramData\\Anaconda3\\lib\\site-packages\\matplotlib\\mpl-data\\stylelib\\_classic_test.mplstyle: \n",
      "The animation.avconv_path rcparam was deprecated in Matplotlib 3.3 and will be removed two minor releases later.\n",
      "In C:\\ProgramData\\Anaconda3\\lib\\site-packages\\matplotlib\\mpl-data\\stylelib\\_classic_test.mplstyle: \n",
      "The animation.avconv_args rcparam was deprecated in Matplotlib 3.3 and will be removed two minor releases later.\n"
     ]
    },
    {
     "data": {
      "text/plain": [
       "'0.6.1'"
      ]
     },
     "execution_count": 1,
     "metadata": {},
     "output_type": "execute_result"
    }
   ],
   "source": [
    "import geopandas as gpd\n",
    "import matplotlib.pyplot as plt\n",
    "from osgeo import ogr\n",
    "#from descartes.patch import PolygonPatch\n",
    "#from matplotlib.collections import PatchCollection\n",
    "prop_value = '010     03754'\n",
    "gpd.__version__ # clip function in 7.0 or above."
   ]
  },
  {
   "cell_type": "markdown",
   "metadata": {},
   "source": [
    "https://towardsdatascience.com/what-is-new-in-geopandas-0-70-dda0ddc90978"
   ]
  },
  {
   "cell_type": "code",
   "execution_count": 2,
   "metadata": {},
   "outputs": [],
   "source": [
    "cadastre = gpd.read_file(r\"U:\\LIB_Common\\Cadastre\\Datasets\\Av_data\\Cadastre.shp\")\n",
    "fire_2020 = gpd.read_file(r\"U:\\Working\\Rangelands\\Spatial Data\\NAFI Firescars\\2020 firescars\\fs2020shp.shp\")\n",
    "fire_2019 = gpd.read_file(r\"U:\\Working\\Rangelands\\Spatial Data\\NAFI Firescars\\2019 firescars\\fs2019shp.shp\")\n",
    "fire_2018 = gpd.read_file(r\"U:\\Working\\Rangelands\\Spatial Data\\NAFI Firescars\\2018 firescars\\fs2018Revised.shp\")\n",
    "\n"
   ]
  },
  {
   "cell_type": "code",
   "execution_count": 9,
   "metadata": {},
   "outputs": [
    {
     "data": {
      "text/html": [
       "<div>\n",
       "<style scoped>\n",
       "    .dataframe tbody tr th:only-of-type {\n",
       "        vertical-align: middle;\n",
       "    }\n",
       "\n",
       "    .dataframe tbody tr th {\n",
       "        vertical-align: top;\n",
       "    }\n",
       "\n",
       "    .dataframe thead th {\n",
       "        text-align: right;\n",
       "    }\n",
       "</style>\n",
       "<table border=\"1\" class=\"dataframe\">\n",
       "  <thead>\n",
       "    <tr style=\"text-align: right;\">\n",
       "      <th></th>\n",
       "      <th>OBJECTID</th>\n",
       "      <th>PROP_NAME</th>\n",
       "      <th>SITE_NAME</th>\n",
       "      <th>uid</th>\n",
       "      <th>Shape_Leng</th>\n",
       "      <th>Shape_Area</th>\n",
       "      <th>geometry</th>\n",
       "    </tr>\n",
       "  </thead>\n",
       "  <tbody>\n",
       "    <tr>\n",
       "      <td>0</td>\n",
       "      <td>1</td>\n",
       "      <td>Shenandoah</td>\n",
       "      <td>SDH06</td>\n",
       "      <td>1</td>\n",
       "      <td>0.003669</td>\n",
       "      <td>8.410915e-07</td>\n",
       "      <td>POLYGON ((133.59162 -16.66542, 133.59160 -16.6...</td>\n",
       "    </tr>\n",
       "  </tbody>\n",
       "</table>\n",
       "</div>"
      ],
      "text/plain": [
       "   OBJECTID   PROP_NAME SITE_NAME  uid  Shape_Leng    Shape_Area  \\\n",
       "0         1  Shenandoah     SDH06    1    0.003669  8.410915e-07   \n",
       "\n",
       "                                            geometry  \n",
       "0  POLYGON ((133.59162 -16.66542, 133.59160 -16.6...  "
      ]
     },
     "execution_count": 9,
     "metadata": {},
     "output_type": "execute_result"
    }
   ],
   "source": [
    "gpd.read_file(r\"C:\\Users\\rmcgr\\Desktop\\firemaps\\single_site_GCS_1994.shp\")"
   ]
  },
  {
   "cell_type": "code",
   "execution_count": 3,
   "metadata": {},
   "outputs": [],
   "source": [
    "propName = 'NT Portion'\n",
    "propNum = str(4867)"
   ]
  },
  {
   "cell_type": "code",
   "execution_count": 10,
   "metadata": {},
   "outputs": [
    {
     "name": "stdout",
     "output_type": "stream",
     "text": [
      "Prop crs:  {'init': 'epsg:4283'}\n"
     ]
    }
   ],
   "source": [
    "prop =cadastre[(cadastre[\"LOC_NAME\"]== propName) & (cadastre[\"PARCEL\"] == propNum)]\n",
    "print(\"Prop crs: \", prop.crs)"
   ]
  },
  {
   "cell_type": "code",
   "execution_count": 13,
   "metadata": {},
   "outputs": [
    {
     "name": "stdout",
     "output_type": "stream",
     "text": [
      "fire_2020 crs:  {'proj': 'longlat', 'ellps': 'GRS80', 'no_defs': True}\n"
     ]
    },
    {
     "data": {
      "image/png": "[encoded data removed]",
      "text/plain": [
       "<Figure size 432x288 with 1 Axes>"
      ]
     },
     "metadata": {
      "needs_background": "light"
     },
     "output_type": "display_data"
    }
   ],
   "source": [
    "fire_2020.plot()\n",
    "print('fire_2020 crs: ', fire_2020.crs)"
   ]
  },
  {
   "cell_type": "code",
   "execution_count": 23,
   "metadata": {},
   "outputs": [],
   "source": [
    "fire_2020.crs={'init': 'epsg:4283'}\n",
    "fire_2019.crs={'init': 'epsg:4283'}\n",
    "fire_2018.crs={'init': 'epsg:4283'}"
   ]
  },
  {
   "cell_type": "code",
   "execution_count": 8,
   "metadata": {},
   "outputs": [
    {
     "data": {
      "text/plain": [
       "<AxesSubplot:>"
      ]
     },
     "execution_count": 8,
     "metadata": {},
     "output_type": "execute_result"
    },
    {
     "data": {
      "image/png": "[encoded data removed]",
      "text/plain": [
       "<Figure size 432x288 with 1 Axes>"
      ]
     },
     "metadata": {
      "needs_background": "light"
     },
     "output_type": "display_data"
    }
   ],
   "source": [
    "prop.plot()"
   ]
  },
  {
   "cell_type": "code",
   "execution_count": 41,
   "metadata": {},
   "outputs": [
    {
     "data": {
      "text/html": [
       "<div>\n",
       "<style scoped>\n",
       "    .dataframe tbody tr th:only-of-type {\n",
       "        vertical-align: middle;\n",
       "    }\n",
       "\n",
       "    .dataframe tbody tr th {\n",
       "        vertical-align: top;\n",
       "    }\n",
       "\n",
       "    .dataframe thead th {\n",
       "        text-align: right;\n",
       "    }\n",
       "</style>\n",
       "<table border=\"1\" class=\"dataframe\">\n",
       "  <thead>\n",
       "    <tr style=\"text-align: right;\">\n",
       "      <th></th>\n",
       "      <th>Id</th>\n",
       "      <th>gridcode</th>\n",
       "      <th>month</th>\n",
       "      <th>geometry</th>\n",
       "    </tr>\n",
       "    <tr>\n",
       "      <th>index_right</th>\n",
       "      <th></th>\n",
       "      <th></th>\n",
       "      <th></th>\n",
       "      <th></th>\n",
       "    </tr>\n",
       "  </thead>\n",
       "  <tbody>\n",
       "    <tr>\n",
       "      <td>57318</td>\n",
       "      <td>81347</td>\n",
       "      <td>190</td>\n",
       "      <td>10</td>\n",
       "      <td>POLYGON ((129.80750 -17.52250, 129.80250 -17.5...</td>\n",
       "    </tr>\n",
       "    <tr>\n",
       "      <td>0</td>\n",
       "      <td>1</td>\n",
       "      <td>180</td>\n",
       "      <td>10</td>\n",
       "      <td>POLYGON ((142.27250 -10.59500, 142.26500 -10.5...</td>\n",
       "    </tr>\n",
       "    <tr>\n",
       "      <td>1</td>\n",
       "      <td>4</td>\n",
       "      <td>193</td>\n",
       "      <td>10</td>\n",
       "      <td>POLYGON ((142.25000 -10.60000, 142.24750 -10.6...</td>\n",
       "    </tr>\n",
       "    <tr>\n",
       "      <td>2</td>\n",
       "      <td>6</td>\n",
       "      <td>193</td>\n",
       "      <td>10</td>\n",
       "      <td>POLYGON ((142.31000 -10.61000, 142.30500 -10.6...</td>\n",
       "    </tr>\n",
       "    <tr>\n",
       "      <td>3</td>\n",
       "      <td>9</td>\n",
       "      <td>180</td>\n",
       "      <td>10</td>\n",
       "      <td>POLYGON ((142.20000 -10.64000, 142.19250 -10.6...</td>\n",
       "    </tr>\n",
       "    <tr>\n",
       "      <td>...</td>\n",
       "      <td>...</td>\n",
       "      <td>...</td>\n",
       "      <td>...</td>\n",
       "      <td>...</td>\n",
       "    </tr>\n",
       "    <tr>\n",
       "      <td>71757</td>\n",
       "      <td>101672</td>\n",
       "      <td>75</td>\n",
       "      <td>6</td>\n",
       "      <td>POLYGON ((119.65250 -33.91000, 119.65000 -33.9...</td>\n",
       "    </tr>\n",
       "    <tr>\n",
       "      <td>71758</td>\n",
       "      <td>101673</td>\n",
       "      <td>75</td>\n",
       "      <td>6</td>\n",
       "      <td>POLYGON ((119.61750 -33.94750, 119.61750 -33.9...</td>\n",
       "    </tr>\n",
       "    <tr>\n",
       "      <td>71759</td>\n",
       "      <td>101674</td>\n",
       "      <td>75</td>\n",
       "      <td>6</td>\n",
       "      <td>POLYGON ((119.61750 -33.94750, 119.61750 -33.9...</td>\n",
       "    </tr>\n",
       "    <tr>\n",
       "      <td>71760</td>\n",
       "      <td>101676</td>\n",
       "      <td>75</td>\n",
       "      <td>6</td>\n",
       "      <td>POLYGON ((119.78000 -33.99000, 119.78000 -33.9...</td>\n",
       "    </tr>\n",
       "    <tr>\n",
       "      <td>71761</td>\n",
       "      <td>101677</td>\n",
       "      <td>75</td>\n",
       "      <td>6</td>\n",
       "      <td>POLYGON ((119.77750 -34.00000, 119.71000 -34.0...</td>\n",
       "    </tr>\n",
       "  </tbody>\n",
       "</table>\n",
       "<p>71762 rows × 4 columns</p>\n",
       "</div>"
      ],
      "text/plain": [
       "                 Id  gridcode  month  \\\n",
       "index_right                            \n",
       "57318         81347       190     10   \n",
       "0                 1       180     10   \n",
       "1                 4       193     10   \n",
       "2                 6       193     10   \n",
       "3                 9       180     10   \n",
       "...             ...       ...    ...   \n",
       "71757        101672        75      6   \n",
       "71758        101673        75      6   \n",
       "71759        101674        75      6   \n",
       "71760        101676        75      6   \n",
       "71761        101677        75      6   \n",
       "\n",
       "                                                      geometry  \n",
       "index_right                                                     \n",
       "57318        POLYGON ((129.80750 -17.52250, 129.80250 -17.5...  \n",
       "0            POLYGON ((142.27250 -10.59500, 142.26500 -10.5...  \n",
       "1            POLYGON ((142.25000 -10.60000, 142.24750 -10.6...  \n",
       "2            POLYGON ((142.31000 -10.61000, 142.30500 -10.6...  \n",
       "3            POLYGON ((142.20000 -10.64000, 142.19250 -10.6...  \n",
       "...                                                        ...  \n",
       "71757        POLYGON ((119.65250 -33.91000, 119.65000 -33.9...  \n",
       "71758        POLYGON ((119.61750 -33.94750, 119.61750 -33.9...  \n",
       "71759        POLYGON ((119.61750 -33.94750, 119.61750 -33.9...  \n",
       "71760        POLYGON ((119.78000 -33.99000, 119.78000 -33.9...  \n",
       "71761        POLYGON ((119.77750 -34.00000, 119.71000 -34.0...  \n",
       "\n",
       "[71762 rows x 4 columns]"
      ]
     },
     "execution_count": 41,
     "metadata": {},
     "output_type": "execute_result"
    }
   ],
   "source": [
    "prop_fire = gpd.sjoin(prop, fire_2019, how=\"right\", op='intersects')\n",
    "#prop_fire\n",
    "new = prop_fire[[\"Id\", \"gridcode\", \"month\", \"geometry\"]]\n",
    "new"
   ]
  },
  {
   "cell_type": "code",
   "execution_count": 3,
   "metadata": {},
   "outputs": [],
   "source": [
    "import geopandas\n",
    "from shapely.geometry import Polygon"
   ]
  },
  {
   "cell_type": "code",
   "execution_count": 4,
   "metadata": {},
   "outputs": [],
   "source": [
    "capitals = geopandas.read_file(geopandas.datasets.get_path(\"naturalearth_cities\"))\n",
    "world = geopandas.read_file(geopandas.datasets.get_path(\"naturalearth_lowres\"))\n",
    "\n",
    "# Create a subset of the world data that is just the South American continent\n",
    "south_america = world[world[\"continent\"] == \"South America\"]\n",
    "\n",
    "# Create a custom polygon\n",
    "polygon = Polygon([(0, 0), (0, 90), (180, 90), (180, 0), (0, 0)])\n",
    "poly_gdf = geopandas.GeoDataFrame([1], geometry=[polygon], crs=world.crs)"
   ]
  },
  {
   "cell_type": "code",
   "execution_count": 5,
   "metadata": {},
   "outputs": [
    {
     "data": {
      "image/png": "[encoded data removed]",
      "text/plain": [
       "<Figure size 864x576 with 2 Axes>"
      ]
     },
     "metadata": {
      "needs_background": "light"
     },
     "output_type": "display_data"
    }
   ],
   "source": [
    "fig, (ax1, ax2) = plt.subplots(2, 1, figsize=(12, 8))\n",
    "world.plot(ax=ax1)\n",
    "poly_gdf.boundary.plot(ax=ax1, color=\"red\")\n",
    "south_america.boundary.plot(ax=ax2, color=\"green\")\n",
    "capitals.plot(ax=ax2, color=\"purple\")\n",
    "ax1.set_title(\"All Unclipped World Data\", fontsize=20)\n",
    "ax2.set_title(\"All Unclipped Capital Data\", fontsize=20)\n",
    "ax1.set_axis_off()\n",
    "ax2.set_axis_off()\n",
    "plt.show()"
   ]
  },
  {
   "cell_type": "code",
   "execution_count": 6,
   "metadata": {},
   "outputs": [
    {
     "ename": "AttributeError",
     "evalue": "module 'geopandas' has no attribute 'clip'",
     "output_type": "error",
     "traceback": [
      "\u001b[1;31m-------------------------------------------------------------------------\u001b[0m",
      "\u001b[1;31mAttributeError\u001b[0m                          Traceback (most recent call last)",
      "\u001b[1;32m<ipython-input-6-e1d24b3be7e1>\u001b[0m in \u001b[0;36m<module>\u001b[1;34m\u001b[0m\n\u001b[1;32m----> 1\u001b[1;33m \u001b[0mworld_clipped\u001b[0m \u001b[1;33m=\u001b[0m \u001b[0mgeopandas\u001b[0m\u001b[1;33m.\u001b[0m\u001b[0mclip\u001b[0m\u001b[1;33m(\u001b[0m\u001b[0mworld\u001b[0m\u001b[1;33m,\u001b[0m \u001b[0mpolygon\u001b[0m\u001b[1;33m)\u001b[0m\u001b[1;33m\u001b[0m\u001b[1;33m\u001b[0m\u001b[0m\n\u001b[0m\u001b[0;32m      2\u001b[0m \u001b[1;33m\u001b[0m\u001b[0m\n\u001b[0;32m      3\u001b[0m \u001b[1;31m# Plot the clipped data\u001b[0m\u001b[1;33m\u001b[0m\u001b[1;33m\u001b[0m\u001b[1;33m\u001b[0m\u001b[0m\n\u001b[0;32m      4\u001b[0m \u001b[1;31m# The plot below shows the results of the clip function applied to the world\u001b[0m\u001b[1;33m\u001b[0m\u001b[1;33m\u001b[0m\u001b[1;33m\u001b[0m\u001b[0m\n\u001b[0;32m      5\u001b[0m \u001b[1;31m# sphinx_gallery_thumbnail_number = 2\u001b[0m\u001b[1;33m\u001b[0m\u001b[1;33m\u001b[0m\u001b[1;33m\u001b[0m\u001b[0m\n",
      "\u001b[1;31mAttributeError\u001b[0m: module 'geopandas' has no attribute 'clip'"
     ]
    }
   ],
   "source": [
    "world_clipped = geopandas.clip(world, polygon)\n",
    "\n",
    "# Plot the clipped data\n",
    "# The plot below shows the results of the clip function applied to the world\n",
    "# sphinx_gallery_thumbnail_number = 2\n",
    "fig, ax = plt.subplots(figsize=(12, 8))\n",
    "world_clipped.plot(ax=ax, color=\"purple\")\n",
    "world.boundary.plot(ax=ax)\n",
    "poly_gdf.boundary.plot(ax=ax, color=\"red\")\n",
    "ax.set_title(\"World Clipped\", fontsize=20)\n",
    "ax.set_axis_off()\n",
    "plt.show()"
   ]
  },
  {
   "cell_type": "code",
   "execution_count": null,
   "metadata": {},
   "outputs": [],
   "source": []
  },
  {
   "cell_type": "code",
   "execution_count": null,
   "metadata": {},
   "outputs": [],
   "source": []
  }
 ],
 "metadata": {
  "kernelspec": {
   "display_name": "Python 3",
   "language": "python",
   "name": "python3"
  },
  "language_info": {
   "codemirror_mode": {
    "name": "ipython",
    "version": 3
   },
   "file_extension": ".py",
   "mimetype": "text/x-python",
   "name": "python",
   "nbconvert_exporter": "python",
   "pygments_lexer": "ipython3",
   "version": "3.7.7"
  }
 },
 "nbformat": 4,
 "nbformat_minor": 2
}
