{
 "cells": [
  {
   "cell_type": "markdown",
   "metadata": {},
   "source": [
    "# Raster fire scar assessment - working"
   ]
  },
  {
   "cell_type": "markdown",
   "metadata": {},
   "source": [
    "## PANDAS"
   ]
  },
  {
   "cell_type": "code",
   "execution_count": 1,
   "metadata": {},
   "outputs": [
    {
     "name": "stdout",
     "output_type": "stream",
     "text": [
      "Populating the interactive namespace from numpy and matplotlib\n"
     ]
    }
   ],
   "source": [
    "%pylab inline\n",
    "import pandas as pd\n",
    "import datetime as dt\n",
    "import matplotlib.pyplot as plt\n",
    "import matplotlib.dates as mdates\n",
    "import matplotlib.ticker as ticker\n",
    "import numpy as np\n",
    "pylab.rcParams['figure.figsize'] = (30, 8.0)"
   ]
  },
  {
   "cell_type": "code",
   "execution_count": 2,
   "metadata": {},
   "outputs": [
    {
     "name": "stdout",
     "output_type": "stream",
     "text": [
      "Z:\\Scratch\\Zonal_Stats_Pipeline\\Firescars\\outputs\n"
     ]
    }
   ],
   "source": [
    "cd Z:\\Scratch\\Zonal_Stats_Pipeline\\Firescars\\outputs"
   ]
  },
  {
   "cell_type": "code",
   "execution_count": 3,
   "metadata": {},
   "outputs": [
    {
     "ename": "ParserError",
     "evalue": "Error tokenizing data. C error: Expected 1 fields in line 19, saw 2\n",
     "output_type": "error",
     "traceback": [
      "\u001b[1;31m---------------------------------------------------------------------------\u001b[0m",
      "\u001b[1;31mParserError\u001b[0m                               Traceback (most recent call last)",
      "\u001b[1;32m<ipython-input-3-7537cd218554>\u001b[0m in \u001b[0;36m<module>\u001b[1;34m()\u001b[0m\n\u001b[1;32m----> 1\u001b[1;33m \u001b[0mdf\u001b[0m \u001b[1;33m=\u001b[0m \u001b[0mpd\u001b[0m\u001b[1;33m.\u001b[0m\u001b[0mread_csv\u001b[0m\u001b[1;33m(\u001b[0m\u001b[1;34mr\"C:\\Users\\rmcgr\\Desktop\\ODK_Outputs\\output1\\RAS_ODK.shp\"\u001b[0m\u001b[1;33m)\u001b[0m\u001b[1;33m\u001b[0m\u001b[1;33m\u001b[0m\u001b[0m\n\u001b[0m\u001b[0;32m      2\u001b[0m \u001b[1;31m#df2 = pd.read_csv(r\"D:\\Rob\\fire\\outputs\\Bullo_River_106071_bare_ground.csv\", index_col=[0])\u001b[0m\u001b[1;33m\u001b[0m\u001b[1;33m\u001b[0m\u001b[1;33m\u001b[0m\u001b[0m\n",
      "\u001b[1;32mC:\\Users\\rmcgr\\.conda\\envs\\zonal\\lib\\site-packages\\pandas\\io\\parsers.py\u001b[0m in \u001b[0;36mread_csv\u001b[1;34m(filepath_or_buffer, sep, delimiter, header, names, index_col, usecols, squeeze, prefix, mangle_dupe_cols, dtype, engine, converters, true_values, false_values, skipinitialspace, skiprows, skipfooter, nrows, na_values, keep_default_na, na_filter, verbose, skip_blank_lines, parse_dates, infer_datetime_format, keep_date_col, date_parser, dayfirst, cache_dates, iterator, chunksize, compression, thousands, decimal, lineterminator, quotechar, quoting, doublequote, escapechar, comment, encoding, dialect, error_bad_lines, warn_bad_lines, delim_whitespace, low_memory, memory_map, float_precision)\u001b[0m\n\u001b[0;32m    684\u001b[0m     )\n\u001b[0;32m    685\u001b[0m \u001b[1;33m\u001b[0m\u001b[0m\n\u001b[1;32m--> 686\u001b[1;33m     \u001b[1;32mreturn\u001b[0m \u001b[0m_read\u001b[0m\u001b[1;33m(\u001b[0m\u001b[0mfilepath_or_buffer\u001b[0m\u001b[1;33m,\u001b[0m \u001b[0mkwds\u001b[0m\u001b[1;33m)\u001b[0m\u001b[1;33m\u001b[0m\u001b[1;33m\u001b[0m\u001b[0m\n\u001b[0m\u001b[0;32m    687\u001b[0m \u001b[1;33m\u001b[0m\u001b[0m\n\u001b[0;32m    688\u001b[0m \u001b[1;33m\u001b[0m\u001b[0m\n",
      "\u001b[1;32mC:\\Users\\rmcgr\\.conda\\envs\\zonal\\lib\\site-packages\\pandas\\io\\parsers.py\u001b[0m in \u001b[0;36m_read\u001b[1;34m(filepath_or_buffer, kwds)\u001b[0m\n\u001b[0;32m    456\u001b[0m \u001b[1;33m\u001b[0m\u001b[0m\n\u001b[0;32m    457\u001b[0m     \u001b[1;32mtry\u001b[0m\u001b[1;33m:\u001b[0m\u001b[1;33m\u001b[0m\u001b[1;33m\u001b[0m\u001b[0m\n\u001b[1;32m--> 458\u001b[1;33m         \u001b[0mdata\u001b[0m \u001b[1;33m=\u001b[0m \u001b[0mparser\u001b[0m\u001b[1;33m.\u001b[0m\u001b[0mread\u001b[0m\u001b[1;33m(\u001b[0m\u001b[0mnrows\u001b[0m\u001b[1;33m)\u001b[0m\u001b[1;33m\u001b[0m\u001b[1;33m\u001b[0m\u001b[0m\n\u001b[0m\u001b[0;32m    459\u001b[0m     \u001b[1;32mfinally\u001b[0m\u001b[1;33m:\u001b[0m\u001b[1;33m\u001b[0m\u001b[1;33m\u001b[0m\u001b[0m\n\u001b[0;32m    460\u001b[0m         \u001b[0mparser\u001b[0m\u001b[1;33m.\u001b[0m\u001b[0mclose\u001b[0m\u001b[1;33m(\u001b[0m\u001b[1;33m)\u001b[0m\u001b[1;33m\u001b[0m\u001b[1;33m\u001b[0m\u001b[0m\n",
      "\u001b[1;32mC:\\Users\\rmcgr\\.conda\\envs\\zonal\\lib\\site-packages\\pandas\\io\\parsers.py\u001b[0m in \u001b[0;36mread\u001b[1;34m(self, nrows)\u001b[0m\n\u001b[0;32m   1184\u001b[0m     \u001b[1;32mdef\u001b[0m \u001b[0mread\u001b[0m\u001b[1;33m(\u001b[0m\u001b[0mself\u001b[0m\u001b[1;33m,\u001b[0m \u001b[0mnrows\u001b[0m\u001b[1;33m=\u001b[0m\u001b[1;32mNone\u001b[0m\u001b[1;33m)\u001b[0m\u001b[1;33m:\u001b[0m\u001b[1;33m\u001b[0m\u001b[1;33m\u001b[0m\u001b[0m\n\u001b[0;32m   1185\u001b[0m         \u001b[0mnrows\u001b[0m \u001b[1;33m=\u001b[0m \u001b[0m_validate_integer\u001b[0m\u001b[1;33m(\u001b[0m\u001b[1;34m\"nrows\"\u001b[0m\u001b[1;33m,\u001b[0m \u001b[0mnrows\u001b[0m\u001b[1;33m)\u001b[0m\u001b[1;33m\u001b[0m\u001b[1;33m\u001b[0m\u001b[0m\n\u001b[1;32m-> 1186\u001b[1;33m         \u001b[0mret\u001b[0m \u001b[1;33m=\u001b[0m \u001b[0mself\u001b[0m\u001b[1;33m.\u001b[0m\u001b[0m_engine\u001b[0m\u001b[1;33m.\u001b[0m\u001b[0mread\u001b[0m\u001b[1;33m(\u001b[0m\u001b[0mnrows\u001b[0m\u001b[1;33m)\u001b[0m\u001b[1;33m\u001b[0m\u001b[1;33m\u001b[0m\u001b[0m\n\u001b[0m\u001b[0;32m   1187\u001b[0m \u001b[1;33m\u001b[0m\u001b[0m\n\u001b[0;32m   1188\u001b[0m         \u001b[1;31m# May alter columns / col_dict\u001b[0m\u001b[1;33m\u001b[0m\u001b[1;33m\u001b[0m\u001b[1;33m\u001b[0m\u001b[0m\n",
      "\u001b[1;32mC:\\Users\\rmcgr\\.conda\\envs\\zonal\\lib\\site-packages\\pandas\\io\\parsers.py\u001b[0m in \u001b[0;36mread\u001b[1;34m(self, nrows)\u001b[0m\n\u001b[0;32m   2143\u001b[0m     \u001b[1;32mdef\u001b[0m \u001b[0mread\u001b[0m\u001b[1;33m(\u001b[0m\u001b[0mself\u001b[0m\u001b[1;33m,\u001b[0m \u001b[0mnrows\u001b[0m\u001b[1;33m=\u001b[0m\u001b[1;32mNone\u001b[0m\u001b[1;33m)\u001b[0m\u001b[1;33m:\u001b[0m\u001b[1;33m\u001b[0m\u001b[1;33m\u001b[0m\u001b[0m\n\u001b[0;32m   2144\u001b[0m         \u001b[1;32mtry\u001b[0m\u001b[1;33m:\u001b[0m\u001b[1;33m\u001b[0m\u001b[1;33m\u001b[0m\u001b[0m\n\u001b[1;32m-> 2145\u001b[1;33m             \u001b[0mdata\u001b[0m \u001b[1;33m=\u001b[0m \u001b[0mself\u001b[0m\u001b[1;33m.\u001b[0m\u001b[0m_reader\u001b[0m\u001b[1;33m.\u001b[0m\u001b[0mread\u001b[0m\u001b[1;33m(\u001b[0m\u001b[0mnrows\u001b[0m\u001b[1;33m)\u001b[0m\u001b[1;33m\u001b[0m\u001b[1;33m\u001b[0m\u001b[0m\n\u001b[0m\u001b[0;32m   2146\u001b[0m         \u001b[1;32mexcept\u001b[0m \u001b[0mStopIteration\u001b[0m\u001b[1;33m:\u001b[0m\u001b[1;33m\u001b[0m\u001b[1;33m\u001b[0m\u001b[0m\n\u001b[0;32m   2147\u001b[0m             \u001b[1;32mif\u001b[0m \u001b[0mself\u001b[0m\u001b[1;33m.\u001b[0m\u001b[0m_first_chunk\u001b[0m\u001b[1;33m:\u001b[0m\u001b[1;33m\u001b[0m\u001b[1;33m\u001b[0m\u001b[0m\n",
      "\u001b[1;32mpandas\\_libs\\parsers.pyx\u001b[0m in \u001b[0;36mpandas._libs.parsers.TextReader.read\u001b[1;34m()\u001b[0m\n",
      "\u001b[1;32mpandas\\_libs\\parsers.pyx\u001b[0m in \u001b[0;36mpandas._libs.parsers.TextReader._read_low_memory\u001b[1;34m()\u001b[0m\n",
      "\u001b[1;32mpandas\\_libs\\parsers.pyx\u001b[0m in \u001b[0;36mpandas._libs.parsers.TextReader._read_rows\u001b[1;34m()\u001b[0m\n",
      "\u001b[1;32mpandas\\_libs\\parsers.pyx\u001b[0m in \u001b[0;36mpandas._libs.parsers.TextReader._tokenize_rows\u001b[1;34m()\u001b[0m\n",
      "\u001b[1;32mpandas\\_libs\\parsers.pyx\u001b[0m in \u001b[0;36mpandas._libs.parsers.raise_parser_error\u001b[1;34m()\u001b[0m\n",
      "\u001b[1;31mParserError\u001b[0m: Error tokenizing data. C error: Expected 1 fields in line 19, saw 2\n"
     ]
    }
   ],
   "source": [
    "df = pd.read_csv(r\"C:\\Users\\rmcgr\\Desktop\\ODK_Outputs\\output1\\RAS_ODK.shp\")\n",
    "#df2 = pd.read_csv(r\"D:\\Rob\\fire\\outputs\\Bullo_River_106071_bare_ground.csv\", index_col=[0])"
   ]
  },
  {
   "cell_type": "code",
   "execution_count": 5,
   "metadata": {
    "scrolled": true
   },
   "outputs": [
    {
     "data": {
      "text/html": [
       "<div>\n",
       "<style scoped>\n",
       "    .dataframe tbody tr th:only-of-type {\n",
       "        vertical-align: middle;\n",
       "    }\n",
       "\n",
       "    .dataframe tbody tr th {\n",
       "        vertical-align: top;\n",
       "    }\n",
       "\n",
       "    .dataframe thead th {\n",
       "        text-align: right;\n",
       "    }\n",
       "</style>\n",
       "<table border=\"1\" class=\"dataframe\">\n",
       "  <thead>\n",
       "    <tr style=\"text-align: right;\">\n",
       "      <th></th>\n",
       "      <th>year</th>\n",
       "      <th>image</th>\n",
       "      <th>Unburnt</th>\n",
       "      <th>count</th>\n",
       "      <th>property</th>\n",
       "      <th>uid</th>\n",
       "      <th>Laiskey</th>\n",
       "      <th>WGSz52_ha</th>\n",
       "      <th>WGSz53_ha</th>\n",
       "      <th>band</th>\n",
       "      <th>Jan</th>\n",
       "      <th>Feb</th>\n",
       "      <th>March</th>\n",
       "      <th>255.0</th>\n",
       "      <th>Sep</th>\n",
       "      <th>Oct</th>\n",
       "      <th>Dec</th>\n",
       "    </tr>\n",
       "  </thead>\n",
       "  <tbody>\n",
       "    <tr>\n",
       "      <th>37</th>\n",
       "      <td>2018</td>\n",
       "      <td>fs2018MTH.tif</td>\n",
       "      <td>1088.0</td>\n",
       "      <td>1088</td>\n",
       "      <td>allambi</td>\n",
       "      <td>2</td>\n",
       "      <td>000     07517</td>\n",
       "      <td>6307.913891</td>\n",
       "      <td>6260.348880</td>\n",
       "      <td>1</td>\n",
       "      <td>0.0</td>\n",
       "      <td>0.0</td>\n",
       "      <td>0.0</td>\n",
       "      <td>0.0</td>\n",
       "      <td>0.0</td>\n",
       "      <td>0.0</td>\n",
       "      <td>0.0</td>\n",
       "    </tr>\n",
       "    <tr>\n",
       "      <th>38</th>\n",
       "      <td>2019</td>\n",
       "      <td>FS2019MTHS.tif</td>\n",
       "      <td>37423.0</td>\n",
       "      <td>37423</td>\n",
       "      <td>allambi</td>\n",
       "      <td>1</td>\n",
       "      <td>000     03692</td>\n",
       "      <td>260655.566849</td>\n",
       "      <td>258658.147477</td>\n",
       "      <td>1</td>\n",
       "      <td>0.0</td>\n",
       "      <td>0.0</td>\n",
       "      <td>0.0</td>\n",
       "      <td>0.0</td>\n",
       "      <td>0.0</td>\n",
       "      <td>0.0</td>\n",
       "      <td>0.0</td>\n",
       "    </tr>\n",
       "    <tr>\n",
       "      <th>39</th>\n",
       "      <td>2019</td>\n",
       "      <td>FS2019MTHS.tif</td>\n",
       "      <td>1088.0</td>\n",
       "      <td>1088</td>\n",
       "      <td>allambi</td>\n",
       "      <td>2</td>\n",
       "      <td>000     07517</td>\n",
       "      <td>6307.913891</td>\n",
       "      <td>6260.348880</td>\n",
       "      <td>1</td>\n",
       "      <td>0.0</td>\n",
       "      <td>0.0</td>\n",
       "      <td>0.0</td>\n",
       "      <td>0.0</td>\n",
       "      <td>0.0</td>\n",
       "      <td>0.0</td>\n",
       "      <td>0.0</td>\n",
       "    </tr>\n",
       "    <tr>\n",
       "      <th>40</th>\n",
       "      <td>2020</td>\n",
       "      <td>FS2020MTHS.tif</td>\n",
       "      <td>37405.0</td>\n",
       "      <td>37405</td>\n",
       "      <td>allambi</td>\n",
       "      <td>1</td>\n",
       "      <td>000     03692</td>\n",
       "      <td>260655.566849</td>\n",
       "      <td>258658.147477</td>\n",
       "      <td>1</td>\n",
       "      <td>0.0</td>\n",
       "      <td>0.0</td>\n",
       "      <td>0.0</td>\n",
       "      <td>0.0</td>\n",
       "      <td>0.0</td>\n",
       "      <td>0.0</td>\n",
       "      <td>0.0</td>\n",
       "    </tr>\n",
       "    <tr>\n",
       "      <th>41</th>\n",
       "      <td>2020</td>\n",
       "      <td>FS2020MTHS.tif</td>\n",
       "      <td>1090.0</td>\n",
       "      <td>1090</td>\n",
       "      <td>allambi</td>\n",
       "      <td>2</td>\n",
       "      <td>000     07517</td>\n",
       "      <td>6307.913891</td>\n",
       "      <td>6260.348880</td>\n",
       "      <td>1</td>\n",
       "      <td>0.0</td>\n",
       "      <td>0.0</td>\n",
       "      <td>0.0</td>\n",
       "      <td>0.0</td>\n",
       "      <td>0.0</td>\n",
       "      <td>0.0</td>\n",
       "      <td>0.0</td>\n",
       "    </tr>\n",
       "  </tbody>\n",
       "</table>\n",
       "</div>"
      ],
      "text/plain": [
       "    year           image  Unburnt  count property  uid        Laiskey  \\\n",
       "37  2018   fs2018MTH.tif   1088.0   1088  allambi    2  000     07517   \n",
       "38  2019  FS2019MTHS.tif  37423.0  37423  allambi    1  000     03692   \n",
       "39  2019  FS2019MTHS.tif   1088.0   1088  allambi    2  000     07517   \n",
       "40  2020  FS2020MTHS.tif  37405.0  37405  allambi    1  000     03692   \n",
       "41  2020  FS2020MTHS.tif   1090.0   1090  allambi    2  000     07517   \n",
       "\n",
       "        WGSz52_ha      WGSz53_ha  band  Jan  Feb  March  255.0  Sep  Oct  Dec  \n",
       "37    6307.913891    6260.348880     1  0.0  0.0    0.0    0.0  0.0  0.0  0.0  \n",
       "38  260655.566849  258658.147477     1  0.0  0.0    0.0    0.0  0.0  0.0  0.0  \n",
       "39    6307.913891    6260.348880     1  0.0  0.0    0.0    0.0  0.0  0.0  0.0  \n",
       "40  260655.566849  258658.147477     1  0.0  0.0    0.0    0.0  0.0  0.0  0.0  \n",
       "41    6307.913891    6260.348880     1  0.0  0.0    0.0    0.0  0.0  0.0  0.0  "
      ]
     },
     "execution_count": 5,
     "metadata": {},
     "output_type": "execute_result"
    }
   ],
   "source": [
    "df.fillna(0, inplace=True)\n",
    "df.tail()"
   ]
  },
  {
   "cell_type": "code",
   "execution_count": null,
   "metadata": {},
   "outputs": [],
   "source": []
  },
  {
   "cell_type": "code",
   "execution_count": null,
   "metadata": {},
   "outputs": [],
   "source": []
  },
  {
   "cell_type": "markdown",
   "metadata": {},
   "source": [
    "## Property Fire scars"
   ]
  },
  {
   "cell_type": "code",
   "execution_count": null,
   "metadata": {},
   "outputs": [],
   "source": [
    "df = df.drop(columns='0.0')"
   ]
  },
  {
   "cell_type": "code",
   "execution_count": null,
   "metadata": {},
   "outputs": [],
   "source": [
    "#column_list =['Jan', 'Feb', 'March', 'April', 'May', 'June', 'July', 'Aug', 'Sep', 'Oct', 'Nov', 'Dec']"
   ]
  },
  {
   "cell_type": "code",
   "execution_count": 6,
   "metadata": {},
   "outputs": [],
   "source": [
    "# If months dont exist add them to the dataframe\n",
    "\n",
    "column_list =['Jan', 'Feb', 'March', 'April', 'May', 'June', 'July', 'Aug', 'Sep', 'Oct', 'Nov', 'Dec', '255.0']\n",
    "\n",
    "for col in column_list:\n",
    "    if col not in df.columns:\n",
    "        df[col] = 0.0"
   ]
  },
  {
   "cell_type": "code",
   "execution_count": null,
   "metadata": {},
   "outputs": [],
   "source": []
  },
  {
   "cell_type": "code",
   "execution_count": null,
   "metadata": {},
   "outputs": [],
   "source": [
    "stringi_list = []\n",
    "i = 1.0\n",
    "while i < 256.0:\n",
    "    #print(i)\n",
    "    stringi = str(i)\n",
    "    stringi_list.append(stringi)\n",
    "    for n in stringi_list:\n",
    "        if n not in df.columns:\n",
    "            df[n] = 0.0\n",
    "    i+=1"
   ]
  },
  {
   "cell_type": "code",
   "execution_count": null,
   "metadata": {},
   "outputs": [],
   "source": [
    "df"
   ]
  },
  {
   "cell_type": "code",
   "execution_count": null,
   "metadata": {},
   "outputs": [],
   "source": [
    "df['jan']=df['Jan']+df['1.0']+df['2.0']+df['3.0']+df['4.0']+df['5.0']+df['6.0']+df['7.0']+df['8.0']"
   ]
  },
  {
   "cell_type": "code",
   "execution_count": null,
   "metadata": {},
   "outputs": [],
   "source": [
    "df['feb']=df['Feb']+df['9.0']+df['10.0']+df['11.0']+df['12.0']+df['13.0']+df['14.0']+df['15.0']+df['16.0']"
   ]
  },
  {
   "cell_type": "code",
   "execution_count": null,
   "metadata": {},
   "outputs": [],
   "source": [
    "df['march']=df['March']+df['17.0']+df['18.0']+df['19.0']+df['20.0']+df['21.0']+df['22.0']+df['23.0']+df['24.0']+df['25.0']+df['26.0']"
   ]
  },
  {
   "cell_type": "code",
   "execution_count": null,
   "metadata": {},
   "outputs": [],
   "source": [
    "df['april']=df['April']+df['27.0']+df['28.0']+df['29.0']+df['30.0']+df['31.0']+df['32.0']+df['33.0']+df['34.0']+df['35.0']+df['36.0']"
   ]
  },
  {
   "cell_type": "code",
   "execution_count": null,
   "metadata": {},
   "outputs": [],
   "source": [
    "df['may']=df['May']+df['37.0']+df['38.0']+df['39.0']+df['40.0']+df['41.0']+df['42.0']+df['43.0']+df['44.0']+df['45.0']+df['46.0']+df['47.0']+df['48.0']+df['49.0']+df['50.0']+df['51.0']+df['52.0']+df['53.0']+df['54.0']+df['55.0']"
   ]
  },
  {
   "cell_type": "code",
   "execution_count": null,
   "metadata": {},
   "outputs": [],
   "source": [
    "df['june']=df['June']+df['56.0']+df['57.0']+df['58.0']+df['59.0']+df['60.0']+df['61.0']+df['62.0']+df['63.0']+df['64.0']+df['65.0']+df['66.0']+df['57.0']+df['58.0']+df['59.0']+df['60.0']+df['61.0']+df['62.0']+df['63.0']+df['64.0']+df['65.0']+df['66.0']+df['67.0']+df['68.0']+df['69.0']+df['70.0']+df['71.0']+df['72.0']+df['73.0']+df['74.0']+df['75.0']+df['76.0']+df['77.0']+df['78.0']+df['79.0']+df['80.0']+df['81.0']+df['82.0']+df['83.0']+df['84.0']"
   ]
  },
  {
   "cell_type": "code",
   "execution_count": null,
   "metadata": {},
   "outputs": [],
   "source": [
    "df['july']=df['July']+df['85.0']+df['86.0']+df['87.0']+df['88.0']+df['89.0']+df['90.0']+df['91.0']+df['92.0']+df['93.0']+df['94.0']+df['95.0']+df['96.0']+df['97.0']+df['98.0']+df['99.0']+df['100.0']+df['101.0']+df['102.0']+df['103.0']+df['104.0']+df['105.0']+df['106.0']+df['107.0']+df['108.0']+df['109.0']+df['110.0']+df['111.0']+df['112.0']+df['113.0']+df['114.0']+df['115.0']+df['116.0']"
   ]
  },
  {
   "cell_type": "code",
   "execution_count": null,
   "metadata": {},
   "outputs": [],
   "source": [
    "df['aug']=df['Aug']+df['117.0']+df['118.0']+df['119.0']+df['120.0']+df['121.0']+df['122.0']+df['123.0']+df['124.0']+df['125.0']+df['126.0']+df['127.0']+df['128.0']+df['129.0']+df['130.0']+df['131.0']+df['132.0']+df['133.0']+df['134.0']+df['135.0']+df['136.0']+df['137.0']+df['138.0']+df['139.0']+df['140.0']+df['141.0']+df['142.0']+df['143.0']+df['144.0']+df['145.0']"
   ]
  },
  {
   "cell_type": "code",
   "execution_count": null,
   "metadata": {},
   "outputs": [],
   "source": [
    "df['sep']=df['Sep']+df['147.0']+df['148.0']+df['149.0']+df['150.0']+df['151.0']+df['152.0']+df['153.0']+df['154.0']+df['155.0']+df['156.0']+df['157.0']+df['158.0']+df['159.0']+df['160.0']+df['161.0']+df['162.0']+df['163.0']+df['164.0']+df['165.0']+df['166.0']+df['167.0']+df['168.0']+df['169.0']+df['170.0']+df['171.0']+df['172.0']+df['173.0']+df['174.0']+df['175.0']"
   ]
  },
  {
   "cell_type": "code",
   "execution_count": null,
   "metadata": {},
   "outputs": [],
   "source": [
    "df['oct']=df['Oct']+df['176.0']+df['177.0']+df['178.0']+df['179.0']+df['180.0']+df['181.0']+df['182.0']+df['183.0']+df['184.0']+df['185.0']+df['186.0']+df['187.0']+df['188.0']+df['189.0']+df['190.0']+df['191.0']+df['192.0']+df['193.0']+df['194.0']+df['195.0']+df['196.0']+df['197.0']+df['198.0']+df['199.0']+df['200.0']+df['201.0']+df['202.0']+df['203.0']+df['204.0']+df['205.0']"
   ]
  },
  {
   "cell_type": "code",
   "execution_count": null,
   "metadata": {},
   "outputs": [],
   "source": [
    "df['nov']=df['Nov']+df['206.0']+df['207.0']+df['208.0']+df['209.0']+df['200.0']+df['201.0']+df['202.0']+df['203.0']+df['204.0']+df['205.0']+df['206.0']+df['207.0']+df['208.0']+df['209.0']+df['210.0']+df['211.0']+df['212.0']+df['213.0']+df['214.0']+df['215.0']+df['216.0']+df['217.0']+df['218.0']+df['219.0']+df['220.0']+df['221.0']+df['222.0']+df['223.0']+df['224.0']+df['225.0']+df['226.0']+df['227.0']+df['228.0']+df['229.0']+df['230.0']+df['231.0']"
   ]
  },
  {
   "cell_type": "code",
   "execution_count": null,
   "metadata": {},
   "outputs": [],
   "source": [
    "df['dec']=df['Dec']+df['232.0']+df['233.0']+df['234.0']+df['235.0']+df['236.0']+df['237.0']+df['238.0']+df['239.0']+df['240.0']+df['241.0']+df['242.0']+df['243.0']+df['244.0']+df['245.0']+df['246.0']+df['247.0']+df['248.0']+df['249.0']+df['250.0']+df['251.0']+df['252.0']+df['253.0']+df['254.0']+df['255.0']"
   ]
  },
  {
   "cell_type": "code",
   "execution_count": null,
   "metadata": {},
   "outputs": [],
   "source": [
    "df.tail()"
   ]
  },
  {
   "cell_type": "code",
   "execution_count": null,
   "metadata": {},
   "outputs": [],
   "source": [
    "clean_fire = df[['year', 'image', 'property','jan', 'feb', 'march', 'april', 'may', 'june', 'july', 'aug', 'sep', 'oct', 'nov', 'dec']]"
   ]
  },
  {
   "cell_type": "code",
   "execution_count": null,
   "metadata": {},
   "outputs": [],
   "source": [
    "clean_fire"
   ]
  },
  {
   "cell_type": "code",
   "execution_count": null,
   "metadata": {},
   "outputs": [],
   "source": [
    "clean_fire.drop(21, inplace=True)"
   ]
  },
  {
   "cell_type": "code",
   "execution_count": null,
   "metadata": {},
   "outputs": [],
   "source": [
    "df = clean_fire\n",
    "df"
   ]
  },
  {
   "cell_type": "code",
   "execution_count": null,
   "metadata": {},
   "outputs": [],
   "source": [
    "#Calculate the area for each month and add a column for each\n",
    "\n",
    "count =[]\n",
    "m2 = []\n",
    "ha =[]\n",
    "\n",
    "column_list = ['jan', 'feb', 'march', 'april', 'may', 'june', 'july', 'aug', 'sep', 'oct', 'nov', 'dec']\n",
    "for col in column_list:\n",
    "    month_area = str(col)+'_area_ha'\n",
    "    col_ =  str(col)\n",
    "    df[month_area] = (df[col_]*(250*250)/10000).astype(int)   "
   ]
  },
  {
   "cell_type": "code",
   "execution_count": null,
   "metadata": {
    "scrolled": true
   },
   "outputs": [],
   "source": [
    "df"
   ]
  },
  {
   "cell_type": "code",
   "execution_count": null,
   "metadata": {},
   "outputs": [],
   "source": [
    "df['annual_count'] = df[column_list].sum(axis=1)\n",
    "df['annual_area_ha'] = (df['annual_count']*(250*250)/10000)"
   ]
  },
  {
   "cell_type": "code",
   "execution_count": null,
   "metadata": {},
   "outputs": [],
   "source": [
    "annual_fire = df[['year', 'annual_area_ha']]"
   ]
  },
  {
   "cell_type": "code",
   "execution_count": null,
   "metadata": {},
   "outputs": [],
   "source": [
    "# reshape the final dataframe\n",
    "reshape_df = df[['property', 'year', 'image', 'jan_area_ha', 'feb_area_ha', 'march_area_ha', 'april_area_ha', 'may_area_ha', 'june_area_ha', \n",
    "                 'july_area_ha', 'aug_area_ha', 'sep_area_ha', 'oct_area_ha', 'nov_area_ha', 'dec_area_ha']]\n",
    "reshape_df\n",
    "reshape_df.columns =['property', 'year', 'image', 'Jan', 'Feb', 'Mar', 'April', 'May', 'June', 'July', 'Aug', 'Sep', 'Oct', 'Nov', 'Dec']\n",
    "reshape_df.info()"
   ]
  },
  {
   "cell_type": "code",
   "execution_count": null,
   "metadata": {},
   "outputs": [],
   "source": [
    "reshape_df = reshape_df.set_index('year')"
   ]
  },
  {
   "cell_type": "code",
   "execution_count": null,
   "metadata": {},
   "outputs": [],
   "source": [
    "#df.plot(kind='barh', stacked=True)\n",
    "reshape_df.plot(kind='bar', stacked=True)\n",
    "plt.legend(loc='upper right')\n",
    "plt.title(\"Property scale fire scars\", fontsize=25)\n",
    "plt.xlabel(\"Year\", fontsize=20)\n",
    "plt.xticks(rotation=45)\n",
    "plt.ylabel(\"Burnt area (ha)\", fontsize=20)\n",
    "plt.xticks(fontsize=15)\n",
    "plt.yticks(fontsize=15)\n",
    "\n",
    "#plt.grid(True)\n",
    "plt.show()"
   ]
  },
  {
   "cell_type": "markdown",
   "metadata": {},
   "source": [
    "Seasons\n",
    "In Australia, the seasons are defined by grouping the calendar months in the following way:\n",
    "\n",
    "Spring - the three transition months September, October and November.\n",
    "Summer - the three hottest months December, January and February.\n",
    "Autumn - the transition months March, April and May.\n",
    "Winter - the three coldest months June, July and August."
   ]
  },
  {
   "cell_type": "code",
   "execution_count": null,
   "metadata": {},
   "outputs": [],
   "source": [
    "#reshape_df"
   ]
  },
  {
   "cell_type": "code",
   "execution_count": null,
   "metadata": {},
   "outputs": [],
   "source": [
    "reshape_df['Spring']=reshape_df['Sep']+reshape_df['Oct']+reshape_df['Nov']\n",
    "reshape_df['Summer']=reshape_df['Dec']+reshape_df['Jan']+reshape_df['Feb']\n",
    "reshape_df['Autumn']=reshape_df['Mar']+reshape_df['April']+reshape_df['May']\n",
    "reshape_df['Winter']=reshape_df['June']+reshape_df['July']+reshape_df['Aug']\n",
    "\n",
    "# reshape the final dataframe\n",
    "seasons_df = reshape_df[['Spring', 'Summer', 'Autumn', 'Winter']]\n",
    "#seasons_df"
   ]
  },
  {
   "cell_type": "code",
   "execution_count": null,
   "metadata": {},
   "outputs": [],
   "source": [
    "#df.plot(kind='barh', stacked=True)\n",
    "seasons_df.plot(kind='bar', stacked=True)\n",
    "plt.legend(loc='best')\n",
    "plt.title(\"Seasonal property scale fire scars\", fontsize=25)\n",
    "plt.xlabel(\"Year\", fontsize=20)\n",
    "plt.xticks(rotation=45)\n",
    "plt.ylabel(\"Burnt area (ha)\", fontsize=20)\n",
    "plt.xticks(fontsize=15)\n",
    "plt.yticks(fontsize=15)\n",
    "\n",
    "#plt.grid(True)\n",
    "plt.show()"
   ]
  },
  {
   "cell_type": "code",
   "execution_count": null,
   "metadata": {
    "scrolled": true
   },
   "outputs": [],
   "source": [
    "year = 2019\n",
    "year_seasons = seasons_df.loc[year]\n",
    "year_seasons.plot.pie(y='Fire', figsize=(6, 6))\n",
    "\n",
    "plt.legend(loc='upper right')\n",
    "plt.title(str(year) + \" seasonal fire scar percentage\", fontsize=20)\n",
    "plt.xlabel(year , fontsize=10)\n",
    "#plt.xticks(rotation=45)\n",
    "plt.ylabel(\"Burnt area (ha)\", fontsize=15)\n",
    "#plt.xticks(fontsize=15)\n",
    "#plt.yticks(fontsize=15)\n",
    "\n",
    "plt.show()"
   ]
  },
  {
   "cell_type": "code",
   "execution_count": null,
   "metadata": {},
   "outputs": [],
   "source": []
  },
  {
   "cell_type": "code",
   "execution_count": null,
   "metadata": {},
   "outputs": [],
   "source": []
  },
  {
   "cell_type": "code",
   "execution_count": null,
   "metadata": {},
   "outputs": [],
   "source": []
  },
  {
   "cell_type": "markdown",
   "metadata": {},
   "source": [
    "### Property Bare Ground"
   ]
  },
  {
   "cell_type": "code",
   "execution_count": null,
   "metadata": {},
   "outputs": [],
   "source": [
    "#df2.rename(columns={'site':'property'}, inplace=True)"
   ]
  },
  {
   "cell_type": "code",
   "execution_count": null,
   "metadata": {},
   "outputs": [],
   "source": [
    "#df2['property'].unique()"
   ]
  },
  {
   "cell_type": "code",
   "execution_count": null,
   "metadata": {},
   "outputs": [],
   "source": [
    "#df2['site'].unique()"
   ]
  },
  {
   "cell_type": "code",
   "execution_count": null,
   "metadata": {},
   "outputs": [],
   "source": [
    "# create the date time field and sort the values\n",
    "df2 = df2[(df2['count'] > 3)]\n",
    "df2['year'] = df2['imDate'].map(lambda x: str(x)[:4])\n",
    "df2['month'] = df2['imDate'].map(lambda x: str(x)[4:6])\n",
    "df2['day'] = df2['imDate'].map(lambda x: str(x)[6:8])\n",
    "df2['Date'] = df2['year']  + '/' + df2['month'] + '/' + df2['day']\n",
    "\n",
    "df2['year'] = df2['year'].astype(int64)\n",
    "\"\"\"df2['month'] = df2['imDate'].map(lambda x: str(x)[4:6])\n",
    "df2['day'] = df2['imDate'].map(lambda x: str(x)[6:8])\n",
    "df2.sort_values(['Date'])\"\"\""
   ]
  },
  {
   "cell_type": "code",
   "execution_count": null,
   "metadata": {},
   "outputs": [],
   "source": [
    "df2.info()"
   ]
  },
  {
   "cell_type": "code",
   "execution_count": null,
   "metadata": {},
   "outputs": [],
   "source": [
    "df2 = df2[(df2['year']>=2000) & (df2['year']<=2020)]\n",
    "df2.tail()"
   ]
  },
  {
   "cell_type": "code",
   "execution_count": null,
   "metadata": {},
   "outputs": [],
   "source": [
    "df2.info()"
   ]
  },
  {
   "cell_type": "code",
   "execution_count": null,
   "metadata": {},
   "outputs": [],
   "source": [
    "# Select the last bare ground recording for each month\n",
    "last_month_obs = df2.groupby(['year', 'month']).tail(1)\n",
    "last_month_obs[\"total_area_ha\"] = (last_month_obs[\"count\"]*(30*30)/1000)"
   ]
  },
  {
   "cell_type": "code",
   "execution_count": null,
   "metadata": {},
   "outputs": [],
   "source": [
    "last_month_obs"
   ]
  },
  {
   "cell_type": "code",
   "execution_count": null,
   "metadata": {},
   "outputs": [],
   "source": [
    "# Select the last bare ground recording for each year\n",
    "last_year_obs = df2.groupby(['year']).tail(1)\n",
    "last_year_obs[\"total_area_ha\"] = (last_year_obs[\"count\"]*(30*30)/1000)"
   ]
  },
  {
   "cell_type": "code",
   "execution_count": null,
   "metadata": {},
   "outputs": [],
   "source": [
    "last_year_obs"
   ]
  },
  {
   "cell_type": "code",
   "execution_count": null,
   "metadata": {},
   "outputs": [],
   "source": [
    "bare_col_list = list(last_year_obs)\n",
    "bare_col_list"
   ]
  },
  {
   "cell_type": "code",
   "execution_count": null,
   "metadata": {},
   "outputs": [],
   "source": [
    "header_list =[]\n",
    "for col in bare_col_list:\n",
    "    new_header = 'bg_' + str(col)\n",
    "    header_list.append(new_header)\n",
    "    \n",
    "last_year_obs.columns = header_list \n",
    "last_year_obs.info()\n",
    "#df =last_year_obs[['bg_Date', 'bg_total_area_ha']]"
   ]
  },
  {
   "cell_type": "code",
   "execution_count": null,
   "metadata": {},
   "outputs": [],
   "source": [
    "annual_bare_ground =last_year_obs[['bg_year', 'bg_total_area_ha']]\n"
   ]
  },
  {
   "cell_type": "code",
   "execution_count": null,
   "metadata": {},
   "outputs": [],
   "source": [
    "#df1 = annual_fire.astype({'year': 'int32'}).dtypes\n",
    "#df2 = annual_bare_ground.astype({'bg_year': 'int32'}).dtypes"
   ]
  },
  {
   "cell_type": "code",
   "execution_count": null,
   "metadata": {},
   "outputs": [],
   "source": [
    "#Concat annual fire (sum) with annual bare ground (last recording)"
   ]
  },
  {
   "cell_type": "code",
   "execution_count": null,
   "metadata": {},
   "outputs": [],
   "source": [
    "annual_bare_ground =last_year_obs[['bg_year', 'bg_total_area_ha']]\n",
    "annual_fire = df[['year', 'annual_area_ha']]"
   ]
  },
  {
   "cell_type": "code",
   "execution_count": null,
   "metadata": {},
   "outputs": [],
   "source": [
    "annual_bare_ground.info()"
   ]
  },
  {
   "cell_type": "code",
   "execution_count": null,
   "metadata": {},
   "outputs": [],
   "source": [
    "annual_fire.info()"
   ]
  },
  {
   "cell_type": "code",
   "execution_count": null,
   "metadata": {},
   "outputs": [],
   "source": [
    "comp_df = annual_fire.merge(annual_bare_ground, left_on='year', right_on='bg_year')\n",
    "#pd.concat([df1, df2], ignore_index=True)\n",
    "#pd.concat([annual_fire, annual_bare_ground], axis=0)"
   ]
  },
  {
   "cell_type": "code",
   "execution_count": null,
   "metadata": {},
   "outputs": [],
   "source": [
    "\n",
    "comp_df.drop(['bg_year'], axis=1, inplace = True)\n",
    "#df.drop(['B', 'C'], axis=1)"
   ]
  },
  {
   "cell_type": "code",
   "execution_count": null,
   "metadata": {},
   "outputs": [],
   "source": [
    "comp_df.year = comp_df.year.astype(str)"
   ]
  },
  {
   "cell_type": "code",
   "execution_count": null,
   "metadata": {},
   "outputs": [],
   "source": [
    "comp_df.set_index('year')"
   ]
  },
  {
   "cell_type": "code",
   "execution_count": null,
   "metadata": {},
   "outputs": [],
   "source": [
    "#df.plot(kind='barh', stacked=True)\n",
    "comp_df.plot(kind='bar', stacked=True)\n",
    "plt.legend(loc='best')\n",
    "plt.title(\"Annual bare ground vrs fire scars\", fontsize=25)\n",
    "plt.xlabel(\"Year\", fontsize=20)\n",
    "plt.xticks(rotation=45)\n",
    "plt.ylabel(\"Burnt area (ha)\", fontsize=20)\n",
    "plt.xticks(fontsize=15)\n",
    "plt.yticks(fontsize=15)\n",
    "\n",
    "#plt.grid(True)\n",
    "plt.show()"
   ]
  },
  {
   "cell_type": "code",
   "execution_count": null,
   "metadata": {},
   "outputs": [],
   "source": []
  },
  {
   "cell_type": "code",
   "execution_count": null,
   "metadata": {},
   "outputs": [],
   "source": []
  },
  {
   "cell_type": "code",
   "execution_count": null,
   "metadata": {},
   "outputs": [],
   "source": []
  },
  {
   "cell_type": "code",
   "execution_count": null,
   "metadata": {},
   "outputs": [],
   "source": []
  },
  {
   "cell_type": "code",
   "execution_count": null,
   "metadata": {},
   "outputs": [],
   "source": []
  },
  {
   "cell_type": "code",
   "execution_count": null,
   "metadata": {},
   "outputs": [],
   "source": [
    "df_test = last_observations[['year', 'month']]\n",
    "df_test.groupby(['year', 'month']).sum()"
   ]
  },
  {
   "cell_type": "code",
   "execution_count": null,
   "metadata": {},
   "outputs": [],
   "source": [
    "df_test.site.unique()"
   ]
  },
  {
   "cell_type": "code",
   "execution_count": null,
   "metadata": {},
   "outputs": [],
   "source": [
    "for i in df.test.site:\n",
    "    i.plot()"
   ]
  },
  {
   "cell_type": "code",
   "execution_count": null,
   "metadata": {
    "scrolled": true
   },
   "outputs": [],
   "source": [
    "df3 = df_test.pivot(index=['year'], columns='month')\n",
    "df3.head()"
   ]
  },
  {
   "cell_type": "code",
   "execution_count": null,
   "metadata": {},
   "outputs": [],
   "source": [
    "#df.plot(kind='barh', stacked=True)\n",
    "df3.plot(kind='bar', stacked=True)\n",
    "plt.legend(loc='best')\n",
    "plt.title(\"Seasonal property scale fire scars\", fontsize=25)\n",
    "plt.xlabel(\"Year\", fontsize=20)\n",
    "plt.xticks(rotation=45)\n",
    "plt.ylabel(\"Burnt area (ha)\", fontsize=20)\n",
    "plt.xticks(fontsize=15)\n",
    "plt.yticks(fontsize=15)\n",
    "\n",
    "#plt.grid(True)\n",
    "plt.show()"
   ]
  },
  {
   "cell_type": "code",
   "execution_count": null,
   "metadata": {},
   "outputs": [],
   "source": [
    "\"\"\"df2['year'] = df2['year'].astype(int)\n",
    "df2['month'] = df2['month'].astype(int)\n",
    "df2['day'] = df2['day'].astype(int)\"\"\""
   ]
  },
  {
   "cell_type": "code",
   "execution_count": null,
   "metadata": {},
   "outputs": [],
   "source": [
    "df2.info()"
   ]
  },
  {
   "cell_type": "code",
   "execution_count": null,
   "metadata": {},
   "outputs": [],
   "source": [
    "# Select the last day of each month\n",
    "\n",
    "df_monthly = df2.reset_index().groupby([df2.year,df2.month],as_index=False).last().set_index('index')\n",
    "df_monthly[\"total_area_ha\"] = (df_monthly[\"count\"]*(30*30)/10000)\n",
    "df_monthly"
   ]
  },
  {
   "cell_type": "code",
   "execution_count": null,
   "metadata": {},
   "outputs": [],
   "source": [
    "df_new =df_monthly.groupby(['year', 'month']).total_area_ha.sum().unstack('month', fill_value=0)\n",
    "df_new\n",
    "\n"
   ]
  },
  {
   "cell_type": "code",
   "execution_count": null,
   "metadata": {},
   "outputs": [],
   "source": [
    "#df.plot(kind='barh', stacked=True)\n",
    "df_new.plot(kind='bar', stacked=True)\n",
    "plt.legend(loc='best')\n",
    "plt.title(\"Seasonal property scale fire scars\", fontsize=25)\n",
    "plt.xlabel(\"Year\", fontsize=20)\n",
    "plt.xticks(rotation=45)\n",
    "plt.ylabel(\"Burnt area (ha)\", fontsize=20)\n",
    "plt.xticks(fontsize=15)\n",
    "plt.yticks(fontsize=15)\n",
    "\n",
    "#plt.grid(True)\n",
    "plt.show()"
   ]
  },
  {
   "cell_type": "code",
   "execution_count": null,
   "metadata": {},
   "outputs": [],
   "source": [
    "column_list =['Month','Jan', 'Feb', 'March', 'April', 'May', 'June', 'July', 'Aug', 'Sep', 'Oct', 'Nov', 'Dec']\n",
    "\n",
    "df_monthly.columns=column_list"
   ]
  },
  {
   "cell_type": "code",
   "execution_count": null,
   "metadata": {},
   "outputs": [],
   "source": []
  },
  {
   "cell_type": "code",
   "execution_count": null,
   "metadata": {},
   "outputs": [],
   "source": []
  },
  {
   "cell_type": "code",
   "execution_count": null,
   "metadata": {},
   "outputs": [],
   "source": []
  },
  {
   "cell_type": "code",
   "execution_count": null,
   "metadata": {},
   "outputs": [],
   "source": [
    "pd.merge(reshape_df, df2, on=['year', 'month'])"
   ]
  },
  {
   "cell_type": "code",
   "execution_count": null,
   "metadata": {},
   "outputs": [],
   "source": []
  },
  {
   "cell_type": "code",
   "execution_count": null,
   "metadata": {},
   "outputs": [],
   "source": []
  },
  {
   "cell_type": "code",
   "execution_count": null,
   "metadata": {},
   "outputs": [],
   "source": []
  },
  {
   "cell_type": "markdown",
   "metadata": {},
   "source": [
    "## Property"
   ]
  },
  {
   "cell_type": "code",
   "execution_count": null,
   "metadata": {},
   "outputs": [],
   "source": [
    "import geopandas as gpd\n",
    "import matplotlib.pyplot as plt\n",
    "import pandas as pd"
   ]
  },
  {
   "cell_type": "code",
   "execution_count": null,
   "metadata": {},
   "outputs": [],
   "source": [
    "properties = pd.read_excel(r\"\\\\pgb-bas01\\DENR_Satellite_Imagery$\\Scratch\\Zonal_Stats_Pipeline\\Copy of landsatZonalStatsTiles2.xlsx\")\n",
    "prop_list = properties.Property.unique().tolist()"
   ]
  },
  {
   "cell_type": "code",
   "execution_count": null,
   "metadata": {},
   "outputs": [],
   "source": [
    "prop_list = properties.Property.unique().tolist()\n",
    "prop_list"
   ]
  },
  {
   "cell_type": "code",
   "execution_count": null,
   "metadata": {},
   "outputs": [],
   "source": [
    "cadastre = gpd.read_file(r'U:\\LIB_Common\\Cadastre\\Datasets\\Av_data\\Cadastre.shp')\n",
    "cadastre.head()\n",
    "cadastre.crs"
   ]
  },
  {
   "cell_type": "code",
   "execution_count": null,
   "metadata": {},
   "outputs": [],
   "source": [
    "cadastre.to_crs ('epsg:32752')"
   ]
  },
  {
   "cell_type": "code",
   "execution_count": null,
   "metadata": {},
   "outputs": [],
   "source": [
    "#crs = {'init': 'epsg:4283'}"
   ]
  },
  {
   "cell_type": "code",
   "execution_count": null,
   "metadata": {},
   "outputs": [],
   "source": [
    "#cadastre_GDA94 = gpd.GeoDataFrame(cadastre, crs=crs)"
   ]
  },
  {
   "cell_type": "code",
   "execution_count": null,
   "metadata": {},
   "outputs": [],
   "source": [
    "#cadastre_GDA94.crs"
   ]
  },
  {
   "cell_type": "code",
   "execution_count": null,
   "metadata": {},
   "outputs": [],
   "source": [
    "fig, ax = plt.subplots(figsize=(12,10))\n",
    "base = nyc_gdf.boundary.plot(markersize=0.1,ax=ax)\n",
    "#fire = \n",
    "#ax.set_xticklabels([])\n",
    "#ax.set_yticklabels([])\n",
    "ax.set_title('Cadastre properties')\n",
    "plt.show()"
   ]
  },
  {
   "cell_type": "code",
   "execution_count": null,
   "metadata": {},
   "outputs": [],
   "source": [
    "cadastre.info()"
   ]
  },
  {
   "cell_type": "code",
   "execution_count": null,
   "metadata": {},
   "outputs": [],
   "source": [
    "pastoral = cadastre[(cadastre.TENREF_DES=='Pastoral Lease')|(cadastre.TENREF_DES=='Perpetual Pastoral Lease')]\n"
   ]
  },
  {
   "cell_type": "code",
   "execution_count": null,
   "metadata": {},
   "outputs": [],
   "source": [
    "property_list = pastoral.LAISKEY.unique()\n",
    "print(property_list)"
   ]
  },
  {
   "cell_type": "code",
   "execution_count": null,
   "metadata": {},
   "outputs": [],
   "source": [
    "'000     1400'"
   ]
  },
  {
   "cell_type": "code",
   "execution_count": null,
   "metadata": {},
   "outputs": [],
   "source": [
    "pastoral_list = [\"MARY RIVER WEST\", \"CAMFIELD\", \"WONGALARA\", \"TODD RIVER\", \"KILLARNEY\", \"JINDARE\", ]"
   ]
  },
  {
   "cell_type": "code",
   "execution_count": null,
   "metadata": {},
   "outputs": [],
   "source": [
    "property_list = cadastre.PROP_NAME.unique()\n",
    "print(property_list)"
   ]
  },
  {
   "cell_type": "code",
   "execution_count": null,
   "metadata": {},
   "outputs": [],
   "source": [
    "properties = pd.read_excel(r\"\\\\pgb-bas01\\DENR_Satellite_Imagery$\\Scratch\\Zonal_Stats_Pipeline\\Copy of landsatZonalStatsTiles2.xlsx\")\n",
    "properties[\"Property\"] = properties[\"Property\"].str.upper()\n",
    "prop_list = properties.Property.unique().tolist()\n",
    "prop_list"
   ]
  },
  {
   "cell_type": "code",
   "execution_count": null,
   "metadata": {},
   "outputs": [],
   "source": [
    "# create individual property shapefiles from a list\n",
    "for i in prop_list:\n",
    "    #To select rows whose column value equals a scalar, some_value, use ==:\n",
    "    prop = cadastre1[cadastre1[\"PROP_NAME\"]== i]\n",
    "    prop.reset_index(drop=True, inplace=True)\n",
    "    prop['uid']= prop.index + 1\n",
    "    print (i)\n",
    "    prop.to_file(r\"D:\\Rob\\fire\\property_\" + str.lower(i) + \"_output_GDA94.shp\")\n"
   ]
  },
  {
   "cell_type": "code",
   "execution_count": null,
   "metadata": {},
   "outputs": [],
   "source": [
    "prop"
   ]
  },
  {
   "cell_type": "code",
   "execution_count": null,
   "metadata": {},
   "outputs": [],
   "source": [
    "# create individual property shapefiles from a list\n",
    "for i in pastoral_list:\n",
    "    #To select rows whose column value equals a scalar, some_value, use ==:\n",
    "    prop = cadastre[cadastre[\"PROP_NAME\"]== i]\n",
    "    prop['uid']= prop.index + 1\n",
    "\n",
    "    prop\n"
   ]
  },
  {
   "cell_type": "code",
   "execution_count": null,
   "metadata": {},
   "outputs": [],
   "source": [
    "prop"
   ]
  },
  {
   "cell_type": "code",
   "execution_count": null,
   "metadata": {},
   "outputs": [],
   "source": [
    "for i in property_list:\n",
    "    #To select rows whose column value equals a scalar, some_value, use ==:\n",
    "    #prop = cadastre1[cadastre1[\"PROP_NAME\"]== i]\n",
    "    print (i)\n",
    "    mask = prop[cadastre1.PROP_NAME== i]\n",
    "    "
   ]
  },
  {
   "cell_type": "code",
   "execution_count": null,
   "metadata": {},
   "outputs": [],
   "source": [
    "cadastre = gpd.read_file(r\"D:\\Rob\\fire\\three_properties.shp\")\n",
    "property_list = cadastre.PARCEL.unique()\n",
    "print(property_list)"
   ]
  },
  {
   "cell_type": "code",
   "execution_count": null,
   "metadata": {},
   "outputs": [],
   "source": [
    "for i in property_list:\n",
    "    #To select rows whose column value equals a scalar, some_value, use ==:\n",
    "    prop =cadastre[(cadastre[\"LOC_NAME\"]== 'NT Portion') & (cadastre[\"PARCEL\"] == i)]\n",
    "    #print(prop)\n",
    "    print(\"Prop crs: \", prop.crs)\n",
    "    prop_ = prop.to_crs(\"EPSG:4283\")\n",
    "    "
   ]
  },
  {
   "cell_type": "code",
   "execution_count": null,
   "metadata": {},
   "outputs": [],
   "source": [
    "def epsg(epsg_code):\n",
    "    \n",
    "    \"\"\"\n",
    "    function to convert the epsg code to proj4, the orginal example of the code used pycrs \n",
    "    to obtain this infromatin for the internet. This version relies on it being in this function. \n",
    "    I have covered all the codes relevent to me however it may fail if used elsewhere.\n",
    "    \n",
    "    \"\"\"\n",
    "    if epsg_code == 32752:\n",
    "        epsg_code_proj4 = '+proj=utm +zone=52 +south +ellps=WGS84 +datum=WGS84 +units=m +no_defs'\n",
    "    if epsg_code == 32753:\n",
    "        epsg_code_proj4 = '+proj=utm +zone=53 +south +ellps=WGS84 +datum=WGS84 +units=m +no_defs'\n",
    "        \n",
    "    if epsg_code == 28352:\n",
    "        epsg_code_proj4 = '+proj=utm +zone=52 +south +ellps=GRS80 +towgs84=0,0,0,0,0,0,0 +units=m +no_defs'   \n",
    "    \n",
    "    if epsg_code == 28353:\n",
    "        epsg_code_proj4 = '+proj=utm +zone=53 +south +ellps=GRS80 +towgs84=0,0,0,0,0,0,0 +units=m +no_defs'        \n",
    "    \n",
    "    if epsg_code == 4283:\n",
    "        epsg_code_proj4 = '+proj=longlat +ellps=GRS80 +towgs84=0,0,0,0,0,0,0 +no_defs'     \n",
    "        \n",
    "    if epsg_code == 6644:\n",
    "        epsg_code_proj4 = '+proj=aea +lat_1=-18 +lat_2=-36 +lat_0=0 +lon_0=134 +x_0=0 +y_0=0 +ellps=GRS80 +towgs84=0,0,0,0,0,0,0 +units=m +no_defs' \n",
    "    if epsg_code == 3577:\n",
    "        epsg_code_proj4 = '+proj=aea +lat_1=-18 +lat_2=-36 +lat_0=0 +lon_0=132 +x_0=0 +y_0=0 +ellps=GRS80 +towgs84=0,0,0,0,0,0,0 +units=m +no_defs'\n",
    "    \n",
    "    return epsg_code_proj4"
   ]
  },
  {
   "cell_type": "code",
   "execution_count": null,
   "metadata": {},
   "outputs": [],
   "source": [
    "prop =cadastre[(cadastre[\"LOC_NAME\"]== propName) & (cadastre[\"PARCEL\"] == propNum)]\n",
    "print(\"Prop crs: \", prop.crs)"
   ]
  },
  {
   "cell_type": "markdown",
   "metadata": {},
   "source": [
    "## Project Tif"
   ]
  },
  {
   "cell_type": "code",
   "execution_count": null,
   "metadata": {},
   "outputs": [],
   "source": [
    "import gdal"
   ]
  },
  {
   "cell_type": "code",
   "execution_count": null,
   "metadata": {},
   "outputs": [],
   "source": [
    "ds = gdal.Open(r\"Z:\\Scratch\\Zonal_Stats_Pipeline\\Firescars\\no_spatial\\FS2006_MTH.tif\")"
   ]
  },
  {
   "cell_type": "code",
   "execution_count": null,
   "metadata": {},
   "outputs": [],
   "source": [
    "from osgeo import ogr, osr\n",
    "ds.GetProjection()"
   ]
  },
  {
   "cell_type": "code",
   "execution_count": null,
   "metadata": {},
   "outputs": [],
   "source": [
    "roads = gdal.Open(r\"Z:\\Scratch\\Zonal_Stats_Pipeline\\Firescars\\no_spatial\\FS2000_MTH.tif\", gdal.GA_Update)"
   ]
  },
  {
   "cell_type": "code",
   "execution_count": null,
   "metadata": {},
   "outputs": [],
   "source": []
  }
 ],
 "metadata": {
  "kernelspec": {
   "display_name": "Python 3",
   "language": "python",
   "name": "python3"
  },
  "language_info": {
   "codemirror_mode": {
    "name": "ipython",
    "version": 3
   },
   "file_extension": ".py",
   "mimetype": "text/x-python",
   "name": "python",
   "nbconvert_exporter": "python",
   "pygments_lexer": "ipython3",
   "version": "3.7.7"
  }
 },
 "nbformat": 4,
 "nbformat_minor": 2
}
