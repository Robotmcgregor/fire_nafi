{
 "cells": [
  {
   "cell_type": "code",
   "execution_count": null,
   "metadata": {},
   "outputs": [],
   "source": [
    "import pandas as pd\n",
    "import geopandas as gpd\n",
    "import os\n",
    "import shutil\n",
    "import glob\n",
    "\n",
    "import numpy as np\n",
    "import rasterio as rio\n",
    "import rasterio.plot\n",
    "import pyproj\n",
    "\n",
    "import matplotlib\n",
    "import matplotlib.pyplot as plt\n",
    "\n",
    "import seaborn as sns\n",
    "import fiona\n",
    "import rasterstats\n",
    "from rasterstats import zonal_stats"
   ]
  },
  {
   "cell_type": "code",
   "execution_count": null,
   "metadata": {},
   "outputs": [],
   "source": [
    "# Import in the cadastre and ensure the crs is set to GDA94\n",
    "cadastre = gpd.read_file(r'\"E:\\DENR\\rob\\outputs1\\fire_test\\shapefile\\Cadastre.shp\"')\n",
    "cadastre.head()\n",
    "cadastre.crs\n",
    "\n",
    "\n",
    "#read in an excel sheet with all of the property names\n",
    "properties = pd.read_excel(r\"\\\\pgb-bas01\\DENR_Satellite_Imagery$\\Scratch\\Zonal_Stats_Pipeline\\Copy of landsatZonalStatsTiles2.xlsx\")\n",
    "properties[\"Property\"] = properties[\"Property\"].str.upper()\n",
    "prop_list = properties.Property.unique().tolist()\n",
    "\n",
    "shapefile_list =[]\n",
    "\n",
    "# create individual property shapefiles from a list\n",
    "for i in prop_list:\n",
    "    #To select rows whose column value equals a scalar, some_value, use ==:\n",
    "    prop = cadastre[cadastre[\"PROP_NAME\"]== i]\n",
    "    prop.reset_index(drop=True, inplace=True)\n",
    "    prop['uid']= prop.index + 1\n",
    "    print (i)\n",
    "    file_path = (r\"E:\\DENR\\rob\\outputs1\\fire_test\\shapefile\" + '_' + str.lower(i) + \"_GDA94.shp\")\n",
    "    shapefile_list.append(file_path)\n",
    "    print(prop.crs)\n",
    "    prop.crs = {'init': 'EPSG:4283'}\n",
    "    prop_gda94 = prop\n",
    "    print(prop_gda94.crs)\n",
    "    #prop_gda94.plot(ax=ax)\n",
    "    #plt.show()\n",
    "    prop_gda94.to_file(file_path, driver = 'ESRI Shapefile')"
   ]
  }
 ],
 "metadata": {
  "kernelspec": {
   "display_name": "Python 3",
   "language": "python",
   "name": "python3"
  },
  "language_info": {
   "codemirror_mode": {
    "name": "ipython",
    "version": 3
   },
   "file_extension": ".py",
   "mimetype": "text/x-python",
   "name": "python",
   "nbconvert_exporter": "python",
   "pygments_lexer": "ipython3",
   "version": "3.7.7"
  }
 },
 "nbformat": 4,
 "nbformat_minor": 2
}
