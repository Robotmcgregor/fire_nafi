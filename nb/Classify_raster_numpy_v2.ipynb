{
 "cells": [
  {
   "cell_type": "markdown",
   "metadata": {},
   "source": [
    "# Fire_scar_pipeline_v1"
   ]
  },
  {
   "cell_type": "code",
   "execution_count": null,
   "metadata": {},
   "outputs": [],
   "source": [
    "import osgeo.gdal as gdal\n",
    "import os\n",
    "from osgeo import ogr\n",
    "\n",
    "# this sets the environmental variables for the prj folders \n",
    "# https://stackoverflow.com/questions/56764046/gdal-ogr2ogr-cannot-find-proj-db-error\n",
    "\n",
    "\n",
    "os.environ['PROJ_LIB'] =  r'C:\\ProgramData\\Anaconda3\\envs\\geo_env\\Library\\share\\proj'\n",
    "os.environ['GDAL_DATA'] = r'C:\\ProgramData\\Anaconda3\\envs\\geo_env\\Library\\share'"
   ]
  },
  {
   "cell_type": "code",
   "execution_count": 1,
   "metadata": {},
   "outputs": [],
   "source": [
    "import pandas as pd\n",
    "import geopandas as gpd\n",
    "import os\n",
    "import shutil\n",
    "import glob\n",
    "\n",
    "import numpy as np\n",
    "import rasterio as rio\n",
    "import rasterio.plot\n",
    "import pyproj\n",
    "\n",
    "import matplotlib\n",
    "import matplotlib.pyplot as plt\n",
    "\n",
    "import seaborn as sns\n",
    "import fiona\n",
    "import rasterstats\n",
    "from rasterstats import zonal_stats"
   ]
  },
  {
   "cell_type": "markdown",
   "metadata": {},
   "source": [
    "# NAFI 2020 raster clasification"
   ]
  },
  {
   "cell_type": "markdown",
   "metadata": {},
   "source": [
    "https://www.neonscience.org/resources/data-tutorials"
   ]
  },
  {
   "cell_type": "markdown",
   "metadata": {},
   "source": [
    "https://www.neonscience.org/classify-raster-thresholds-py"
   ]
  },
  {
   "cell_type": "code",
   "execution_count": 2,
   "metadata": {},
   "outputs": [],
   "source": [
    "import numpy as np\n",
    "import gdal\n",
    "import matplotlib.pyplot as plt\n",
    "%matplotlib inline\n",
    "import warnings\n",
    "warnings.filterwarnings('ignore')"
   ]
  },
  {
   "cell_type": "code",
   "execution_count": 3,
   "metadata": {},
   "outputs": [],
   "source": [
    "nafi_filename = r\"Z:\\Scratch\\Zonal_Stats_Pipeline\\Firescars\\NAFI_fire_rasters_v2\\fs2020.tif\"\n",
    "nafi_dataset = gdal.Open(nafi_filename)"
   ]
  },
  {
   "cell_type": "code",
   "execution_count": 4,
   "metadata": {},
   "outputs": [
    {
     "name": "stdout",
     "output_type": "stream",
     "text": [
      "# of columns: 16431\n",
      "# of rows: 9868\n",
      "# of bands: 1\n",
      "driver: GeoTIFF\n"
     ]
    }
   ],
   "source": [
    "#Display the dataset dimensions, number of bands, driver, and geotransform \n",
    "cols = nafi_dataset.RasterXSize; print('# of columns:',cols)\n",
    "rows = nafi_dataset.RasterYSize; print('# of rows:',rows)\n",
    "print('# of bands:',nafi_dataset.RasterCount)\n",
    "print('driver:',nafi_dataset.GetDriver().LongName)"
   ]
  },
  {
   "cell_type": "code",
   "execution_count": 5,
   "metadata": {},
   "outputs": [
    {
     "name": "stdout",
     "output_type": "stream",
     "text": [
      "projection: \n"
     ]
    }
   ],
   "source": [
    "print('projection:',nafi_dataset.GetProjection())"
   ]
  },
  {
   "cell_type": "code",
   "execution_count": 6,
   "metadata": {},
   "outputs": [
    {
     "name": "stdout",
     "output_type": "stream",
     "text": [
      "geotransform: (112.9225, 0.0025, 0.0, -9.329999999999998, 0.0, -0.0025)\n"
     ]
    }
   ],
   "source": [
    "print('geotransform:',nafi_dataset.GetGeoTransform())"
   ]
  },
  {
   "cell_type": "code",
   "execution_count": 7,
   "metadata": {},
   "outputs": [
    {
     "name": "stdout",
     "output_type": "stream",
     "text": [
      "nafi raster extent: (112.9225, 6572512.9225, -3947209.33, -9.329999999999998)\n"
     ]
    }
   ],
   "source": [
    "nafi_mapinfo = nafi_dataset.GetGeoTransform()\n",
    "xMin = nafi_mapinfo[0]\n",
    "yMax = nafi_mapinfo[3]\n",
    "\n",
    "xMax = xMin + nafi_dataset.RasterXSize/nafi_mapinfo[1] #divide by pixel width \n",
    "yMin = yMax + nafi_dataset.RasterYSize/nafi_mapinfo[5] #divide by pixel height (note sign +/-)\n",
    "nafi_ext = (xMin,xMax,yMin,yMax)\n",
    "print('nafi raster extent:',nafi_ext)"
   ]
  },
  {
   "cell_type": "code",
   "execution_count": 8,
   "metadata": {},
   "outputs": [
    {
     "name": "stdout",
     "output_type": "stream",
     "text": [
      "no data value: 255.0\n",
      "scale factor: 1.0\n",
      "SERC nafi Statistics: Minimum=0.00, Maximum=157.00, Mean=1.029, StDev=9.614\n"
     ]
    }
   ],
   "source": [
    "nafi_raster = nafi_dataset.GetRasterBand(1)\n",
    "noDataVal = nafi_raster.GetNoDataValue(); print('no data value:',noDataVal)\n",
    "scaleFactor = nafi_raster.GetScale(); print('scale factor:',scaleFactor)\n",
    "nafi_stats = nafi_raster.GetStatistics(True,True)\n",
    "print('SERC nafi Statistics: Minimum=%.2f, Maximum=%.2f, Mean=%.3f, StDev=%.3f' % \n",
    "      (nafi_stats[0], nafi_stats[1], nafi_stats[2], nafi_stats[3]))"
   ]
  },
  {
   "cell_type": "code",
   "execution_count": 9,
   "metadata": {},
   "outputs": [
    {
     "name": "stdout",
     "output_type": "stream",
     "text": [
      "NAFI Array:\n",
      " [[0. 0. 0. ... 0. 0. 0.]\n",
      " [0. 0. 0. ... 0. 0. 0.]\n",
      " [0. 0. 0. ... 0. 0. 0.]\n",
      " ...\n",
      " [0. 0. 0. ... 0. 0. 0.]\n",
      " [0. 0. 0. ... 0. 0. 0.]\n",
      " [0. 0. 0. ... 0. 0. 0.]]\n"
     ]
    }
   ],
   "source": [
    "nafi_array = nafi_dataset.GetRasterBand(1).ReadAsArray(0,0,cols,rows).astype(np.float)\n",
    "nafi_array[nafi_array==int(noDataVal)]=np.nan #Assign CHM No Data Values to NaN\n",
    "nafi_array=nafi_array/scaleFactor\n",
    "print('NAFI Array:\\n',nafi_array) #display array values"
   ]
  },
  {
   "cell_type": "code",
   "execution_count": 10,
   "metadata": {},
   "outputs": [
    {
     "name": "stdout",
     "output_type": "stream",
     "text": [
      "Array Statistics:\n",
      "min: 0.0\n",
      "max: 157.0\n",
      "mean: 0.99\n",
      "% NaN: 0.0\n",
      "% non-zero: 1.43\n"
     ]
    }
   ],
   "source": [
    "# Display statistics (min, max, mean); numpy.nanmin calculates the minimum without the NaN values.\n",
    "print('Array Statistics:')\n",
    "print('min:',round(np.nanmin(nafi_array),2))\n",
    "print('max:',round(np.nanmax(nafi_array),2))\n",
    "print('mean:',round(np.nanmean(nafi_array),2))\n",
    "\n",
    "# Calculate the % of pixels that are NaN and non-zero:\n",
    "pct_nan = np.count_nonzero(np.isnan(nafi_array))/(rows*cols)\n",
    "print('% NaN:',round(pct_nan*100,2))\n",
    "print('% non-zero:',round(100*np.count_nonzero(nafi_array)/(rows*cols),2))"
   ]
  },
  {
   "cell_type": "code",
   "execution_count": 11,
   "metadata": {},
   "outputs": [
    {
     "data": {
      "image/png": "[encoded data removed]",
      "text/plain": [
       "<Figure size 432x288 with 2 Axes>"
      ]
     },
     "metadata": {
      "needs_background": "light"
     },
     "output_type": "display_data"
    }
   ],
   "source": [
    "# Define the plot_band_array function from Day 1\n",
    "def plot_band_array(band_array,refl_extent,colorlimit,ax=plt.gca(),title='',cbar ='on',cmap_title='',colormap='BuGn'):\n",
    "    plot = plt.imshow(band_array,extent=refl_extent,clim=colorlimit); \n",
    "    if cbar == 'on':\n",
    "        cbar = plt.colorbar(plot,aspect=40); plt.set_cmap(colormap); \n",
    "        cbar.set_label(cmap_title,rotation=90,labelpad=20);\n",
    "    plt.title(title); ax = plt.gca(); \n",
    "    ax.ticklabel_format(useOffset=False, style='plain'); #do not use scientific notation #\n",
    "    rotatexlabels = plt.setp(ax.get_xticklabels(),rotation=90); #rotate x tick labels 90 degrees\n",
    "    \n",
    "plot_band_array(nafi_array,nafi_ext,(1,100),title='NAFI Fire map',cmap_title='Raster values')"
   ]
  },
  {
   "cell_type": "code",
   "execution_count": 12,
   "metadata": {},
   "outputs": [
    {
     "data": {
      "text/plain": [
       "Text(0, 0.5, 'Relative Frequency')"
      ]
     },
     "execution_count": 12,
     "metadata": {},
     "output_type": "execute_result"
    },
    {
     "data": {
      "image/png": "[encoded data removed]",
      "text/plain": [
       "<Figure size 432x288 with 1 Axes>"
      ]
     },
     "metadata": {
      "needs_background": "light"
     },
     "output_type": "display_data"
    }
   ],
   "source": [
    "import copy\n",
    "nafi_nonan_array = copy.copy(nafi_array)\n",
    "nafi_nonan_array = nafi_nonan_array[~np.isnan(nafi_array)]\n",
    "plt.hist(nafi_nonan_array,weights=np.zeros_like(nafi_nonan_array)+1./\n",
    "         (nafi_array.shape[0]*nafi_array.shape[1]),bins=10);\n",
    "plt.title('Distribution of NAFI pixcel values')\n",
    "plt.xlabel('Pixcel values'); plt.ylabel('Relative Frequency')"
   ]
  },
  {
   "cell_type": "code",
   "execution_count": 13,
   "metadata": {},
   "outputs": [
    {
     "name": "stdout",
     "output_type": "stream",
     "text": [
      "min: 1.0 m\n",
      "max: 157.0 m\n",
      "mean: 69.08 m\n"
     ]
    },
    {
     "data": {
      "image/png": "[encoded data removed]",
      "text/plain": [
       "<Figure size 432x288 with 1 Axes>"
      ]
     },
     "metadata": {
      "needs_background": "light"
     },
     "output_type": "display_data"
    }
   ],
   "source": [
    "nafi_nonzero_array = copy.copy(nafi_array)\n",
    "nafi_nonzero_array[nafi_array==0]=np.nan\n",
    "chm_nonzero_nonan_array = nafi_nonzero_array[~np.isnan(nafi_nonzero_array)]\n",
    "# Use weighting to plot relative frequency\n",
    "plt.hist(chm_nonzero_nonan_array,weights=np.zeros_like(chm_nonzero_nonan_array)+1./\n",
    "         (nafi_array.shape[0]*nafi_array.shape[1]),bins=50);\n",
    "\n",
    "# plt.hist(chm_nonzero_nonan_array.flatten(),50) \n",
    "plt.title('Distribution NAFI')\n",
    "plt.xlabel('pixel values'); plt.ylabel('count')\n",
    "# plt.xlim(0,25); plt.ylim(0,4000000)\n",
    "\n",
    "print('min:',np.amin(chm_nonzero_nonan_array),'m')\n",
    "print('max:',round(np.amax(chm_nonzero_nonan_array),2),'m')\n",
    "print('mean:',round(np.mean(chm_nonzero_nonan_array),2),'m')"
   ]
  },
  {
   "cell_type": "code",
   "execution_count": 20,
   "metadata": {},
   "outputs": [
    {
     "data": {
      "image/png": "[encoded data removed]",
      "text/plain": [
       "<Figure size 432x288 with 2 Axes>"
      ]
     },
     "metadata": {
      "needs_background": "light"
     },
     "output_type": "display_data"
    }
   ],
   "source": [
    "plot_band_array(nafi_array,nafi_ext,(0,100),title='NAFI firescars',cmap_title='Canopy Height, m',colormap='BuGn')"
   ]
  },
  {
   "cell_type": "code",
   "execution_count": 21,
   "metadata": {},
   "outputs": [],
   "source": [
    "# raster2array.py reads in the first band of geotif file and returns an array and associated \n",
    "# metadata dictionary\n",
    "\n",
    "import numpy as np\n",
    "import gdal\n",
    "import matplotlib.pyplot as plt\n",
    "%matplotlib inline\n",
    "import warnings\n",
    "warnings.filterwarnings('ignore')\n",
    "from osgeo import gdal\n",
    "import numpy as np\n",
    "import copy\n",
    "\n",
    "\n",
    "\n",
    "def raster2array(geotif_file):\n",
    "    metadata = {}\n",
    "    dataset = gdal.Open(geotif_file)\n",
    "    metadata['array_rows'] = dataset.RasterYSize\n",
    "    metadata['array_cols'] = dataset.RasterXSize\n",
    "    metadata['bands'] = dataset.RasterCount\n",
    "    metadata['driver'] = dataset.GetDriver().LongName\n",
    "    metadata['projection'] = dataset.GetProjection()\n",
    "    metadata['geotransform'] = dataset.GetGeoTransform()\n",
    "\n",
    "    mapinfo = dataset.GetGeoTransform()\n",
    "    metadata['pixelWidth'] = mapinfo[1]\n",
    "    metadata['pixelHeight'] = mapinfo[5]\n",
    "\n",
    "    metadata['ext_dict'] = {}\n",
    "    metadata['ext_dict']['xMin'] = mapinfo[0]\n",
    "    metadata['ext_dict']['xMax'] = mapinfo[0] + dataset.RasterXSize/mapinfo[1]\n",
    "    metadata['ext_dict']['yMin'] = mapinfo[3] + dataset.RasterYSize/mapinfo[5]\n",
    "    metadata['ext_dict']['yMax'] = mapinfo[3]\n",
    "\n",
    "    metadata['extent'] = (metadata['ext_dict']['xMin'],metadata['ext_dict']['xMax'],\n",
    "                          metadata['ext_dict']['yMin'],metadata['ext_dict']['yMax'])\n",
    "\n",
    "    if metadata['bands'] == 1:\n",
    "        raster = dataset.GetRasterBand(1)\n",
    "        metadata['noDataValue'] = raster.GetNoDataValue()\n",
    "        metadata['scaleFactor'] = raster.GetScale()\n",
    "\n",
    "        # band statistics\n",
    "        metadata['bandstats'] = {} #make a nested dictionary to store band stats in same \n",
    "        stats = raster.GetStatistics(True,True)\n",
    "        metadata['bandstats']['min'] = round(stats[0],2)\n",
    "        metadata['bandstats']['max'] = round(stats[1],2)\n",
    "        metadata['bandstats']['mean'] = round(stats[2],2)\n",
    "        metadata['bandstats']['stdev'] = round(stats[3],2)\n",
    "\n",
    "        array = dataset.GetRasterBand(1).ReadAsArray(0,0,metadata['array_cols'],metadata['array_rows']).astype(np.float)\n",
    "        array[array==int(metadata['noDataValue'])]=np.nan\n",
    "        array = array/metadata['scaleFactor']\n",
    "        return array, metadata\n",
    "\n",
    "    elif metadata['bands'] > 1:\n",
    "        print('More than one band ... need to modify function for case of multiple bands')"
   ]
  },
  {
   "cell_type": "code",
   "execution_count": 16,
   "metadata": {},
   "outputs": [
    {
     "name": "stdout",
     "output_type": "stream",
     "text": [
      "NAFI_Array:  [[0. 0. 0. ... 0. 0. 0.]\n",
      " [0. 0. 0. ... 0. 0. 0.]\n",
      " [0. 0. 0. ... 0. 0. 0.]\n",
      " ...\n",
      " [0. 0. 0. ... 0. 0. 0.]\n",
      " [0. 0. 0. ... 0. 0. 0.]\n",
      " [0. 0. 0. ... 0. 0. 0.]]\n",
      "array_cols: 16431\n",
      "array_rows: 9868\n",
      "bands: 1\n",
      "bandstats: {'min': 0.0, 'max': 157.0, 'mean': 1.03, 'stdev': 9.61}\n",
      "driver: GeoTIFF\n",
      "ext_dict: {'xMin': 112.9225, 'xMax': 6572512.9225, 'yMin': -3947209.33, 'yMax': -9.329999999999998}\n",
      "extent: (112.9225, 6572512.9225, -3947209.33, -9.329999999999998)\n",
      "geotransform: (112.9225, 0.0025, 0.0, -9.329999999999998, 0.0, -0.0025)\n",
      "noDataValue: 255.0\n",
      "pixelHeight: -0.0025\n",
      "pixelWidth: 0.0025\n",
      "projection: \n",
      "scaleFactor: 1.0\n"
     ]
    }
   ],
   "source": [
    "NAFI_array, NAFI_metadata = raster2array(r\"Z:\\Scratch\\Zonal_Stats_Pipeline\\Firescars\\NAFI_fire_rasters_v2\\fs2020.tif\")\n",
    "\n",
    "print('NAFI_Array: ',NAFI_array)\n",
    "\n",
    "#print metadata in alphabetical order\n",
    "for item in sorted(NAFI_metadata):\n",
    "    print(item + ':', NAFI_metadata[item])"
   ]
  },
  {
   "cell_type": "code",
   "execution_count": 17,
   "metadata": {},
   "outputs": [
    {
     "name": "stdout",
     "output_type": "stream",
     "text": [
      "Min: 0.0\n",
      "Max: 9.0\n",
      "Mean: 0.08\n"
     ]
    },
    {
     "data": {
      "text/plain": [
       "<matplotlib.legend.Legend at 0x183e4d578c8>"
      ]
     },
     "execution_count": 17,
     "metadata": {},
     "output_type": "execute_result"
    },
    {
     "data": {
      "image/png": "[encoded data removed]",
      "text/plain": [
       "<Figure size 432x288 with 1 Axes>"
      ]
     },
     "metadata": {
      "needs_background": "light"
     },
     "output_type": "display_data"
    }
   ],
   "source": [
    "NAFI_reclass = copy.copy(NAFI_array)\n",
    "NAFI_reclass[np.where(NAFI_array== 0)] = 0 # No fire\n",
    "NAFI_reclass[np.where((NAFI_array>=1) & (NAFI_array<=8))] = 1 #  Class Jan\n",
    "NAFI_reclass[np.where((NAFI_array>=8) & (NAFI_array<=16))] = 2 #  Class Feb\n",
    "NAFI_reclass[np.where((NAFI_array>=17) & (NAFI_array<=26))] = 3 # March\n",
    "NAFI_reclass[np.where((NAFI_array>=27) & (NAFI_array<=36))] = 4 #  April\n",
    "NAFI_reclass[np.where((NAFI_array>=37) & (NAFI_array<=55))] = 5 #  Class May\n",
    "NAFI_reclass[np.where((NAFI_array>=56) & (NAFI_array<=84))] = 6 #  Class June\n",
    "NAFI_reclass[np.where((NAFI_array>=85) & (NAFI_array<=115))] = 7 #  Class July\n",
    "NAFI_reclass[np.where((NAFI_array>=116) & (NAFI_array<=145))] = 8 #  Class August\n",
    "NAFI_reclass[np.where((NAFI_array>=146) & (NAFI_array<=175))] = 9 #  Class September\n",
    "NAFI_reclass[np.where((NAFI_array>=176) & (NAFI_array<=205))] = 10 #  Class October\n",
    "NAFI_reclass[np.where((NAFI_array>=206) & (NAFI_array<=231))] = 11 #  Class November\n",
    "NAFI_reclass[np.where((NAFI_array>=232) & (NAFI_array<=255))] = 12 #  Class December\n",
    "NAFI_reclass[np.where(NAFI_array>=176)] = 255 #  Class No data\n",
    "\"\"\"NAFI_reclass[np.where((NAFI_array>206) & (NAFI_array<=231))] = 11 #  Class November\n",
    "NAFI_reclass[np.where((NAFI_array>232) & (NAFI_array<=254))] = 12 #  Class December\"\"\"\n",
    "#NAFI_reclass[np.where(NAFI_array== 0)] = 10 # Class No data\n",
    "\n",
    "print('Min:',np.nanmin(NAFI_reclass))\n",
    "print('Max:',np.nanmax(NAFI_reclass))\n",
    "print('Mean:',round(np.nanmean(NAFI_reclass),2))\n",
    "\n",
    "\n",
    "import matplotlib.colors as colors\n",
    "plt.figure(); #ax = plt.subplots()\n",
    "cmapNAFI = colors.ListedColormap([\n",
    "    'white',\n",
    "    'peru',\n",
    "    'peachpuff',\n",
    "    'yellowgreen',\n",
    "    'khaki',\n",
    "    'red',\n",
    "    'orange',\n",
    "    'darkred',\n",
    "    'red',\n",
    "    'springgreen',\n",
    "    'blue',\n",
    "    'tan',\n",
    "    'maroon',\n",
    "    'red',\n",
    "])\n",
    "\n",
    "extents=[6000,1200,0,500]\n",
    "\n",
    "plt.imshow(NAFI_reclass,  cmap=cmapNAFI) #extent=extents,\n",
    "plt.title('NAFI month breakdown')\n",
    "ax=plt.gca(); ax.ticklabel_format(useOffset=False, style='plain') #do not use scientific notation \n",
    "rotatexlabels = plt.setp(ax.get_xticklabels(),rotation=90) #rotate x tick labels 90 degrees\n",
    "# forceAspect(ax,aspect=1) # ax.set_aspect('auto')\n",
    "\n",
    "# Create custom legend to label the four canopy height classes:\n",
    "import matplotlib.patches as mpatches\n",
    "class1_box = mpatches.Patch(color='peru', label='Jan')\n",
    "class2_box = mpatches.Patch(color='peachpuff', label='Feb')\n",
    "class3_box = mpatches.Patch(color='yellowgreen', label='Mar')\n",
    "class4_box = mpatches.Patch(color='khaki', label='April')\n",
    "class5_box = mpatches.Patch(color='red', label='May')\n",
    "class6_box = mpatches.Patch(color='orange', label='June')\n",
    "class7_box = mpatches.Patch(color='darkred', label='July')\n",
    "class8_box = mpatches.Patch(color='red', label='Aug')\n",
    "class9_box = mpatches.Patch(color='springgreen', label='Sep')\n",
    "class10_box = mpatches.Patch(color='blue', label='Oct')\n",
    "class11_box = mpatches.Patch(color='tan', label='Nov')\n",
    "class12_box = mpatches.Patch(color='maroon', label='Dec')\n",
    "class13_box = mpatches.Patch(color='black', label='255')\n",
    "#class14_box = mpatches.Patch(color='black', label='255')\n",
    "\n",
    "\n",
    "\n",
    "ax.legend(handles=[class1_box,class2_box,class3_box,class4_box, class5_box, class6_box,\n",
    "                  class7_box,class8_box,class9_box],\n",
    "          handlelength=0.7,bbox_to_anchor=(1.05, 0.4),loc='lower left',borderaxespad=0.)"
   ]
  },
  {
   "cell_type": "markdown",
   "metadata": {},
   "source": [
    "Export geo tif"
   ]
  },
  {
   "cell_type": "code",
   "execution_count": 24,
   "metadata": {},
   "outputs": [],
   "source": [
    "\n",
    "\"\"\"\n",
    "Array to Raster Function from https://pcjericks.github.io/py-gdalogr-cookbook/raster_layers.html)\n",
    "\"\"\"\n",
    "import gdal, osr #ogr, os, osr\n",
    "import numpy as np\n",
    "\n",
    "def array2raster(newRasterfn,rasterOrigin,pixelWidth,pixelHeight,array,epsg):\n",
    "\n",
    "    cols = array.shape[1]\n",
    "    rows = array.shape[0]\n",
    "    originX = rasterOrigin[0]\n",
    "    print(originX)\n",
    "    originY = rasterOrigin[1]\n",
    "    print(originY)\n",
    "\n",
    "\n",
    "    driver = gdal.GetDriverByName('GTiff')\n",
    "    outRaster = driver.Create(newRasterfn, cols, rows, 1, gdal.GDT_Byte)\n",
    "    outRaster.SetGeoTransform((originX, pixelWidth, 0, originY, 0, pixelHeight))\n",
    "    outband = outRaster.GetRasterBand(1)\n",
    "    outband.WriteArray(array)\n",
    "    outRasterSRS = osr.SpatialReference()\n",
    "    outRasterSRS.ImportFromEPSG(4283)\n",
    "    outRaster.SetProjection(outRasterSRS.ExportToWkt())\n",
    "    outband.FlushCache()"
   ]
  },
  {
   "cell_type": "code",
   "execution_count": 25,
   "metadata": {},
   "outputs": [
    {
     "name": "stdout",
     "output_type": "stream",
     "text": [
      "raster origin: (112.9225, -9.329999999999998)\n",
      "112.9225\n",
      "-9.329999999999998\n"
     ]
    },
    {
     "ename": "AttributeError",
     "evalue": "'NoneType' object has no attribute 'SetGeoTransform'",
     "output_type": "error",
     "traceback": [
      "\u001b[1;31m---------------------------------------------------------------------------\u001b[0m",
      "\u001b[1;31mAttributeError\u001b[0m                            Traceback (most recent call last)",
      "\u001b[1;32m<ipython-input-25-0a13024fed90>\u001b[0m in \u001b[0;36m<module>\u001b[1;34m\u001b[0m\n\u001b[0;32m      2\u001b[0m \u001b[0mrasterOrigin\u001b[0m \u001b[1;33m=\u001b[0m \u001b[1;33m(\u001b[0m\u001b[0mNAFI_metadata\u001b[0m\u001b[1;33m[\u001b[0m\u001b[1;34m'ext_dict'\u001b[0m\u001b[1;33m]\u001b[0m\u001b[1;33m[\u001b[0m\u001b[1;34m'xMin'\u001b[0m\u001b[1;33m]\u001b[0m\u001b[1;33m,\u001b[0m\u001b[0mNAFI_metadata\u001b[0m\u001b[1;33m[\u001b[0m\u001b[1;34m'ext_dict'\u001b[0m\u001b[1;33m]\u001b[0m\u001b[1;33m[\u001b[0m\u001b[1;34m'yMax'\u001b[0m\u001b[1;33m]\u001b[0m\u001b[1;33m)\u001b[0m\u001b[1;33m\u001b[0m\u001b[1;33m\u001b[0m\u001b[0m\n\u001b[0;32m      3\u001b[0m \u001b[0mprint\u001b[0m\u001b[1;33m(\u001b[0m\u001b[1;34m'raster origin:'\u001b[0m\u001b[1;33m,\u001b[0m\u001b[0mrasterOrigin\u001b[0m\u001b[1;33m)\u001b[0m\u001b[1;33m\u001b[0m\u001b[1;33m\u001b[0m\u001b[0m\n\u001b[1;32m----> 4\u001b[1;33m \u001b[0marray2raster\u001b[0m\u001b[1;33m(\u001b[0m\u001b[1;34m'Z:\\Scratch\\Zonal_Stats_Pipeline\\Firescars\\scratch\\test2020v7.tif'\u001b[0m\u001b[1;33m,\u001b[0m\u001b[0mrasterOrigin\u001b[0m\u001b[1;33m,\u001b[0m\u001b[1;36m1\u001b[0m\u001b[1;33m,\u001b[0m\u001b[1;33m-\u001b[0m\u001b[1;36m1\u001b[0m\u001b[1;33m,\u001b[0m\u001b[0mNAFI_reclass\u001b[0m\u001b[1;33m,\u001b[0m\u001b[0mepsg\u001b[0m\u001b[1;33m)\u001b[0m\u001b[1;33m\u001b[0m\u001b[1;33m\u001b[0m\u001b[0m\n\u001b[0m",
      "\u001b[1;32m<ipython-input-24-8d153ca011fd>\u001b[0m in \u001b[0;36marray2raster\u001b[1;34m(newRasterfn, rasterOrigin, pixelWidth, pixelHeight, array, epsg)\u001b[0m\n\u001b[0;32m     17\u001b[0m     \u001b[0mdriver\u001b[0m \u001b[1;33m=\u001b[0m \u001b[0mgdal\u001b[0m\u001b[1;33m.\u001b[0m\u001b[0mGetDriverByName\u001b[0m\u001b[1;33m(\u001b[0m\u001b[1;34m'GTiff'\u001b[0m\u001b[1;33m)\u001b[0m\u001b[1;33m\u001b[0m\u001b[1;33m\u001b[0m\u001b[0m\n\u001b[0;32m     18\u001b[0m     \u001b[0moutRaster\u001b[0m \u001b[1;33m=\u001b[0m \u001b[0mdriver\u001b[0m\u001b[1;33m.\u001b[0m\u001b[0mCreate\u001b[0m\u001b[1;33m(\u001b[0m\u001b[0mnewRasterfn\u001b[0m\u001b[1;33m,\u001b[0m \u001b[0mcols\u001b[0m\u001b[1;33m,\u001b[0m \u001b[0mrows\u001b[0m\u001b[1;33m,\u001b[0m \u001b[1;36m1\u001b[0m\u001b[1;33m,\u001b[0m \u001b[0mgdal\u001b[0m\u001b[1;33m.\u001b[0m\u001b[0mGDT_Byte\u001b[0m\u001b[1;33m)\u001b[0m\u001b[1;33m\u001b[0m\u001b[1;33m\u001b[0m\u001b[0m\n\u001b[1;32m---> 19\u001b[1;33m     \u001b[0moutRaster\u001b[0m\u001b[1;33m.\u001b[0m\u001b[0mSetGeoTransform\u001b[0m\u001b[1;33m(\u001b[0m\u001b[1;33m(\u001b[0m\u001b[0moriginX\u001b[0m\u001b[1;33m,\u001b[0m \u001b[0mpixelWidth\u001b[0m\u001b[1;33m,\u001b[0m \u001b[1;36m0\u001b[0m\u001b[1;33m,\u001b[0m \u001b[0moriginY\u001b[0m\u001b[1;33m,\u001b[0m \u001b[1;36m0\u001b[0m\u001b[1;33m,\u001b[0m \u001b[0mpixelHeight\u001b[0m\u001b[1;33m)\u001b[0m\u001b[1;33m)\u001b[0m\u001b[1;33m\u001b[0m\u001b[1;33m\u001b[0m\u001b[0m\n\u001b[0m\u001b[0;32m     20\u001b[0m     \u001b[0moutband\u001b[0m \u001b[1;33m=\u001b[0m \u001b[0moutRaster\u001b[0m\u001b[1;33m.\u001b[0m\u001b[0mGetRasterBand\u001b[0m\u001b[1;33m(\u001b[0m\u001b[1;36m1\u001b[0m\u001b[1;33m)\u001b[0m\u001b[1;33m\u001b[0m\u001b[1;33m\u001b[0m\u001b[0m\n\u001b[0;32m     21\u001b[0m     \u001b[0moutband\u001b[0m\u001b[1;33m.\u001b[0m\u001b[0mWriteArray\u001b[0m\u001b[1;33m(\u001b[0m\u001b[0marray\u001b[0m\u001b[1;33m)\u001b[0m\u001b[1;33m\u001b[0m\u001b[1;33m\u001b[0m\u001b[0m\n",
      "\u001b[1;31mAttributeError\u001b[0m: 'NoneType' object has no attribute 'SetGeoTransform'"
     ]
    }
   ],
   "source": [
    "epsg = 4283   # GDA94 \n",
    "rasterOrigin = (NAFI_metadata['ext_dict']['xMin'],NAFI_metadata['ext_dict']['yMax'])\n",
    "print('raster origin:',rasterOrigin)\n",
    "array2raster('Z:\\Scratch\\Zonal_Stats_Pipeline\\Firescars\\scratch\\test2020v7.tif',rasterOrigin,1,-1,NAFI_reclass,epsg)"
   ]
  },
  {
   "cell_type": "markdown",
   "metadata": {},
   "source": [
    "Full classification code"
   ]
  },
  {
   "cell_type": "code",
   "execution_count": 26,
   "metadata": {},
   "outputs": [
    {
     "name": "stdout",
     "output_type": "stream",
     "text": [
      "NAFI_Array:  [[0. 0. 0. ... 0. 0. 0.]\n",
      " [0. 0. 0. ... 0. 0. 0.]\n",
      " [0. 0. 0. ... 0. 0. 0.]\n",
      " ...\n",
      " [0. 0. 0. ... 0. 0. 0.]\n",
      " [0. 0. 0. ... 0. 0. 0.]\n",
      " [0. 0. 0. ... 0. 0. 0.]]\n",
      "array_cols: 16431\n",
      "array_rows: 9868\n",
      "bands: 1\n",
      "bandstats: {'min': 0.0, 'max': 157.0, 'mean': 1.03, 'stdev': 9.61}\n",
      "driver: GeoTIFF\n",
      "ext_dict: {'xMin': 112.9225, 'xMax': 6572512.9225, 'yMin': -3947209.33, 'yMax': -9.329999999999998}\n",
      "extent: (112.9225, 6572512.9225, -3947209.33, -9.329999999999998)\n",
      "geotransform: (112.9225, 0.0025, 0.0, -9.329999999999998, 0.0, -0.0025)\n",
      "noDataValue: 255.0\n",
      "pixelHeight: -0.0025\n",
      "pixelWidth: 0.0025\n",
      "projection: \n",
      "scaleFactor: 1.0\n",
      "Min: 0.0\n",
      "Max: 9.0\n",
      "Mean: 0.08\n",
      "raster origin: (112.9225, -9.329999999999998)\n",
      "0.0025\n",
      "------------------------------------------------------------------------\n",
      "-0.0025\n"
     ]
    },
    {
     "ename": "AttributeError",
     "evalue": "'NoneType' object has no attribute 'SetGeoTransform'",
     "output_type": "error",
     "traceback": [
      "\u001b[1;31m---------------------------------------------------------------------------\u001b[0m",
      "\u001b[1;31mAttributeError\u001b[0m                            Traceback (most recent call last)",
      "\u001b[1;32m<ipython-input-26-5d440500258d>\u001b[0m in \u001b[0;36m<module>\u001b[1;34m\u001b[0m\n\u001b[0;32m    130\u001b[0m \u001b[0mrasterOrigin\u001b[0m \u001b[1;33m=\u001b[0m \u001b[1;33m(\u001b[0m\u001b[0mNAFI_metadata\u001b[0m\u001b[1;33m[\u001b[0m\u001b[1;34m'ext_dict'\u001b[0m\u001b[1;33m]\u001b[0m\u001b[1;33m[\u001b[0m\u001b[1;34m'xMin'\u001b[0m\u001b[1;33m]\u001b[0m\u001b[1;33m,\u001b[0m\u001b[0mNAFI_metadata\u001b[0m\u001b[1;33m[\u001b[0m\u001b[1;34m'ext_dict'\u001b[0m\u001b[1;33m]\u001b[0m\u001b[1;33m[\u001b[0m\u001b[1;34m'yMax'\u001b[0m\u001b[1;33m]\u001b[0m\u001b[1;33m)\u001b[0m\u001b[1;33m\u001b[0m\u001b[1;33m\u001b[0m\u001b[0m\n\u001b[0;32m    131\u001b[0m \u001b[0mprint\u001b[0m\u001b[1;33m(\u001b[0m\u001b[1;34m'raster origin:'\u001b[0m\u001b[1;33m,\u001b[0m\u001b[0mrasterOrigin\u001b[0m\u001b[1;33m)\u001b[0m\u001b[1;33m\u001b[0m\u001b[1;33m\u001b[0m\u001b[0m\n\u001b[1;32m--> 132\u001b[1;33m \u001b[0marray2raster\u001b[0m\u001b[1;33m(\u001b[0m\u001b[1;34m'Z:\\Scratch\\Zonal_Stats_Pipeline\\Firescars\\scratch\\test2020v8.tif'\u001b[0m\u001b[1;33m,\u001b[0m\u001b[0mrasterOrigin\u001b[0m\u001b[1;33m,\u001b[0m\u001b[1;36m1\u001b[0m\u001b[1;33m,\u001b[0m\u001b[1;33m-\u001b[0m\u001b[1;36m1\u001b[0m\u001b[1;33m,\u001b[0m\u001b[0mNAFI_reclass\u001b[0m\u001b[1;33m,\u001b[0m\u001b[0mepsg\u001b[0m\u001b[1;33m)\u001b[0m\u001b[1;33m\u001b[0m\u001b[1;33m\u001b[0m\u001b[0m\n\u001b[0m\u001b[0;32m    133\u001b[0m \u001b[0mprint\u001b[0m\u001b[1;33m(\u001b[0m\u001b[1;34m'----------------------\\n script has finished \\n ----------------'\u001b[0m\u001b[1;33m)\u001b[0m\u001b[1;33m\u001b[0m\u001b[1;33m\u001b[0m\u001b[0m\n",
      "\u001b[1;32m<ipython-input-26-5d440500258d>\u001b[0m in \u001b[0;36marray2raster\u001b[1;34m(newRasterfn, rasterOrigin, pixelWidth, pixelHeight, array, epsg)\u001b[0m\n\u001b[0;32m    118\u001b[0m     \u001b[0mdriver\u001b[0m \u001b[1;33m=\u001b[0m \u001b[0mgdal\u001b[0m\u001b[1;33m.\u001b[0m\u001b[0mGetDriverByName\u001b[0m\u001b[1;33m(\u001b[0m\u001b[1;34m'GTiff'\u001b[0m\u001b[1;33m)\u001b[0m\u001b[1;33m\u001b[0m\u001b[1;33m\u001b[0m\u001b[0m\n\u001b[0;32m    119\u001b[0m     \u001b[0moutRaster\u001b[0m \u001b[1;33m=\u001b[0m \u001b[0mdriver\u001b[0m\u001b[1;33m.\u001b[0m\u001b[0mCreate\u001b[0m\u001b[1;33m(\u001b[0m\u001b[0mnewRasterfn\u001b[0m\u001b[1;33m,\u001b[0m \u001b[0mcols\u001b[0m\u001b[1;33m,\u001b[0m \u001b[0mrows\u001b[0m\u001b[1;33m,\u001b[0m \u001b[1;36m1\u001b[0m\u001b[1;33m,\u001b[0m \u001b[0mgdal\u001b[0m\u001b[1;33m.\u001b[0m\u001b[0mGDT_Byte\u001b[0m\u001b[1;33m)\u001b[0m\u001b[1;33m\u001b[0m\u001b[1;33m\u001b[0m\u001b[0m\n\u001b[1;32m--> 120\u001b[1;33m     \u001b[0moutRaster\u001b[0m\u001b[1;33m.\u001b[0m\u001b[0mSetGeoTransform\u001b[0m\u001b[1;33m(\u001b[0m\u001b[1;33m(\u001b[0m\u001b[0moriginX\u001b[0m\u001b[1;33m,\u001b[0m \u001b[0mpixelWidth\u001b[0m\u001b[1;33m,\u001b[0m \u001b[1;36m0\u001b[0m\u001b[1;33m,\u001b[0m \u001b[0moriginY\u001b[0m\u001b[1;33m,\u001b[0m \u001b[1;36m0\u001b[0m\u001b[1;33m,\u001b[0m \u001b[0mpixelHeight\u001b[0m\u001b[1;33m)\u001b[0m\u001b[1;33m)\u001b[0m\u001b[1;33m\u001b[0m\u001b[1;33m\u001b[0m\u001b[0m\n\u001b[0m\u001b[0;32m    121\u001b[0m     \u001b[0moutband\u001b[0m \u001b[1;33m=\u001b[0m \u001b[0moutRaster\u001b[0m\u001b[1;33m.\u001b[0m\u001b[0mGetRasterBand\u001b[0m\u001b[1;33m(\u001b[0m\u001b[1;36m1\u001b[0m\u001b[1;33m)\u001b[0m\u001b[1;33m\u001b[0m\u001b[1;33m\u001b[0m\u001b[0m\n\u001b[0;32m    122\u001b[0m     \u001b[0moutband\u001b[0m\u001b[1;33m.\u001b[0m\u001b[0mWriteArray\u001b[0m\u001b[1;33m(\u001b[0m\u001b[0marray\u001b[0m\u001b[1;33m)\u001b[0m\u001b[1;33m\u001b[0m\u001b[1;33m\u001b[0m\u001b[0m\n",
      "\u001b[1;31mAttributeError\u001b[0m: 'NoneType' object has no attribute 'SetGeoTransform'"
     ]
    }
   ],
   "source": [
    "# raster2array.py reads in the first band of geotif file and returns an array and associated \n",
    "# metadata dictionary\n",
    "\n",
    "import numpy as np\n",
    "import gdal\n",
    "import matplotlib.pyplot as plt\n",
    "%matplotlib inline\n",
    "import warnings\n",
    "warnings.filterwarnings('ignore')\n",
    "from osgeo import gdal\n",
    "import numpy as np\n",
    "import copy\n",
    "#import matplotlib.colors as colors\n",
    "import gdal, osr #ogr, os, osr\n",
    "import numpy as np\n",
    "\n",
    "\n",
    "\n",
    "def raster2array(geotif_file):\n",
    "    metadata = {}\n",
    "    dataset = gdal.Open(geotif_file)\n",
    "    metadata['array_rows'] = dataset.RasterYSize\n",
    "    metadata['array_cols'] = dataset.RasterXSize\n",
    "    metadata['bands'] = dataset.RasterCount\n",
    "    metadata['driver'] = dataset.GetDriver().LongName\n",
    "    metadata['projection'] = dataset.GetProjection()\n",
    "    metadata['geotransform'] = dataset.GetGeoTransform()\n",
    "\n",
    "    mapinfo = dataset.GetGeoTransform()\n",
    "    metadata['pixelWidth'] = mapinfo[1]\n",
    "    metadata['pixelHeight'] = mapinfo[5]\n",
    "\n",
    "    metadata['ext_dict'] = {}\n",
    "    metadata['ext_dict']['xMin'] = mapinfo[0]\n",
    "    metadata['ext_dict']['xMax'] = mapinfo[0] + dataset.RasterXSize/mapinfo[1]\n",
    "    metadata['ext_dict']['yMin'] = mapinfo[3] + dataset.RasterYSize/mapinfo[5]\n",
    "    metadata['ext_dict']['yMax'] = mapinfo[3]\n",
    "\n",
    "    metadata['extent'] = (metadata['ext_dict']['xMin'],metadata['ext_dict']['xMax'],\n",
    "                          metadata['ext_dict']['yMin'],metadata['ext_dict']['yMax'])\n",
    "\n",
    "    if metadata['bands'] == 1:\n",
    "        raster = dataset.GetRasterBand(1)\n",
    "        metadata['noDataValue'] = raster.GetNoDataValue()\n",
    "        metadata['scaleFactor'] = raster.GetScale()\n",
    "\n",
    "        # band statistics\n",
    "        metadata['bandstats'] = {} #make a nested dictionary to store band stats in same \n",
    "        stats = raster.GetStatistics(True,True)\n",
    "        metadata['bandstats']['min'] = round(stats[0],2)\n",
    "        metadata['bandstats']['max'] = round(stats[1],2)\n",
    "        metadata['bandstats']['mean'] = round(stats[2],2)\n",
    "        metadata['bandstats']['stdev'] = round(stats[3],2)\n",
    "\n",
    "        array = dataset.GetRasterBand(1).ReadAsArray(0,0,metadata['array_cols'],metadata['array_rows']).astype(np.float)\n",
    "        array[array==int(metadata['noDataValue'])]=np.nan\n",
    "        array = array/metadata['scaleFactor']\n",
    "        return array, metadata\n",
    "\n",
    "    elif metadata['bands'] > 1:\n",
    "        print('More than one band ... need to modify function for case of multiple bands')\n",
    "        \n",
    "        \n",
    "NAFI_array, NAFI_metadata = raster2array(r\"Z:\\Scratch\\Zonal_Stats_Pipeline\\Firescars\\NAFI_fire_rasters_v2\\fs2020.tif\")\n",
    "\n",
    "print('NAFI_Array: ',NAFI_array)\n",
    "\n",
    "#print metadata in alphabetical order\n",
    "for item in sorted(NAFI_metadata):\n",
    "    print(item + ':', NAFI_metadata[item])\n",
    "\n",
    "NAFI_reclass = copy.copy(NAFI_array)\n",
    "NAFI_reclass[np.where(NAFI_array== 0)] = 0 # Class No data\n",
    "NAFI_reclass[np.where((NAFI_array>=1) & (NAFI_array<=8))] = 1 #  Class Jan\n",
    "NAFI_reclass[np.where((NAFI_array>=8) & (NAFI_array<=16))] = 2 #  Class Feb\n",
    "NAFI_reclass[np.where((NAFI_array>=17) & (NAFI_array<=26))] = 3 # March\n",
    "NAFI_reclass[np.where((NAFI_array>=27) & (NAFI_array<=36))] = 4 #  April\n",
    "NAFI_reclass[np.where((NAFI_array>=37) & (NAFI_array<=55))] = 5 #  Class May\n",
    "NAFI_reclass[np.where((NAFI_array>=56) & (NAFI_array<=84))] = 6 #  Class June\n",
    "NAFI_reclass[np.where((NAFI_array>=85) & (NAFI_array<=115))] = 7 #  Class July\n",
    "NAFI_reclass[np.where((NAFI_array>=116) & (NAFI_array<=145))] = 8 #  Class August\n",
    "NAFI_reclass[np.where((NAFI_array>=146) & (NAFI_array<=175))] = 9 #  Class September\n",
    "NAFI_reclass[np.where((NAFI_array>=176) & (NAFI_array<=205))] = 10 #  Class October\n",
    "NAFI_reclass[np.where((NAFI_array>=206) & (NAFI_array<=231))] = 11 #  Class November\n",
    "NAFI_reclass[np.where((NAFI_array>=232) & (NAFI_array<=254))] = 12 #  Class December\n",
    "NAFI_reclass[np.where(NAFI_array==255)] = 255 #  Class No data\n",
    "\n",
    "\n",
    "print('Min:',np.nanmin(NAFI_reclass))\n",
    "print('Max:',np.nanmax(NAFI_reclass))\n",
    "print('Mean:',round(np.nanmean(NAFI_reclass),2))\n",
    "\n",
    "ax.legend(handles=[class1_box,class2_box,class3_box,class4_box, class5_box, class6_box,\n",
    "                  class7_box,class8_box,class9_box],\n",
    "          handlelength=0.7,bbox_to_anchor=(1.05, 0.4),loc='lower left',borderaxespad=0.)\n",
    "\n",
    "\n",
    "\"\"\"\n",
    "Array to Raster Function from https://pcjericks.github.io/py-gdalogr-cookbook/raster_layers.html)\n",
    "\"\"\"\n",
    "\n",
    "\n",
    "def array2raster(newRasterfn,rasterOrigin,pixelWidth,pixelHeight,array,epsg):\n",
    "\n",
    "    cols = array.shape[1]\n",
    "    rows = array.shape[0]\n",
    "    originX = rasterOrigin[0]\n",
    "    originY = rasterOrigin[1]\n",
    "    \n",
    "    pixelWidth = 0.0025\n",
    "    print(pixelWidth)\n",
    "    \n",
    "    print('------------------------------------------------------------------------')\n",
    "\n",
    "    pixelHeight = -0.0025\n",
    "    print(pixelHeight)\n",
    "\n",
    "    driver = gdal.GetDriverByName('GTiff')\n",
    "    outRaster = driver.Create(newRasterfn, cols, rows, 1, gdal.GDT_Byte)\n",
    "    outRaster.SetGeoTransform((originX, pixelWidth, 0, originY, 0, pixelHeight))\n",
    "    outband = outRaster.GetRasterBand(1)\n",
    "    outband.WriteArray(array)\n",
    "    outRasterSRS = osr.SpatialReference()\n",
    "    outRasterSRS.ImportFromEPSG(epsg)\n",
    "    outRaster.SetProjection(outRasterSRS.ExportToWkt())\n",
    "    outband.FlushCache()\n",
    "    \n",
    "\n",
    "epsg = 4283   # GDA94 \n",
    "rasterOrigin = (NAFI_metadata['ext_dict']['xMin'],NAFI_metadata['ext_dict']['yMax'])\n",
    "print('raster origin:',rasterOrigin)\n",
    "array2raster('Z:\\Scratch\\Zonal_Stats_Pipeline\\Firescars\\scratch\\test2020v8.tif',rasterOrigin,1,-1,NAFI_reclass,epsg)\n",
    "print('----------------------\\n script has finished \\n ----------------')"
   ]
  },
  {
   "cell_type": "code",
   "execution_count": null,
   "metadata": {},
   "outputs": [],
   "source": []
  },
  {
   "cell_type": "code",
   "execution_count": null,
   "metadata": {},
   "outputs": [],
   "source": []
  }
 ],
 "metadata": {
  "kernelspec": {
   "display_name": "Python 3",
   "language": "python",
   "name": "python3"
  },
  "language_info": {
   "codemirror_mode": {
    "name": "ipython",
    "version": 3
   },
   "file_extension": ".py",
   "mimetype": "text/x-python",
   "name": "python",
   "nbconvert_exporter": "python",
   "pygments_lexer": "ipython3",
   "version": "3.7.8"
  }
 },
 "nbformat": 4,
 "nbformat_minor": 2
}
