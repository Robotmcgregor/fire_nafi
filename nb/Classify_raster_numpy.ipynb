{
 "cells": [
  {
   "cell_type": "markdown",
   "metadata": {},
   "source": [
    "# Fire_scar_pipeline_v1"
   ]
  },
  {
   "cell_type": "code",
   "execution_count": 27,
   "metadata": {},
   "outputs": [],
   "source": [
    "import osgeo.gdal as gdal\n",
    "import os\n",
    "from osgeo import ogr\n",
    "\n",
    "# this sets the environmental variables for the prj folders \n",
    "# https://stackoverflow.com/questions/56764046/gdal-ogr2ogr-cannot-find-proj-db-error\n",
    "\n",
    "\n",
    "os.environ['PROJ_LIB'] =  r'C:\\ProgramData\\Anaconda3\\envs\\geo_env\\Library\\share\\proj'\n",
    "os.environ['GDAL_DATA'] = r'C:\\ProgramData\\Anaconda3\\envs\\geo_env\\Library\\share'"
   ]
  },
  {
   "cell_type": "code",
   "execution_count": 28,
   "metadata": {},
   "outputs": [],
   "source": [
    "import pandas as pd\n",
    "import geopandas as gpd\n",
    "import os\n",
    "import shutil\n",
    "import glob\n",
    "\n",
    "import numpy as np\n",
    "import rasterio as rio\n",
    "import rasterio.plot\n",
    "import pyproj\n",
    "\n",
    "import matplotlib\n",
    "import matplotlib.pyplot as plt\n",
    "\n",
    "import seaborn as sns\n",
    "import fiona\n",
    "import rasterstats\n",
    "from rasterstats import zonal_stats"
   ]
  },
  {
   "cell_type": "code",
   "execution_count": 29,
   "metadata": {},
   "outputs": [
    {
     "data": {
      "text/plain": [
       "{'AeronavFAA': 'r',\n",
       " 'ARCGEN': 'r',\n",
       " 'BNA': 'raw',\n",
       " 'DXF': 'raw',\n",
       " 'CSV': 'raw',\n",
       " 'OpenFileGDB': 'r',\n",
       " 'ESRI Shapefile': 'raw',\n",
       " 'GeoJSON': 'rw',\n",
       " 'GPKG': 'rw',\n",
       " 'GML': 'raw',\n",
       " 'GPX': 'raw',\n",
       " 'GPSTrackMaker': 'raw',\n",
       " 'Idrisi': 'r',\n",
       " 'MapInfo File': 'raw',\n",
       " 'DGN': 'raw',\n",
       " 'PCIDSK': 'r',\n",
       " 'S57': 'r',\n",
       " 'SEGY': 'r',\n",
       " 'SUA': 'r'}"
      ]
     },
     "execution_count": 29,
     "metadata": {},
     "output_type": "execute_result"
    }
   ],
   "source": [
    "import fiona; fiona.supported_drivers"
   ]
  },
  {
   "cell_type": "code",
   "execution_count": null,
   "metadata": {},
   "outputs": [],
   "source": [
    "# Import in the cadastre and ensure the crs is set to GDA94\n",
    "\"\"\"cadastre = gpd.read_file(r'U:\\LIB_Common\\Cadastre\\Datasets\\Av_data\\Cadastre.shp')\n",
    "cadastre.head()\n",
    "cadastre.crs\"\"\"\n",
    "\n",
    "\n",
    "#read in an excel sheet with all of the property names\n",
    "\"\"\"properties = pd.read_excel(r\"\\\\pgb-bas01\\DENR_Satellite_Imagery$\\Scratch\\Zonal_Stats_Pipeline\\Copy of landsatZonalStatsTiles2.xlsx\")\n",
    "properties[\"Property\"] = properties[\"Property\"].str.upper()\n",
    "prop_list = properties.Property.unique().tolist()\n",
    "\n",
    "shapefile_list =[]\"\"\"\n",
    "\n",
    "# create individual property shapefiles from a list\n",
    "\"\"\"for i in prop_list:\n",
    "    #To select rows whose column value equals a scalar, some_value, use ==:\n",
    "    prop = cadastre[cadastre[\"PROP_NAME\"]== i]\n",
    "    prop.reset_index(drop=True, inplace=True)\n",
    "    prop['uid']= prop.index + 1\n",
    "    print (i)\n",
    "    file_path = (r\"\\\\pgb-bas01\\DENR_Satellite_Imagery$\\Scratch\\Zonal_Stats_Pipeline\\shapefiles\\property\\new\\propertytest_\" + str.lower(i) + \"_GDA94.shp\")\n",
    "    shapefile_list.append(file_path)\n",
    "    print(prop.crs)\n",
    "    #prop.crs = {'init': 'EPSG:4283'}\n",
    "    #prop_gda94 = prop\n",
    "    print(prop.crs)\n",
    "    fig, ax = plt.subplots(figsize = (10,10))\n",
    "    prop.plot(ax=ax)\n",
    "    plt.show()\n",
    "    prop.to_file(file_path, driver = 'ESRI Shapefile')\"\"\""
   ]
  },
  {
   "cell_type": "code",
   "execution_count": null,
   "metadata": {
    "scrolled": true
   },
   "outputs": [],
   "source": [
    "# Import in the cadastre and ensure the crs is set to GDA94\n",
    "cadastre = gpd.read_file(r'U:\\LIB_Common\\Cadastre\\Datasets\\Av_data\\Cadastre.shp')\n",
    "cadastre.head()\n",
    "cadastre.crs\n",
    "\n",
    "\n",
    "#read in an excel sheet with all of the property names\n",
    "properties = pd.read_excel(r\"\\\\pgb-bas01\\DENR_Satellite_Imagery$\\Scratch\\Zonal_Stats_Pipeline\\Copy of landsatZonalStatsTiles2.xlsx\")\n",
    "properties[\"Property\"] = properties[\"Property\"].str.upper()\n",
    "prop_list = properties.Property.unique().tolist()\n",
    "\n",
    "shapefile_list =[]\n",
    "\n",
    "# create individual property shapefiles from a list\n",
    "for i in prop_list:\n",
    "    #To select rows whose column value equals a scalar, some_value, use ==:\n",
    "    prop = cadastre[cadastre[\"PROP_NAME\"]== i]\n",
    "    prop.reset_index(drop=True, inplace=True)\n",
    "    prop['uid']= prop.index + 1\n",
    "    print (i)\n",
    "    file_path = (r\"\\\\pgb-bas01\\DENR_Satellite_Imagery$\\Scratch\\Zonal_Stats_Pipeline\\shapefiles\\property\\new\\property_\" + str.lower(i) + \"_GDA94.shp\")\n",
    "    shapefile_list.append(file_path)\n",
    "    print(prop.crs)\n",
    "    prop.crs = {'init': 'EPSG:4283'}\n",
    "    prop_gda94 = prop\n",
    "    print(prop_gda94.crs)\n",
    "    fig, ax = plt.subplots(figsize = (10,10))\n",
    "    prop_gda94.plot(ax=ax)\n",
    "    plt.show()\n",
    "    prop_gda94.to_file(file_path, driver = 'ESRI Shapefile')"
   ]
  },
  {
   "cell_type": "code",
   "execution_count": null,
   "metadata": {},
   "outputs": [],
   "source": [
    "# Import in the cadastre and ensure the crs is set to GDA94\n",
    "cadastre = gpd.read_file(r'U:\\LIB_Common\\Cadastre\\Datasets\\Av_data\\Cadastre.shp')\n",
    "#cadastre.head()\n",
    "cadastre.crs"
   ]
  },
  {
   "cell_type": "code",
   "execution_count": null,
   "metadata": {
    "scrolled": true
   },
   "outputs": [],
   "source": [
    "df = gpd.read_file(r\"\\\\pgb-bas01\\DENR_Satellite_Imagery$\\Scratch\\Zonal_Stats_Pipeline\\shapefiles\\property\\new\\property_\" + str.lower(i) + \"_GDA94.shp\")"
   ]
  },
  {
   "cell_type": "code",
   "execution_count": null,
   "metadata": {},
   "outputs": [],
   "source": [
    "type(df)"
   ]
  },
  {
   "cell_type": "code",
   "execution_count": null,
   "metadata": {},
   "outputs": [],
   "source": [
    "df.total_bounds"
   ]
  },
  {
   "cell_type": "code",
   "execution_count": null,
   "metadata": {},
   "outputs": [],
   "source": [
    "df.crs"
   ]
  },
  {
   "cell_type": "code",
   "execution_count": null,
   "metadata": {},
   "outputs": [],
   "source": [
    "df.crs = {'init': 'epsg:4283'}"
   ]
  },
  {
   "cell_type": "code",
   "execution_count": null,
   "metadata": {},
   "outputs": [],
   "source": [
    "df.crs"
   ]
  },
  {
   "cell_type": "code",
   "execution_count": null,
   "metadata": {},
   "outputs": [],
   "source": [
    "shapefile_list = ['\\\\\\\\pgb-bas01\\\\DENR_Satellite_Imagery$\\\\Scratch\\\\Zonal_Stats_Pipeline\\\\shapefiles\\\\property\\\\new\\\\property_middle creek_GDA94.shp',\n",
    " '\\\\\\\\pgb-bas01\\\\DENR_Satellite_Imagery$\\\\Scratch\\\\Zonal_Stats_Pipeline\\\\shapefiles\\\\property\\\\new\\\\property_montejinni east_GDA94.shp',\n",
    " '\\\\\\\\pgb-bas01\\\\DENR_Satellite_Imagery$\\\\Scratch\\\\Zonal_Stats_Pipeline\\\\shapefiles\\\\property\\\\new\\\\property_montejinni west_GDA94.shp',\n",
    " '\\\\\\\\pgb-bas01\\\\DENR_Satellite_Imagery$\\\\Scratch\\\\Zonal_Stats_Pipeline\\\\shapefiles\\\\property\\\\new\\\\property_murray downs_GDA94.shp',\n",
    " '\\\\\\\\pgb-bas01\\\\DENR_Satellite_Imagery$\\\\Scratch\\\\Zonal_Stats_Pipeline\\\\shapefiles\\\\property\\\\new\\\\property_riveren_GDA94.shp',\n",
    " '\\\\\\\\pgb-bas01\\\\DENR_Satellite_Imagery$\\\\Scratch\\\\Zonal_Stats_Pipeline\\\\shapefiles\\\\property\\\\new\\\\property_shenandoah_GDA94.shp',\n",
    " '\\\\\\\\pgb-bas01\\\\DENR_Satellite_Imagery$\\\\Scratch\\\\Zonal_Stats_Pipeline\\\\shapefiles\\\\property\\\\new\\\\property_shenandoah east_GDA94.shp',\n",
    " '\\\\\\\\pgb-bas01\\\\DENR_Satellite_Imagery$\\\\Scratch\\\\Zonal_Stats_Pipeline\\\\shapefiles\\\\property\\\\new\\\\property_todd river_GDA94.shp',\n",
    " '\\\\\\\\pgb-bas01\\\\DENR_Satellite_Imagery$\\\\Scratch\\\\Zonal_Stats_Pipeline\\\\shapefiles\\\\property\\\\new\\\\property_wave hill_GDA94.shp',\n",
    " '\\\\\\\\pgb-bas01\\\\DENR_Satellite_Imagery$\\\\Scratch\\\\Zonal_Stats_Pipeline\\\\shapefiles\\\\property\\\\new\\\\property_willeroo_GDA94.shp',\n",
    " '\\\\\\\\pgb-bas01\\\\DENR_Satellite_Imagery$\\\\Scratch\\\\Zonal_Stats_Pipeline\\\\shapefiles\\\\property\\\\new\\\\property_wongalara_GDA94.shp',\n",
    " '\\\\\\\\pgb-bas01\\\\DENR_Satellite_Imagery$\\\\Scratch\\\\Zonal_Stats_Pipeline\\\\shapefiles\\\\property\\\\new\\\\property_tennant creek_GDA94.shp',\n",
    " '\\\\\\\\pgb-bas01\\\\DENR_Satellite_Imagery$\\\\Scratch\\\\Zonal_Stats_Pipeline\\\\shapefiles\\\\property\\\\new\\\\property_bullo river_GDA94.shp',\n",
    " '\\\\\\\\pgb-bas01\\\\DENR_Satellite_Imagery$\\\\Scratch\\\\Zonal_Stats_Pipeline\\\\shapefiles\\\\property\\\\new\\\\property_yambah_GDA94.shp']"
   ]
  },
  {
   "cell_type": "code",
   "execution_count": null,
   "metadata": {},
   "outputs": [],
   "source": [
    "for i in shapefile_list:\n",
    "    i.strip()\n",
    "    print(i)"
   ]
  },
  {
   "cell_type": "markdown",
   "metadata": {},
   "source": [
    "## Working file - cleaning second attempt 8/10/2020"
   ]
  },
  {
   "cell_type": "code",
   "execution_count": null,
   "metadata": {},
   "outputs": [],
   "source": [
    "for shape in shapefile_list:\n",
    "    shape.strip()\n",
    "    \n",
    "    # check if the \"temp_individual_bands\" file already exists and delete it if it does.\n",
    "    tempDir = 'temp_individual_bands'       \n",
    "    try:\n",
    "        shutil.rmtree(tempDir)\n",
    "\n",
    "    except:\n",
    "        print(\"The following directory was deleted: \", tempDir)\n",
    "\n",
    "    # create temporary folders\n",
    "    tempDir = 'temp_individual_bands'\n",
    "    os.makedirs(tempDir)\n",
    "\n",
    "\n",
    "    def listdir(dirname,endfilename,scratchDir):\n",
    "        \"\"\"\n",
    "        this function will return a list of files in a directory for the given file extention \"endfilename\". \n",
    "        \"\"\"\n",
    "        list_img = []\n",
    "\n",
    "        for root, dirs, files in os.walk(dirname):\n",
    "            for file in files:\n",
    "                if file.endswith(endfilename):\n",
    "                    img = (os.path.join(root, file))\n",
    "                    list_img.append(img)\n",
    "                    #print (img)\n",
    "                    shutil.copy(os.path.abspath(img), scratchDir)\n",
    "        #print(\"Script has finished\")\n",
    "        return list_img\n",
    "\n",
    "    dirname = r'U:\\Working\\Rangelands\\Spatial Data\\NAFI Firescars'\n",
    "    endfilename = 'MTH.tif'\n",
    "    scratchDir = r'C:\\Users\\rmcgr\\Desktop\\firemaps\\scratch'\n",
    "\n",
    "    listdir(dirname,endfilename,scratchDir)\n",
    "\n",
    "\n",
    "\n",
    "    imlist = r\"Z:\\Scratch\\Zonal_Stats_Pipeline\\Firescars\\NAFI_fire_rasters\\fire_list.csv\"\n",
    "    shape = shape\n",
    "    image_name =[]\n",
    "    image_date =[]\n",
    "    site_li =[]\n",
    "    zoneclass =[]\n",
    "    zoneresults =[]\n",
    "    property_list = []\n",
    "\n",
    "    #def mainRoutine():\n",
    "\n",
    "    # read in the command arguments\n",
    "    \"\"\"cmdargs = getCmdargs()\n",
    "    imlist = cmdargs.imlist\n",
    "    nodata= int(cmdargs.nodata)\n",
    "    shape = cmdargs.shape \n",
    "    uid = cmdargs.uid\n",
    "    export_csv = cmdargs.csv\"\"\" \n",
    "\n",
    "    # check if the \"temp_individual_bands\" file already exists and delete it if it does.\n",
    "    \"\"\"tempDir = 'temp_individual_bands'       \n",
    "    try:\n",
    "        shutil.rmtree(tempDir)\n",
    "\n",
    "    except:\n",
    "        print(\"The following directory was deleted: \", tempDir)\"\"\"\n",
    "\n",
    "    # create temporary folders\n",
    "    #tempDir = 'temp_individual_bands'\n",
    "    #os.makedirs(tempDir)\n",
    "\n",
    "    with open(imlist, \"r\") as imagerylist:\n",
    "\n",
    "        #Extract each image path from the image list\n",
    "        for image in imagerylist:\n",
    "            #print(image)\n",
    "\n",
    "            # cleans the file pathway (Windows)\n",
    "            imageS = image.rstrip()\n",
    "            #print(\"imageS: \", imageS)\n",
    "            im_name = imageS[60:]\n",
    "            #print(\"Im_Name: \", im_name)\n",
    "\n",
    "            # loops through each image\n",
    "            with rasterio.open(imageS, nodata= 0) as srci:\n",
    "                imageResults = 'image_' + im_name + '.csv'\n",
    "                # runs the zonal stats function and outputs a csv in a band specific folder\n",
    "                #finalresults = applyZonalstats(imageS, nodata, band, shape, uid)\n",
    "\n",
    "                \"\"\"--------------------------------------------------------------------------------------------------------------\"\"\"\n",
    "\n",
    "                #def applyZonalstats(imageS, nodata, band, shape, uid):\n",
    "\n",
    "                '''image_name =[]\n",
    "                image_date =[]\n",
    "                site_li =[]\n",
    "                zoneclass =[]\n",
    "                zoneresults =[]'''\n",
    "                total_uid_list = []\n",
    "                laiskey_list = []\n",
    "\n",
    "                with rasterio.open(imageS, nodata=0) as srci:\n",
    "                    affine = srci.transform #srci.transform is the new srci.affine\n",
    "                    array = srci.read(1)\n",
    "                    #print(array)\n",
    "                    \n",
    "                    with fiona.open(shape) as src:\n",
    "                        # using \"all_touched=True\" will increase the number of pixels used to produce the stats \"False\" reduces the number\n",
    "\n",
    "                        cmap = {1: 'Jan', 2: 'Feb', 3: 'March', 4: 'April', 5: 'May', 6: 'June', 7: 'July', 8: 'Aug', 9: 'Sep', 10: 'Oct', 11: 'Nov', 12: 'Dec'}\n",
    "                        zs = zonal_stats(src, array, affine=affine, stats=['count'],categorical=True, \n",
    "                                         category_map=cmap, nodata = 0, all_touched=False)\n",
    "\n",
    "                        # extract image name and append to list\n",
    "                        imgName = str(srci)[86:-11]\n",
    "                        #print(\"imgName: \", imgName)\n",
    "                        image_name.append(imgName)\n",
    "                        # extract image date and append to list\n",
    "                        imgDate = str(imgName)[2:6]\n",
    "                        #print(\"imgDate: \", imgDate)\n",
    "                        image_date.append(imgDate)\n",
    "                        \n",
    "                        df  = pd.DataFrame.from_records(zs)\n",
    "                        df.insert(0, 'image', imgName)\n",
    "                        df.insert(0, 'year', imgDate)\n",
    "                        \n",
    "                        for i in src:\n",
    "                            uid_list = []\n",
    "                            # extract shapefile records\n",
    "                            table_attributes = i['properties'] \n",
    "                            \n",
    "                            laiskey_ = table_attributes[\"LAISKEY\"]\n",
    "                            laiskey_string = str(laiskey_)\n",
    "                            laiskey_list.append(laiskey_string)\n",
    "                            total_laiskey_list.append(laiskey_string)\n",
    "                            #print(\"TOTAL_UID_LIST as it happens: \", total_uid_list)\n",
    "\n",
    "                            prop = table_attributes[\"PROP_NAME\"]\n",
    "                            property_list.append(prop)\n",
    "                            #print(\"UID_LIST: \", uid_list)\n",
    "\n",
    "                            uid_ = table_attributes[\"uid\"]\n",
    "                            uid_string = str(uid_)\n",
    "                            uid_list.append(uid_string)\n",
    "                            total_uid_list.append(uid_string)\n",
    "\n",
    "                    df['uid_final'] = total_uid_list\n",
    "                    df['Laiskey'] = laiskey_list\n",
    "                    print(\"TOTAL_UID_LIST: \", total_uid_list)\n",
    "\n",
    "                    df['band']= 1\n",
    "                    print(\"============================================================================\")\n",
    "                    print(df)\n",
    "                    print(\"----------------------------------------------------------------------------\")\n",
    "                    df.to_csv(tempDir + '//' + imageResults, index=False) \n",
    "\n",
    "                    srci.close()\n",
    "\n",
    "                    # print out the file name of the processed image\n",
    "                    print (imgName + ' ' + imgDate +  ' ' + 'zone stats are complete')\n",
    "\n",
    "                    #return(finalresults)\n",
    "\n",
    "                    \"\"\"--------------------------------------------------------------------------------------------------------\"\"\"\n",
    "\n",
    "                    #RETURN TO MAIN FUNCTION\n",
    "\n",
    "                    #header = ['number', 'site', 'min', 'max', 'mean', 'count']#, 'std', 'median'\n",
    "\n",
    "                    \"\"\"df  = pd.DataFrame.from_records(finalresults)\n",
    "                    df['band']= band\n",
    "                    df['image']= imgName\n",
    "                    df['date']= imgDate\n",
    "                    print(\"DF: \", df)\n",
    "                    df.to_csv(tempDir + '//' + imageResults, index=False) \"\"\"\n",
    "                    # join the elements in each of the lists row by row \n",
    "                    #finalresults =  [uid_list + property_list + imU for siteid, zoneR, imU in zip(siteID, zonestats,image_Name)] \n",
    "\n",
    "                    property_name = shape.rstrip()\n",
    "                    print(\"Property name: \", property_name)\n",
    "                    clean_prop_name = property_name[98:-4]\n",
    "                    print(\"Clean_Prop_Name: \", clean_prop_name)\n",
    "\n",
    "\n",
    "    # for loops through the band folders and concatenates zonal stat outputs into a complete band specific csv   \n",
    "    band_files = glob.glob(os.path.join(tempDir, \"*.csv\")) # advisable to use os.path.join as this makes concatenation OS independent\n",
    "    df_from_each_band_file = (pd.read_csv(f) for f in band_files)\n",
    "    concat_band_df   = pd.concat(df_from_each_band_file,ignore_index=False, axis=0, sort=False)\n",
    "    #concat_band_df = concat_band_df.insert(0, 'property', prop)\n",
    "    # export the band specific results to a csv file (i.e. three outputs)\n",
    "    concat_band_df.to_csv(r\"\\\\pgb-bas01\\DENR_Satellite_Imagery$\\Scratch\\Zonal_Stats_Pipeline\\Firescars\\outputs\" + '\\\\' + clean_prop_name + \"_fire_scar.csv\",index=False)"
   ]
  },
  {
   "cell_type": "code",
   "execution_count": null,
   "metadata": {},
   "outputs": [],
   "source": []
  },
  {
   "cell_type": "code",
   "execution_count": null,
   "metadata": {},
   "outputs": [],
   "source": []
  },
  {
   "cell_type": "code",
   "execution_count": null,
   "metadata": {},
   "outputs": [],
   "source": []
  },
  {
   "cell_type": "code",
   "execution_count": null,
   "metadata": {},
   "outputs": [],
   "source": []
  },
  {
   "cell_type": "code",
   "execution_count": null,
   "metadata": {},
   "outputs": [],
   "source": []
  },
  {
   "cell_type": "code",
   "execution_count": null,
   "metadata": {},
   "outputs": [],
   "source": []
  },
  {
   "cell_type": "code",
   "execution_count": null,
   "metadata": {},
   "outputs": [],
   "source": []
  },
  {
   "cell_type": "code",
   "execution_count": null,
   "metadata": {},
   "outputs": [],
   "source": []
  },
  {
   "cell_type": "code",
   "execution_count": null,
   "metadata": {},
   "outputs": [],
   "source": []
  },
  {
   "cell_type": "code",
   "execution_count": null,
   "metadata": {},
   "outputs": [],
   "source": []
  },
  {
   "cell_type": "code",
   "execution_count": null,
   "metadata": {},
   "outputs": [],
   "source": []
  },
  {
   "cell_type": "code",
   "execution_count": null,
   "metadata": {},
   "outputs": [],
   "source": []
  },
  {
   "cell_type": "code",
   "execution_count": null,
   "metadata": {},
   "outputs": [],
   "source": []
  },
  {
   "cell_type": "code",
   "execution_count": null,
   "metadata": {},
   "outputs": [],
   "source": []
  },
  {
   "cell_type": "code",
   "execution_count": null,
   "metadata": {},
   "outputs": [],
   "source": []
  },
  {
   "cell_type": "code",
   "execution_count": null,
   "metadata": {},
   "outputs": [],
   "source": []
  },
  {
   "cell_type": "code",
   "execution_count": null,
   "metadata": {},
   "outputs": [],
   "source": []
  },
  {
   "cell_type": "markdown",
   "metadata": {},
   "source": [
    "##Second attempt 8/10/2020 edit"
   ]
  },
  {
   "cell_type": "markdown",
   "metadata": {},
   "source": [
    "Created lists for uid but still there are issues."
   ]
  },
  {
   "cell_type": "markdown",
   "metadata": {},
   "source": [
    "# This is working accross all shapefiles and has not been cleaned."
   ]
  },
  {
   "cell_type": "code",
   "execution_count": null,
   "metadata": {},
   "outputs": [],
   "source": [
    "for shape in shapefile_list:\n",
    "    shape.strip()\n",
    "    \n",
    "    # check if the \"temp_individual_bands\" file already exists and delete it if it does.\n",
    "    tempDir = 'temp_individual_bands'       \n",
    "    try:\n",
    "        shutil.rmtree(tempDir)\n",
    "\n",
    "    except:\n",
    "        print(\"The following directory was deleted: \", tempDir)\n",
    "\n",
    "    # create temporary folders\n",
    "    tempDir = 'temp_individual_bands'\n",
    "    os.makedirs(tempDir)\n",
    "\n",
    "\n",
    "    def listdir(dirname,endfilename,scratchDir):\n",
    "        \"\"\"\n",
    "        this function will return a list of files in a directory for the given file extention \"endfilename\". \n",
    "        \"\"\"\n",
    "        list_img = []\n",
    "\n",
    "        for root, dirs, files in os.walk(dirname):\n",
    "            for file in files:\n",
    "                if file.endswith(endfilename):\n",
    "                    img = (os.path.join(root, file))\n",
    "                    list_img.append(img)\n",
    "                    #print (img)\n",
    "                    shutil.copy(os.path.abspath(img), scratchDir)\n",
    "        #print(\"Script has finished\")\n",
    "        return list_img\n",
    "\n",
    "    dirname = r'U:\\Working\\Rangelands\\Spatial Data\\NAFI Firescars'\n",
    "    endfilename = 'MTH.tif'\n",
    "    scratchDir = r'C:\\Users\\rmcgr\\Desktop\\firemaps\\scratch'\n",
    "\n",
    "    listdir(dirname,endfilename,scratchDir)\n",
    "\n",
    "\n",
    "\n",
    "    imlist = r\"Z:\\Scratch\\Zonal_Stats_Pipeline\\Firescars\\NAFI_fire_rasters\\fire_list.csv\"\n",
    "    shape = shape\n",
    "    image_name =[]\n",
    "    image_date =[]\n",
    "    site_li =[]\n",
    "    zoneclass =[]\n",
    "    zoneresults =[]\n",
    "    \n",
    "    property_list = []\n",
    "\n",
    "\n",
    "\n",
    "    #def mainRoutine():\n",
    "\n",
    "    # read in the command arguments\n",
    "    \"\"\"cmdargs = getCmdargs()\n",
    "    imlist = cmdargs.imlist\n",
    "    nodata= int(cmdargs.nodata)\n",
    "    shape = cmdargs.shape \n",
    "    uid = cmdargs.uid\n",
    "    export_csv = cmdargs.csv\"\"\" \n",
    "\n",
    "    # check if the \"temp_individual_bands\" file already exists and delete it if it does.\n",
    "    \"\"\"tempDir = 'temp_individual_bands'       \n",
    "    try:\n",
    "        shutil.rmtree(tempDir)\n",
    "\n",
    "    except:\n",
    "        print(\"The following directory was deleted: \", tempDir)\"\"\"\n",
    "\n",
    "    # create temporary folders\n",
    "    #tempDir = 'temp_individual_bands'\n",
    "    #os.makedirs(tempDir)\n",
    "\n",
    "    with open(imlist, \"r\") as imagerylist:\n",
    "\n",
    "        #Extract each image path from the image list\n",
    "        for image in imagerylist:\n",
    "            #print(image)\n",
    "\n",
    "            # cleans the file pathway (Windows)\n",
    "            imageS = image.rstrip()\n",
    "            #print(\"imageS: \", imageS)\n",
    "            im_name = imageS[60:]\n",
    "            #print(\"Im_Name: \", im_name)\n",
    "\n",
    "            # loops through each image\n",
    "            with rasterio.open(imageS, nodata= 0) as srci:\n",
    "                imageResults = 'image_' + im_name + '.csv'\n",
    "                # runs the zonal stats function and outputs a csv in a band specific folder\n",
    "                #finalresults = applyZonalstats(imageS, nodata, band, shape, uid)\n",
    "\n",
    "                \"\"\"--------------------------------------------------------------------------------------------------------------\"\"\"\n",
    "\n",
    "                #def applyZonalstats(imageS, nodata, band, shape, uid):\n",
    "\n",
    "                '''image_name =[]\n",
    "                image_date =[]\n",
    "                site_li =[]\n",
    "                zoneclass =[]\n",
    "                zoneresults =[]'''\n",
    "                total_uid_list = []\n",
    "                laiskey_list = []\n",
    "\n",
    "                with rasterio.open(imageS, nodata=0) as srci:\n",
    "                    affine = srci.transform #srci.transform is the new srci.affine\n",
    "                    array = srci.read(1)\n",
    "                    #print(array)\n",
    "                    \n",
    "                    \n",
    "\n",
    "                    with fiona.open(shape) as src:\n",
    "                        # using \"all_touched=True\" will increase the number of pixels used to produce the stats \"False\" reduces the number\n",
    "\n",
    "                        cmap = {1: 'Jan', 2: 'Feb', 3: 'March', 4: 'April', 5: 'May', 6: 'June', 7: 'July', 8: 'Aug', 9: 'Sep', 10: 'Oct', 11: 'Nov', 12: 'Dec'}\n",
    "                        zs = zonal_stats(src, array, affine=affine, stats=['count'],categorical=True, \n",
    "                                         category_map=cmap, nodata = 0, all_touched=False)\n",
    "\n",
    "                        # extract image name and append to list\n",
    "                        imgName = str(srci)[86:-11]\n",
    "                        #print(\"imgName: \", imgName)\n",
    "                        image_name.append(imgName)\n",
    "                        # extract image date and append to list\n",
    "                        imgDate = str(imgName)[2:6]\n",
    "                        #print(\"imgDate: \", imgDate)\n",
    "                        image_date.append(imgDate)\n",
    "                        \n",
    "                        df  = pd.DataFrame.from_records(zs)\n",
    "                        df.insert(0, 'image', imgName)\n",
    "                        df.insert(0, 'year', imgDate)\n",
    "                        \n",
    "                        for i in src:\n",
    "                            uid_list = []\n",
    "                            # extract shapefile records\n",
    "                            table_attributes = i['properties'] \n",
    "                            \n",
    "                            laiskey_ = table_attributes[\"LAISKEY\"]\n",
    "                            laiskey_string = str(laiskey_)\n",
    "                            laiskey_list.append(laiskey_string)\n",
    "                            total_laiskey_list.append(laiskey_string)\n",
    "                            print(\"TOTAL_UID_LIST as it happens: \", total_uid_list)\n",
    "\n",
    "                            prop = table_attributes[\"PROP_NAME\"]\n",
    "                            property_list.append(prop)\n",
    "                            print(\"UID_LIST: \", uid_list)\n",
    "                            #df['uid_test'] = uid_\n",
    "                            \n",
    "                            uid_ = table_attributes[\"uid\"]\n",
    "                            uid_string = str(uid_)\n",
    "                            uid_list.append(uid_string)\n",
    "                            total_uid_list.append(uid_string)\n",
    "\n",
    "                        \n",
    "                        print(\"============================================================================\")\n",
    "                        print(df)\n",
    "                        print(\"----------------------------------------------------------------------------\")\n",
    "                        \"\"\"uid_list = []\n",
    "                        property_list = []\n",
    "\n",
    "                        for i in src:\n",
    "\n",
    "                            # extract shapefile records\n",
    "                            table_attributes = i['properties'] \n",
    "                            \n",
    "                            uid_ = table_attributes[\"uid\"]\n",
    "                            uid_string = str(uid_)\n",
    "                            uid_list.append(uid_string)\n",
    "                            #df.insert(0, 'site', prop)\n",
    "\n",
    "                            prop = table_attributes[\"PROP_NAME\"]\n",
    "                            property_list.append(prop)\n",
    "                            #df.insert(0, 'property', prop)\"\"\"\n",
    "\n",
    "                    #df.insert(0, 'site', property_list)\n",
    "                    #df.insert(0, 'property', prop)\n",
    "                    #df.insert(0, 'site', uid_)\n",
    "                    #df = df.append(pd.DataFrame(total_uid_list, columns=['uid']) axis=1)\n",
    "                    df['uid_final'] = total_uid_list\n",
    "                    df['Laiskey'] = laiskey_list\n",
    "                    print(\"TOTAL_UID_LIST: \", total_uid_list)\n",
    "                    #df['site____'].append(total_uid_string)\n",
    "                    df['band']= 1\n",
    "                    print(\"============================================================================\")\n",
    "                    print(\"nnnnnnnnnnnnnnnnnnnnnnnnnnnnnnnnnnnnnnnnnnnnnnnnnnnnnnnnnnnnnnnnnnnnnnnnnnnnnn\")\n",
    "                    print(df)\n",
    "                    print(\"----------------------------------------------------------------------------\")\n",
    "                    df.to_csv(tempDir + '//' + imageResults, index=False) \n",
    "\n",
    "                    srci.close()\n",
    "\n",
    "                    # print out the file name of the processed image\n",
    "                    print (imgName + ' ' + imgDate +  ' ' + 'zone stats are complete')\n",
    "\n",
    "                    #return(finalresults)\n",
    "\n",
    "                    \"\"\"--------------------------------------------------------------------------------------------------------\"\"\"\n",
    "\n",
    "                    #RETURN TO MAIN FUNCTION\n",
    "\n",
    "                    #header = ['number', 'site', 'min', 'max', 'mean', 'count']#, 'std', 'median'\n",
    "\n",
    "                    \"\"\"df  = pd.DataFrame.from_records(finalresults)\n",
    "                    df['band']= band\n",
    "                    df['image']= imgName\n",
    "                    df['date']= imgDate\n",
    "                    print(\"DF: \", df)\n",
    "                    df.to_csv(tempDir + '//' + imageResults, index=False) \"\"\"\n",
    "                    # join the elements in each of the lists row by row \n",
    "                    #finalresults =  [uid_list + property_list + imU for siteid, zoneR, imU in zip(siteID, zonestats,image_Name)] \n",
    "\n",
    "                    property_name = shape.rstrip()\n",
    "                    print(\"Property name: \", property_name)\n",
    "                    clean_prop_name = property_name[98:-4]\n",
    "                    print(\"Clean_Prop_Name: \", clean_prop_name)\n",
    "\n",
    "\n",
    "    # for loops through the band folders and concatenates zonal stat outputs into a complete band specific csv   \n",
    "    band_files = glob.glob(os.path.join(tempDir, \"*.csv\")) # advisable to use os.path.join as this makes concatenation OS independent\n",
    "    df_from_each_band_file = (pd.read_csv(f) for f in band_files)\n",
    "    concat_band_df   = pd.concat(df_from_each_band_file,ignore_index=False, axis=0, sort=False)\n",
    "    #concat_band_df = concat_band_df.insert(0, 'property', prop)\n",
    "    # export the band specific results to a csv file (i.e. three outputs)\n",
    "    concat_band_df.to_csv(r\"\\\\pgb-bas01\\DENR_Satellite_Imagery$\\Scratch\\Zonal_Stats_Pipeline\\Firescars\\outputs\" + '\\\\' + clean_prop_name + \"_fire_scar.csv\",index=False)"
   ]
  },
  {
   "cell_type": "code",
   "execution_count": null,
   "metadata": {},
   "outputs": [],
   "source": []
  },
  {
   "cell_type": "markdown",
   "metadata": {},
   "source": [
    "## First attempt"
   ]
  },
  {
   "cell_type": "markdown",
   "metadata": {},
   "source": [
    "Issues:\n",
    "    can not include uid"
   ]
  },
  {
   "cell_type": "code",
   "execution_count": null,
   "metadata": {},
   "outputs": [],
   "source": [
    "First attempt\n",
    "issues can not include uid\n",
    "\n",
    "for shape in shapefile_list:\n",
    "    shape.strip()\n",
    "    \n",
    "    # check if the \"temp_individual_bands\" file already exists and delete it if it does.\n",
    "    tempDir = 'temp_individual_bands'       \n",
    "    try:\n",
    "        shutil.rmtree(tempDir)\n",
    "\n",
    "    except:\n",
    "        print(\"The following directory was deleted: \", tempDir)\n",
    "\n",
    "    # create temporary folders\n",
    "    tempDir = 'temp_individual_bands'\n",
    "    os.makedirs(tempDir)\n",
    "\n",
    "\n",
    "    def listdir(dirname,endfilename,scratchDir):\n",
    "        \"\"\"\n",
    "        this function will return a list of files in a directory for the given file extention \"endfilename\". \n",
    "        \"\"\"\n",
    "        list_img = []\n",
    "\n",
    "        for root, dirs, files in os.walk(dirname):\n",
    "            for file in files:\n",
    "                if file.endswith(endfilename):\n",
    "                    img = (os.path.join(root, file))\n",
    "                    list_img.append(img)\n",
    "                    #print (img)\n",
    "                    shutil.copy(os.path.abspath(img), scratchDir)\n",
    "        print(\"Script has finished\")\n",
    "        return list_img\n",
    "\n",
    "    dirname = r'U:\\Working\\Rangelands\\Spatial Data\\NAFI Firescars'\n",
    "    endfilename = 'MTH.tif'\n",
    "    scratchDir = r'C:\\Users\\rmcgr\\Desktop\\firemaps\\scratch'\n",
    "\n",
    "    listdir(dirname,endfilename,scratchDir)\n",
    "\n",
    "\n",
    "\n",
    "    imlist = r\"Z:\\Scratch\\Zonal_Stats_Pipeline\\Firescars\\NAFI_fire_rasters\\fire_list.csv\"\n",
    "    shape = shape\n",
    "    image_name =[]\n",
    "    image_date =[]\n",
    "    site_li =[]\n",
    "    zoneclass =[]\n",
    "    zoneresults =[]\n",
    "    uid_list = []\n",
    "    property_list = []\n",
    "\n",
    "\n",
    "\n",
    "    #def mainRoutine():\n",
    "\n",
    "    # read in the command arguments\n",
    "    \"\"\"cmdargs = getCmdargs()\n",
    "    imlist = cmdargs.imlist\n",
    "    nodata= int(cmdargs.nodata)\n",
    "    shape = cmdargs.shape \n",
    "    uid = cmdargs.uid\n",
    "    export_csv = cmdargs.csv\"\"\" \n",
    "\n",
    "    # check if the \"temp_individual_bands\" file already exists and delete it if it does.\n",
    "    \"\"\"tempDir = 'temp_individual_bands'       \n",
    "    try:\n",
    "        shutil.rmtree(tempDir)\n",
    "\n",
    "    except:\n",
    "        print(\"The following directory was deleted: \", tempDir)\"\"\"\n",
    "\n",
    "    # create temporary folders\n",
    "    #tempDir = 'temp_individual_bands'\n",
    "    #os.makedirs(tempDir)\n",
    "\n",
    "    with open(imlist, \"r\") as imagerylist:\n",
    "\n",
    "        #Extract each image path from the image list\n",
    "        for image in imagerylist:\n",
    "            print(image)\n",
    "\n",
    "            # cleans the file pathway (Windows)\n",
    "            imageS = image.rstrip()\n",
    "            print(\"imageS: \", imageS)\n",
    "            im_name = imageS[60:]\n",
    "            print(\"Im_Name: \", im_name)\n",
    "\n",
    "            # loops through each image\n",
    "            with rasterio.open(imageS, nodata= 255) as srci:\n",
    "                imageResults = 'image_' + im_name + '.csv'\n",
    "                # runs the zonal stats function and outputs a csv in a band specific folder\n",
    "                #finalresults = applyZonalstats(imageS, nodata, band, shape, uid)\n",
    "\n",
    "                \"\"\"--------------------------------------------------------------------------------------------------------------\"\"\"\n",
    "\n",
    "                #def applyZonalstats(imageS, nodata, band, shape, uid):\n",
    "\n",
    "                '''image_name =[]\n",
    "                image_date =[]\n",
    "                site_li =[]\n",
    "                zoneclass =[]\n",
    "                zoneresults =[]'''\n",
    "\n",
    "                with rasterio.open(imageS, nodata=255) as srci:\n",
    "                    affine = srci.transform #srci.transform is the new srci.affine\n",
    "                    array = srci.read(1)\n",
    "                    print(array)\n",
    "\n",
    "                    with fiona.open(shape) as src:\n",
    "                        # using \"all_touched=True\" will increase the number of pixels used to produce the stats \"False\" reduces the number\n",
    "\n",
    "                        cmap = {1: 'Jan', 2: 'Feb', 3: 'March', 4: 'April', 5: 'May', 6: 'June', 7: 'July', 8: 'Aug', 9: 'Sep', 10: 'Oct', 11: 'Nov', 12: 'Dec'}\n",
    "                        zs = zonal_stats(src, array, affine=affine, stats=['count'],categorical=True, \n",
    "                                         category_map=cmap, nodata = 255, all_touched=False)\n",
    "\n",
    "                        print(\"ZS: \", zs)\n",
    "                        print(\"Array: \", array)\n",
    "\n",
    "                        # extract image name and append to list\n",
    "                        imgName = str(srci)[86:-11]\n",
    "                        print(\"imgName: \", imgName)\n",
    "                        image_name.append(imgName)\n",
    "                        # extract image date and append to list\n",
    "                        imgDate = str(imgName)[2:6]\n",
    "                        print(\"imgDate: \", imgDate)\n",
    "                        image_date.append(imgDate)\n",
    "\n",
    "                        df  = pd.DataFrame.from_records(zs)\n",
    "                        df.insert(0, 'image', imgName)\n",
    "                        df.insert(0, 'year', imgDate)\n",
    "                        \n",
    "                        uid_list = []\n",
    "                        property_list = []\n",
    "\n",
    "                        for i in src:\n",
    "\n",
    "                            # extract shapefile records\n",
    "                            table_attributes = i['properties'] \n",
    "                            \n",
    "                            uid_ = table_attributes[\"uid\"]\n",
    "                            uid_string = str(uid_)\n",
    "                            uid_list.append(uid_string)\n",
    "                            #df.insert(0, 'site', prop)\n",
    "\n",
    "                            prop = table_attributes[\"PROP_NAME\"]\n",
    "                            property_list.append(prop)\n",
    "                            #df.insert(0, 'property', prop)\n",
    "\n",
    "                        #df.insert(0, 'site', property_list)\n",
    "                        df.insert(0, 'property', prop)\n",
    "                        #df.insert(0, 'site', uid_)\n",
    "                        #df = df.append(pd.DataFrame(property_list, columns=['property']))\n",
    "                        print(\"UID_LIST: \", uid_list)\n",
    "                        #df['site'].append(uid_string)\n",
    "                        df.to_csv(tempDir + '//' + imageResults, index=False) \n",
    "\n",
    "                        srci.close()\n",
    "\n",
    "                        # print out the file name of the processed image\n",
    "                        print (imgName + ' ' + imgDate +  ' ' + 'zone stats are complete')\n",
    "\n",
    "                        #return(finalresults)\n",
    "\n",
    "                        \"\"\"--------------------------------------------------------------------------------------------------------\"\"\"\n",
    "\n",
    "                        #RETURN TO MAIN FUNCTION\n",
    "\n",
    "                        #header = ['number', 'site', 'min', 'max', 'mean', 'count']#, 'std', 'median'\n",
    "\n",
    "                        \"\"\"df  = pd.DataFrame.from_records(finalresults)\n",
    "                        #df['band']= band\n",
    "                        df['image']= imgName\n",
    "                        df['date']= imgDate\n",
    "                        print(\"DF: \", df)\n",
    "                        df.to_csv(tempDir + '//' + imageResults, index=False) \"\"\"\n",
    "                        # join the elements in each of the lists row by row \n",
    "                        #finalresults =  [uid_list + property_list + imU for siteid, zoneR, imU in zip(siteID, zonestats,image_Name)] \n",
    "\n",
    "    property_name = shape.rstrip()\n",
    "    print(\"Property name: \", property_name)\n",
    "    clean_prop_name = property_name[98:-4]\n",
    "    print(\"Clean_Prop_Name: \", clean_prop_name)\n",
    "\n",
    "\n",
    "    # for loops through the band folders and concatenates zonal stat outputs into a complete band specific csv   \n",
    "    band_files = glob.glob(os.path.join(tempDir, \"*.csv\")) # advisable to use os.path.join as this makes concatenation OS independent\n",
    "    df_from_each_band_file = (pd.read_csv(f) for f in band_files)\n",
    "    concat_band_df   = pd.concat(df_from_each_band_file,ignore_index=False, axis=0, sort=False)\n",
    "    #concat_band_df = concat_band_df.insert(0, 'property', prop)\n",
    "    # export the band specific results to a csv file (i.e. three outputs)\n",
    "    concat_band_df.to_csv(r\"\\\\pgb-bas01\\DENR_Satellite_Imagery$\\Scratch\\Zonal_Stats_Pipeline\\Firescars\\outputs\" + '\\\\' + clean_prop_name + \"_fire_scar.csv\",index=False)"
   ]
  },
  {
   "cell_type": "code",
   "execution_count": null,
   "metadata": {},
   "outputs": [],
   "source": []
  },
  {
   "cell_type": "code",
   "execution_count": null,
   "metadata": {},
   "outputs": [],
   "source": []
  },
  {
   "cell_type": "code",
   "execution_count": null,
   "metadata": {},
   "outputs": [],
   "source": []
  },
  {
   "cell_type": "markdown",
   "metadata": {},
   "source": [
    "# NAFI 2020 raster clasification"
   ]
  },
  {
   "cell_type": "markdown",
   "metadata": {},
   "source": [
    "https://www.neonscience.org/resources/data-tutorials"
   ]
  },
  {
   "cell_type": "markdown",
   "metadata": {},
   "source": [
    "https://www.neonscience.org/classify-raster-thresholds-py"
   ]
  },
  {
   "cell_type": "code",
   "execution_count": 30,
   "metadata": {},
   "outputs": [],
   "source": [
    "import numpy as np\n",
    "import gdal\n",
    "import matplotlib.pyplot as plt\n",
    "%matplotlib inline\n",
    "import warnings\n",
    "warnings.filterwarnings('ignore')"
   ]
  },
  {
   "cell_type": "code",
   "execution_count": 32,
   "metadata": {},
   "outputs": [],
   "source": [
    "chm_filename = r\"Z:\\Scratch\\Zonal_Stats_Pipeline\\Firescars\\NAFI_fire_rasters_v2\\fs2020.tif\"\n",
    "chm_dataset = gdal.Open(chm_filename)"
   ]
  },
  {
   "cell_type": "code",
   "execution_count": 33,
   "metadata": {},
   "outputs": [
    {
     "name": "stdout",
     "output_type": "stream",
     "text": [
      "# of columns: 16431\n",
      "# of rows: 9868\n",
      "# of bands: 1\n",
      "driver: GeoTIFF\n"
     ]
    }
   ],
   "source": [
    "#Display the dataset dimensions, number of bands, driver, and geotransform \n",
    "cols = chm_dataset.RasterXSize; print('# of columns:',cols)\n",
    "rows = chm_dataset.RasterYSize; print('# of rows:',rows)\n",
    "print('# of bands:',chm_dataset.RasterCount)\n",
    "print('driver:',chm_dataset.GetDriver().LongName)"
   ]
  },
  {
   "cell_type": "code",
   "execution_count": 34,
   "metadata": {},
   "outputs": [
    {
     "name": "stdout",
     "output_type": "stream",
     "text": [
      "projection: GEOGCS[\"GCS_GDA_1994\",DATUM[\"GDA_1994\",SPHEROID[\"GRS_1980\",6378137,298.257222101]],PRIMEM[\"Greenwich\",0],UNIT[\"degree\",0.0174532925199433]]\n"
     ]
    }
   ],
   "source": [
    "print('projection:',chm_dataset.GetProjection())"
   ]
  },
  {
   "cell_type": "code",
   "execution_count": 35,
   "metadata": {},
   "outputs": [
    {
     "name": "stdout",
     "output_type": "stream",
     "text": [
      "geotransform: (112.9225, 0.0025, 0.0, -9.329999999999998, 0.0, -0.0025)\n"
     ]
    }
   ],
   "source": [
    "print('geotransform:',chm_dataset.GetGeoTransform())"
   ]
  },
  {
   "cell_type": "code",
   "execution_count": 36,
   "metadata": {},
   "outputs": [
    {
     "name": "stdout",
     "output_type": "stream",
     "text": [
      "chm raster extent: (112.9225, 6572512.9225, -3947209.33, -9.329999999999998)\n"
     ]
    }
   ],
   "source": [
    "chm_mapinfo = chm_dataset.GetGeoTransform()\n",
    "xMin = chm_mapinfo[0]\n",
    "yMax = chm_mapinfo[3]\n",
    "\n",
    "xMax = xMin + chm_dataset.RasterXSize/chm_mapinfo[1] #divide by pixel width \n",
    "yMin = yMax + chm_dataset.RasterYSize/chm_mapinfo[5] #divide by pixel height (note sign +/-)\n",
    "chm_ext = (xMin,xMax,yMin,yMax)\n",
    "print('chm raster extent:',chm_ext)"
   ]
  },
  {
   "cell_type": "code",
   "execution_count": 37,
   "metadata": {},
   "outputs": [
    {
     "name": "stdout",
     "output_type": "stream",
     "text": [
      "no data value: 255.0\n",
      "scale factor: 1.0\n",
      "SERC CHM Statistics: Minimum=0.00, Maximum=157.00, Mean=1.029, StDev=9.614\n"
     ]
    }
   ],
   "source": [
    "chm_raster = chm_dataset.GetRasterBand(1)\n",
    "noDataVal = chm_raster.GetNoDataValue(); print('no data value:',noDataVal)\n",
    "scaleFactor = chm_raster.GetScale(); print('scale factor:',scaleFactor)\n",
    "chm_stats = chm_raster.GetStatistics(True,True)\n",
    "print('SERC CHM Statistics: Minimum=%.2f, Maximum=%.2f, Mean=%.3f, StDev=%.3f' % \n",
    "      (chm_stats[0], chm_stats[1], chm_stats[2], chm_stats[3]))"
   ]
  },
  {
   "cell_type": "code",
   "execution_count": 38,
   "metadata": {},
   "outputs": [
    {
     "name": "stdout",
     "output_type": "stream",
     "text": [
      "SERC CHM Array:\n",
      " [[0. 0. 0. ... 0. 0. 0.]\n",
      " [0. 0. 0. ... 0. 0. 0.]\n",
      " [0. 0. 0. ... 0. 0. 0.]\n",
      " ...\n",
      " [0. 0. 0. ... 0. 0. 0.]\n",
      " [0. 0. 0. ... 0. 0. 0.]\n",
      " [0. 0. 0. ... 0. 0. 0.]]\n"
     ]
    }
   ],
   "source": [
    "chm_array = chm_dataset.GetRasterBand(1).ReadAsArray(0,0,cols,rows).astype(np.float)\n",
    "chm_array[chm_array==int(noDataVal)]=np.nan #Assign CHM No Data Values to NaN\n",
    "chm_array=chm_array/scaleFactor\n",
    "print('SERC CHM Array:\\n',chm_array) #display array values"
   ]
  },
  {
   "cell_type": "code",
   "execution_count": 39,
   "metadata": {},
   "outputs": [
    {
     "name": "stdout",
     "output_type": "stream",
     "text": [
      "Array Statistics:\n",
      "min: 0.0\n",
      "max: 157.0\n",
      "mean: 0.99\n",
      "% NaN: 0.0\n",
      "% non-zero: 1.43\n"
     ]
    }
   ],
   "source": [
    "# Display statistics (min, max, mean); numpy.nanmin calculates the minimum without the NaN values.\n",
    "print('Array Statistics:')\n",
    "print('min:',round(np.nanmin(chm_array),2))\n",
    "print('max:',round(np.nanmax(chm_array),2))\n",
    "print('mean:',round(np.nanmean(chm_array),2))\n",
    "\n",
    "# Calculate the % of pixels that are NaN and non-zero:\n",
    "pct_nan = np.count_nonzero(np.isnan(chm_array))/(rows*cols)\n",
    "print('% NaN:',round(pct_nan*100,2))\n",
    "print('% non-zero:',round(100*np.count_nonzero(chm_array)/(rows*cols),2))"
   ]
  },
  {
   "cell_type": "code",
   "execution_count": 40,
   "metadata": {},
   "outputs": [
    {
     "data": {
      "image/png": "[encoded data removed]",
      "text/plain": [
       "<Figure size 432x288 with 1 Axes>"
      ]
     },
     "metadata": {
      "needs_background": "light"
     },
     "output_type": "display_data"
    }
   ],
   "source": [
    "# Define the plot_band_array function from Day 1\n",
    "def plot_band_array(band_array,refl_extent,colorlimit,ax=plt.gca(),title='',cbar ='on',cmap_title='',colormap='BuGn'):\n",
    "    plot = plt.imshow(band_array,extent=refl_extent,clim=colorlimit); \n",
    "    if cbar == 'on':\n",
    "        cbar = plt.colorbar(plot,aspect=40); plt.set_cmap(colormap); \n",
    "        cbar.set_label(cmap_title,rotation=90,labelpad=20);\n",
    "    plt.title(title); ax = plt.gca(); \n",
    "    ax.ticklabel_format(useOffset=False, style='plain'); #do not use scientific notation #\n",
    "    rotatexlabels = plt.setp(ax.get_xticklabels(),rotation=90); #rotate x tick labels 90 degrees"
   ]
  },
  {
   "cell_type": "code",
   "execution_count": 41,
   "metadata": {},
   "outputs": [
    {
     "data": {
      "image/png": "[encoded data removed]",
      "text/plain": [
       "<Figure size 432x288 with 2 Axes>"
      ]
     },
     "metadata": {
      "needs_background": "light"
     },
     "output_type": "display_data"
    }
   ],
   "source": [
    "plot_band_array(chm_array,chm_ext,(1,100),title='NAFI Fire map',cmap_title='Raster values')"
   ]
  },
  {
   "cell_type": "code",
   "execution_count": 42,
   "metadata": {},
   "outputs": [
    {
     "data": {
      "text/plain": [
       "Text(0, 0.5, 'Relative Frequency')"
      ]
     },
     "execution_count": 42,
     "metadata": {},
     "output_type": "execute_result"
    },
    {
     "data": {
      "image/png": "[encoded data removed]",
      "text/plain": [
       "<Figure size 432x288 with 1 Axes>"
      ]
     },
     "metadata": {
      "needs_background": "light"
     },
     "output_type": "display_data"
    }
   ],
   "source": [
    "import copy\n",
    "chm_nonan_array = copy.copy(chm_array)\n",
    "chm_nonan_array = chm_nonan_array[~np.isnan(chm_array)]\n",
    "plt.hist(chm_nonan_array,weights=np.zeros_like(chm_nonan_array)+1./\n",
    "         (chm_array.shape[0]*chm_array.shape[1]),bins=10);\n",
    "plt.title('Distribution of NAFI pixcel values')\n",
    "plt.xlabel('Pixcel values'); plt.ylabel('Relative Frequency')"
   ]
  },
  {
   "cell_type": "code",
   "execution_count": 43,
   "metadata": {},
   "outputs": [
    {
     "name": "stdout",
     "output_type": "stream",
     "text": [
      "min: 1.0 m\n",
      "max: 157.0 m\n",
      "mean: 69.08 m\n"
     ]
    },
    {
     "data": {
      "image/png": "[encoded data removed]",
      "text/plain": [
       "<Figure size 432x288 with 1 Axes>"
      ]
     },
     "metadata": {
      "needs_background": "light"
     },
     "output_type": "display_data"
    }
   ],
   "source": [
    "chm_nonzero_array = copy.copy(chm_array)\n",
    "chm_nonzero_array[chm_array==0]=np.nan\n",
    "chm_nonzero_nonan_array = chm_nonzero_array[~np.isnan(chm_nonzero_array)]\n",
    "# Use weighting to plot relative frequency\n",
    "plt.hist(chm_nonzero_nonan_array,weights=np.zeros_like(chm_nonzero_nonan_array)+1./\n",
    "         (chm_array.shape[0]*chm_array.shape[1]),bins=50);\n",
    "\n",
    "# plt.hist(chm_nonzero_nonan_array.flatten(),50) \n",
    "plt.title('Distribution of SERC Non-Zero Canopy Height')\n",
    "plt.xlabel('Tree Height (m)'); plt.ylabel('Relative Frequency')\n",
    "# plt.xlim(0,25); plt.ylim(0,4000000)\n",
    "\n",
    "print('min:',np.amin(chm_nonzero_nonan_array),'m')\n",
    "print('max:',round(np.amax(chm_nonzero_nonan_array),2),'m')\n",
    "print('mean:',round(np.mean(chm_nonzero_nonan_array),2),'m')"
   ]
  },
  {
   "cell_type": "code",
   "execution_count": 44,
   "metadata": {},
   "outputs": [
    {
     "data": {
      "image/png": "[encoded data removed]",
      "text/plain": [
       "<Figure size 432x288 with 2 Axes>"
      ]
     },
     "metadata": {
      "needs_background": "light"
     },
     "output_type": "display_data"
    }
   ],
   "source": [
    "plot_band_array(chm_array,chm_ext,(0,100),title='SERC Canopy Height',cmap_title='Canopy Height, m',colormap='BuGn')"
   ]
  },
  {
   "cell_type": "code",
   "execution_count": 45,
   "metadata": {},
   "outputs": [],
   "source": [
    "# raster2array.py reads in the first band of geotif file and returns an array and associated \n",
    "# metadata dictionary\n",
    "\n",
    "import numpy as np\n",
    "import gdal\n",
    "import matplotlib.pyplot as plt\n",
    "%matplotlib inline\n",
    "import warnings\n",
    "warnings.filterwarnings('ignore')\n",
    "from osgeo import gdal\n",
    "import numpy as np\n",
    "import copy\n",
    "\n",
    "\n",
    "\n",
    "def raster2array(geotif_file):\n",
    "    metadata = {}\n",
    "    dataset = gdal.Open(geotif_file)\n",
    "    metadata['array_rows'] = dataset.RasterYSize\n",
    "    metadata['array_cols'] = dataset.RasterXSize\n",
    "    metadata['bands'] = dataset.RasterCount\n",
    "    metadata['driver'] = dataset.GetDriver().LongName\n",
    "    metadata['projection'] = dataset.GetProjection()\n",
    "    metadata['geotransform'] = dataset.GetGeoTransform()\n",
    "\n",
    "    mapinfo = dataset.GetGeoTransform()\n",
    "    metadata['pixelWidth'] = mapinfo[1]\n",
    "    metadata['pixelHeight'] = mapinfo[5]\n",
    "\n",
    "    metadata['ext_dict'] = {}\n",
    "    metadata['ext_dict']['xMin'] = mapinfo[0]\n",
    "    metadata['ext_dict']['xMax'] = mapinfo[0] + dataset.RasterXSize/mapinfo[1]\n",
    "    metadata['ext_dict']['yMin'] = mapinfo[3] + dataset.RasterYSize/mapinfo[5]\n",
    "    metadata['ext_dict']['yMax'] = mapinfo[3]\n",
    "\n",
    "    metadata['extent'] = (metadata['ext_dict']['xMin'],metadata['ext_dict']['xMax'],\n",
    "                          metadata['ext_dict']['yMin'],metadata['ext_dict']['yMax'])\n",
    "\n",
    "    if metadata['bands'] == 1:\n",
    "        raster = dataset.GetRasterBand(1)\n",
    "        metadata['noDataValue'] = raster.GetNoDataValue()\n",
    "        metadata['scaleFactor'] = raster.GetScale()\n",
    "\n",
    "        # band statistics\n",
    "        metadata['bandstats'] = {} #make a nested dictionary to store band stats in same \n",
    "        stats = raster.GetStatistics(True,True)\n",
    "        metadata['bandstats']['min'] = round(stats[0],2)\n",
    "        metadata['bandstats']['max'] = round(stats[1],2)\n",
    "        metadata['bandstats']['mean'] = round(stats[2],2)\n",
    "        metadata['bandstats']['stdev'] = round(stats[3],2)\n",
    "\n",
    "        array = dataset.GetRasterBand(1).ReadAsArray(0,0,metadata['array_cols'],metadata['array_rows']).astype(np.float)\n",
    "        array[array==int(metadata['noDataValue'])]=np.nan\n",
    "        array = array/metadata['scaleFactor']\n",
    "        return array, metadata\n",
    "\n",
    "    elif metadata['bands'] > 1:\n",
    "        print('More than one band ... need to modify function for case of multiple bands')"
   ]
  },
  {
   "cell_type": "code",
   "execution_count": 46,
   "metadata": {},
   "outputs": [
    {
     "name": "stdout",
     "output_type": "stream",
     "text": [
      "NAFI_Array:  [[0. 0. 0. ... 0. 0. 0.]\n",
      " [0. 0. 0. ... 0. 0. 0.]\n",
      " [0. 0. 0. ... 0. 0. 0.]\n",
      " ...\n",
      " [0. 0. 0. ... 0. 0. 0.]\n",
      " [0. 0. 0. ... 0. 0. 0.]\n",
      " [0. 0. 0. ... 0. 0. 0.]]\n",
      "array_cols: 16431\n",
      "array_rows: 9868\n",
      "bands: 1\n",
      "bandstats: {'min': 0.0, 'max': 157.0, 'mean': 1.03, 'stdev': 9.61}\n",
      "driver: GeoTIFF\n",
      "ext_dict: {'xMin': 112.9225, 'xMax': 6572512.9225, 'yMin': -3947209.33, 'yMax': -9.329999999999998}\n",
      "extent: (112.9225, 6572512.9225, -3947209.33, -9.329999999999998)\n",
      "geotransform: (112.9225, 0.0025, 0.0, -9.329999999999998, 0.0, -0.0025)\n",
      "noDataValue: 255.0\n",
      "pixelHeight: -0.0025\n",
      "pixelWidth: 0.0025\n",
      "projection: GEOGCS[\"GCS_GDA_1994\",DATUM[\"GDA_1994\",SPHEROID[\"GRS_1980\",6378137,298.257222101]],PRIMEM[\"Greenwich\",0],UNIT[\"degree\",0.0174532925199433]]\n",
      "scaleFactor: 1.0\n"
     ]
    }
   ],
   "source": [
    "NAFI_array, NAFI_metadata = raster2array(r\"Z:\\Scratch\\Zonal_Stats_Pipeline\\Firescars\\NAFI_fire_rasters_v2\\fs2020.tif\")\n",
    "\n",
    "print('NAFI_Array: ',NAFI_array)\n",
    "\n",
    "#print metadata in alphabetical order\n",
    "for item in sorted(NAFI_metadata):\n",
    "    print(item + ':', NAFI_metadata[item])"
   ]
  },
  {
   "cell_type": "code",
   "execution_count": 47,
   "metadata": {},
   "outputs": [
    {
     "name": "stdout",
     "output_type": "stream",
     "text": [
      "Min: 1.0\n",
      "Max: 255.0\n",
      "Mean: 251.44\n"
     ]
    },
    {
     "data": {
      "text/plain": [
       "<matplotlib.legend.Legend at 0x2733387f8c8>"
      ]
     },
     "execution_count": 47,
     "metadata": {},
     "output_type": "execute_result"
    },
    {
     "data": {
      "image/png": "[encoded data removed]",
      "text/plain": [
       "<Figure size 432x288 with 1 Axes>"
      ]
     },
     "metadata": {
      "needs_background": "light"
     },
     "output_type": "display_data"
    }
   ],
   "source": [
    "\n",
    "\n",
    "NAFI_reclass = copy.copy(NAFI_array)\n",
    "NAFI_reclass[np.where(NAFI_array== 0)] = 255 # Class No data\n",
    "NAFI_reclass[np.where((NAFI_array>=1) & (NAFI_array<=8))] = 1 #  Class Jan\n",
    "NAFI_reclass[np.where((NAFI_array>=8) & (NAFI_array<=16))] = 2 #  Class Feb\n",
    "NAFI_reclass[np.where((NAFI_array>=17) & (NAFI_array<=26))] = 3 # March\n",
    "NAFI_reclass[np.where((NAFI_array>=27) & (NAFI_array<=36))] = 4 #  April\n",
    "NAFI_reclass[np.where((NAFI_array>=37) & (NAFI_array<=55))] = 5 #  Class May\n",
    "NAFI_reclass[np.where((NAFI_array>=56) & (NAFI_array<=84))] = 6 #  Class June\n",
    "NAFI_reclass[np.where((NAFI_array>=85) & (NAFI_array<=115))] = 7 #  Class July\n",
    "NAFI_reclass[np.where((NAFI_array>=116) & (NAFI_array<=145))] = 8 #  Class August\n",
    "NAFI_reclass[np.where((NAFI_array>=146) & (NAFI_array<=175))] = 9 #  Class September\n",
    "NAFI_reclass[np.where((NAFI_array>=176) & (NAFI_array<=205))] = 10 #  Class October\n",
    "NAFI_reclass[np.where((NAFI_array>=206) & (NAFI_array<=231))] = 11 #  Class November\n",
    "NAFI_reclass[np.where((NAFI_array>=232) & (NAFI_array<=255))] = 12 #  Class December\n",
    "#NAFI_reclass[np.where(NAFI_array>=176)] = 255 #  Class No data\n",
    "\"\"\"NAFI_reclass[np.where((NAFI_array>206) & (NAFI_array<=231))] = 11 #  Class November\n",
    "NAFI_reclass[np.where((NAFI_array>232) & (NAFI_array<=254))] = 12 #  Class December\"\"\"\n",
    "#NAFI_reclass[np.where(NAFI_array== 0)] = 10 # Class No data\n",
    "\n",
    "print('Min:',np.nanmin(NAFI_reclass))\n",
    "print('Max:',np.nanmax(NAFI_reclass))\n",
    "print('Mean:',round(np.nanmean(NAFI_reclass),2))\n",
    "\n",
    "\n",
    "import matplotlib.colors as colors\n",
    "plt.figure(); #ax = plt.subplots()\n",
    "cmapNAFI = colors.ListedColormap([\n",
    "    'black',\n",
    "    'peru',\n",
    "    'peachpuff',\n",
    "    'yellowgreen',\n",
    "    'khaki',\n",
    "    'red',\n",
    "    'orange',\n",
    "    'darkred',\n",
    "    'red',\n",
    "    'springgreen',\n",
    "    'white'\n",
    "])\n",
    "\n",
    "extents=[6000,1200,0,500]\n",
    "\n",
    "plt.imshow(NAFI_reclass,  cmap=cmapNAFI) #extent=extents,\n",
    "plt.title('NAFI month breakdown')\n",
    "ax=plt.gca(); ax.ticklabel_format(useOffset=False, style='plain') #do not use scientific notation \n",
    "rotatexlabels = plt.setp(ax.get_xticklabels(),rotation=90) #rotate x tick labels 90 degrees\n",
    "# forceAspect(ax,aspect=1) # ax.set_aspect('auto')\n",
    "\n",
    "# Create custom legend to label the four canopy height classes:\n",
    "import matplotlib.patches as mpatches\n",
    "class1_box = mpatches.Patch(color='peru', label='Jan')\n",
    "class2_box = mpatches.Patch(color='peachpuff', label='Feb')\n",
    "class3_box = mpatches.Patch(color='yellowgreen', label='Mar')\n",
    "class4_box = mpatches.Patch(color='khaki', label='April')\n",
    "class5_box = mpatches.Patch(color='red', label='May')\n",
    "class6_box = mpatches.Patch(color='orange', label='June')\n",
    "class7_box = mpatches.Patch(color='darkred', label='July')\n",
    "class8_box = mpatches.Patch(color='red', label='Aug')\n",
    "class9_box = mpatches.Patch(color='springgreen', label='Sep')\n",
    "class10_box = mpatches.Patch(color='blue', label='Oct')\n",
    "#class11_box = mpatches.Patch(color='tan', label='Nov')\n",
    "#class12_box = mpatches.Patch(color='maroon', label='Dec')\n",
    "#class13_box = mpatches.Patch(color='red', label='No data')\n",
    "#class14_box = mpatches.Patch(color='black', label='255')\n",
    "\n",
    "\n",
    "\n",
    "ax.legend(handles=[class1_box,class2_box,class3_box,class4_box, class5_box, class6_box,\n",
    "                  class7_box,class8_box,class9_box],\n",
    "          handlelength=0.7,bbox_to_anchor=(1.05, 0.4),loc='lower left',borderaxespad=0.)"
   ]
  },
  {
   "cell_type": "code",
   "execution_count": 48,
   "metadata": {},
   "outputs": [],
   "source": [
    "# %load ../hyperspectral_hdf5/array2raster.py\n",
    "\"\"\"\n",
    "Array to Raster Function from https://pcjericks.github.io/py-gdalogr-cookbook/raster_layers.html)\n",
    "\"\"\"\n",
    "import gdal, osr #ogr, os, osr\n",
    "import numpy as np\n",
    "\n",
    "def array2raster(newRasterfn,rasterOrigin,pixelWidth,pixelHeight,array,epsg):\n",
    "\n",
    "    cols = array.shape[1]\n",
    "    rows = array.shape[0]\n",
    "    originX = rasterOrigin[0]\n",
    "    originY = rasterOrigin[1]\n",
    "\n",
    "    driver = gdal.GetDriverByName('GTiff')\n",
    "    outRaster = driver.Create(newRasterfn, cols, rows, 1, gdal.GDT_Byte)\n",
    "    outRaster.SetGeoTransform((originX, pixelWidth, 0, originY, 0, pixelHeight))\n",
    "    outband = outRaster.GetRasterBand(1)\n",
    "    outband.WriteArray(array)\n",
    "    outRasterSRS = osr.SpatialReference()\n",
    "    outRasterSRS.ImportFromEPSG(epsg)\n",
    "    outRaster.SetProjection(outRasterSRS.ExportToWkt())\n",
    "    outband.FlushCache()"
   ]
  },
  {
   "cell_type": "code",
   "execution_count": 50,
   "metadata": {},
   "outputs": [
    {
     "name": "stdout",
     "output_type": "stream",
     "text": [
      "raster origin: (112.9225, -9.329999999999998)\n"
     ]
    }
   ],
   "source": [
    "# array2raster(newRasterfn,rasterOrigin,pixelWidth,pixelHeight,array)\n",
    "epsg = 4283   # GDA94 \n",
    "rasterOrigin = (NAFI_metadata['ext_dict']['xMin'],NAFI_metadata['ext_dict']['yMax'])\n",
    "print('raster origin:',rasterOrigin)\n",
    "array2raster('NAFI_Classifiedtest2.tif',rasterOrigin,1,-1,NAFI_reclass,epsg)"
   ]
  },
  {
   "cell_type": "markdown",
   "metadata": {},
   "source": [
    "Full classification code"
   ]
  },
  {
   "cell_type": "code",
   "execution_count": null,
   "metadata": {},
   "outputs": [],
   "source": [
    "# raster2array.py reads in the first band of geotif file and returns an array and associated \n",
    "# metadata dictionary\n",
    "\n",
    "import numpy as np\n",
    "import gdal\n",
    "import matplotlib.pyplot as plt\n",
    "%matplotlib inline\n",
    "import warnings\n",
    "warnings.filterwarnings('ignore')\n",
    "from osgeo import gdal\n",
    "import numpy as np\n",
    "import copy\n",
    "#import matplotlib.colors as colors\n",
    "import gdal, osr #ogr, os, osr\n",
    "import numpy as np\n",
    "\n",
    "\n",
    "\n",
    "def raster2array(geotif_file):\n",
    "    metadata = {}\n",
    "    dataset = gdal.Open(geotif_file)\n",
    "    metadata['array_rows'] = dataset.RasterYSize\n",
    "    metadata['array_cols'] = dataset.RasterXSize\n",
    "    metadata['bands'] = dataset.RasterCount\n",
    "    metadata['driver'] = dataset.GetDriver().LongName\n",
    "    metadata['projection'] = dataset.GetProjection()\n",
    "    metadata['geotransform'] = dataset.GetGeoTransform()\n",
    "\n",
    "    mapinfo = dataset.GetGeoTransform()\n",
    "    metadata['pixelWidth'] = mapinfo[1]\n",
    "    metadata['pixelHeight'] = mapinfo[5]\n",
    "\n",
    "    metadata['ext_dict'] = {}\n",
    "    metadata['ext_dict']['xMin'] = mapinfo[0]\n",
    "    metadata['ext_dict']['xMax'] = mapinfo[0] + dataset.RasterXSize/mapinfo[1]\n",
    "    metadata['ext_dict']['yMin'] = mapinfo[3] + dataset.RasterYSize/mapinfo[5]\n",
    "    metadata['ext_dict']['yMax'] = mapinfo[3]\n",
    "\n",
    "    metadata['extent'] = (metadata['ext_dict']['xMin'],metadata['ext_dict']['xMax'],\n",
    "                          metadata['ext_dict']['yMin'],metadata['ext_dict']['yMax'])\n",
    "\n",
    "    if metadata['bands'] == 1:\n",
    "        raster = dataset.GetRasterBand(1)\n",
    "        metadata['noDataValue'] = raster.GetNoDataValue()\n",
    "        metadata['scaleFactor'] = raster.GetScale()\n",
    "\n",
    "        # band statistics\n",
    "        metadata['bandstats'] = {} #make a nested dictionary to store band stats in same \n",
    "        stats = raster.GetStatistics(True,True)\n",
    "        metadata['bandstats']['min'] = round(stats[0],2)\n",
    "        metadata['bandstats']['max'] = round(stats[1],2)\n",
    "        metadata['bandstats']['mean'] = round(stats[2],2)\n",
    "        metadata['bandstats']['stdev'] = round(stats[3],2)\n",
    "\n",
    "        array = dataset.GetRasterBand(1).ReadAsArray(0,0,metadata['array_cols'],metadata['array_rows']).astype(np.float)\n",
    "        array[array==int(metadata['noDataValue'])]=np.nan\n",
    "        array = array/metadata['scaleFactor']\n",
    "        return array, metadata\n",
    "\n",
    "    elif metadata['bands'] > 1:\n",
    "        print('More than one band ... need to modify function for case of multiple bands')\n",
    "        \n",
    "        \n",
    "NAFI_array, NAFI_metadata = raster2array(r\"Z:\\Scratch\\Zonal_Stats_Pipeline\\Firescars\\NAFI_fire_rasters_v2\\fs2020.tif\")\n",
    "\n",
    "print('NAFI_Array: ',NAFI_array)\n",
    "\n",
    "#print metadata in alphabetical order\n",
    "for item in sorted(NAFI_metadata):\n",
    "    print(item + ':', NAFI_metadata[item])\n",
    "\n",
    "    NAFI_reclass = copy.copy(NAFI_array)\n",
    "NAFI_reclass[np.where(NAFI_array== 0)] = 255 # Class No data\n",
    "NAFI_reclass[np.where((NAFI_array>=1) & (NAFI_array<=8))] = 1 #  Class Jan\n",
    "NAFI_reclass[np.where((NAFI_array>=8) & (NAFI_array<=16))] = 2 #  Class Feb\n",
    "NAFI_reclass[np.where((NAFI_array>=17) & (NAFI_array<=26))] = 3 # March\n",
    "NAFI_reclass[np.where((NAFI_array>=27) & (NAFI_array<=36))] = 4 #  April\n",
    "NAFI_reclass[np.where((NAFI_array>=37) & (NAFI_array<=55))] = 5 #  Class May\n",
    "NAFI_reclass[np.where((NAFI_array>=56) & (NAFI_array<=84))] = 6 #  Class June\n",
    "NAFI_reclass[np.where((NAFI_array>=85) & (NAFI_array<=115))] = 7 #  Class July\n",
    "NAFI_reclass[np.where((NAFI_array>=116) & (NAFI_array<=145))] = 8 #  Class August\n",
    "NAFI_reclass[np.where((NAFI_array>=146) & (NAFI_array<=175))] = 9 #  Class September\n",
    "NAFI_reclass[np.where((NAFI_array>=176) & (NAFI_array<=205))] = 10 #  Class October\n",
    "NAFI_reclass[np.where((NAFI_array>=206) & (NAFI_array<=231))] = 11 #  Class November\n",
    "NAFI_reclass[np.where((NAFI_array>=232) & (NAFI_array<=255))] = 12 #  Class December\n",
    "#NAFI_reclass[np.where(NAFI_array>=176)] = 255 #  Class No data\n",
    "\"\"\"NAFI_reclass[np.where((NAFI_array>206) & (NAFI_array<=231))] = 11 #  Class November\n",
    "NAFI_reclass[np.where((NAFI_array>232) & (NAFI_array<=254))] = 12 #  Class December\"\"\"\n",
    "#NAFI_reclass[np.where(NAFI_array== 0)] = 10 # Class No data\n",
    "\n",
    "print('Min:',np.nanmin(NAFI_reclass))\n",
    "print('Max:',np.nanmax(NAFI_reclass))\n",
    "print('Mean:',round(np.nanmean(NAFI_reclass),2))\n",
    "\n",
    "\n",
    "#plt.figure(); #ax = plt.subplots()\n",
    "\"\"\"cmapNAFI = colors.ListedColormap([\n",
    "    'black',\n",
    "    'peru',\n",
    "    'peachpuff',\n",
    "    'yellowgreen',\n",
    "    'khaki',\n",
    "    'red',\n",
    "    'orange',\n",
    "    'darkred',\n",
    "    'red',\n",
    "    'springgreen',\n",
    "    'white'\n",
    "])\n",
    "\n",
    "extents=[6000,1200,0,500]\n",
    "\n",
    "plt.imshow(NAFI_reclass,  cmap=cmapNAFI) #extent=extents,\n",
    "plt.title('NAFI month breakdown')\n",
    "ax=plt.gca(); ax.ticklabel_format(useOffset=False, style='plain') #do not use scientific notation \n",
    "rotatexlabels = plt.setp(ax.get_xticklabels(),rotation=90) #rotate x tick labels 90 degrees\n",
    "# forceAspect(ax,aspect=1) # ax.set_aspect('auto')\"\"\"\n",
    "\n",
    "# Create custom legend to label the four canopy height classes:\n",
    "\"\"\"import matplotlib.patches as mpatches\n",
    "class1_box = mpatches.Patch(color='peru', label='Jan')\n",
    "class2_box = mpatches.Patch(color='peachpuff', label='Feb')\n",
    "class3_box = mpatches.Patch(color='yellowgreen', label='Mar')\n",
    "class4_box = mpatches.Patch(color='khaki', label='April')\n",
    "class5_box = mpatches.Patch(color='red', label='May')\n",
    "class6_box = mpatches.Patch(color='orange', label='June')\n",
    "class7_box = mpatches.Patch(color='darkred', label='July')\n",
    "class8_box = mpatches.Patch(color='red', label='Aug')\n",
    "class9_box = mpatches.Patch(color='springgreen', label='Sep')\n",
    "class10_box = mpatches.Patch(color='blue', label='Oct')\n",
    "#class11_box = mpatches.Patch(color='tan', label='Nov')\n",
    "#class12_box = mpatches.Patch(color='maroon', label='Dec')\n",
    "#class13_box = mpatches.Patch(color='red', label='No data')\n",
    "#class14_box = mpatches.Patch(color='black', label='255')\n",
    "\n",
    "\n",
    "\n",
    "ax.legend(handles=[class1_box,class2_box,class3_box,class4_box, class5_box, class6_box,\n",
    "                  class7_box,class8_box,class9_box],\n",
    "          handlelength=0.7,bbox_to_anchor=(1.05, 0.4),loc='lower left',borderaxespad=0.)\"\"\"\n",
    "\n",
    "# %load ../hyperspectral_hdf5/array2raster.py\n",
    "\"\"\"\n",
    "Array to Raster Function from https://pcjericks.github.io/py-gdalogr-cookbook/raster_layers.html)\n",
    "\"\"\"\n",
    "\n",
    "\n",
    "def array2raster(newRasterfn,rasterOrigin,pixelWidth,pixelHeight,array,epsg):\n",
    "\n",
    "    cols = array.shape[1]\n",
    "    rows = array.shape[0]\n",
    "    originX = rasterOrigin[0]\n",
    "    originY = rasterOrigin[1]\n",
    "\n",
    "    driver = gdal.GetDriverByName('GTiff')\n",
    "    outRaster = driver.Create(newRasterfn, cols, rows, 1, gdal.GDT_Byte)\n",
    "    outRaster.SetGeoTransform((originX, pixelWidth, 0, originY, 0, pixelHeight))\n",
    "    outband = outRaster.GetRasterBand(1)\n",
    "    outband.WriteArray(array)\n",
    "    outRasterSRS = osr.SpatialReference()\n",
    "    outRasterSRS.ImportFromEPSG(epsg)\n",
    "    outRaster.SetProjection(outRasterSRS.ExportToWkt())\n",
    "    outband.FlushCache()\n",
    "    \n",
    "# array2raster(newRasterfn,rasterOrigin,pixelWidth,pixelHeight,array)\n",
    "epsg = 4283   # GDA94 \n",
    "rasterOrigin = (NAFI_metadata['ext_dict']['xMin'],NAFI_metadata['ext_dict']['yMax'])\n",
    "print('raster origin:',rasterOrigin)\n",
    "array2raster('NAFI_Classifiedtest2.tif',rasterOrigin,1,-1,NAFI_reclass,epsg)\n",
    "print('----------------------\\n script has finished \\n ----------------')"
   ]
  },
  {
   "cell_type": "code",
   "execution_count": null,
   "metadata": {},
   "outputs": [],
   "source": []
  }
 ],
 "metadata": {
  "kernelspec": {
   "display_name": "Python 3",
   "language": "python",
   "name": "python3"
  },
  "language_info": {
   "codemirror_mode": {
    "name": "ipython",
    "version": 3
   },
   "file_extension": ".py",
   "mimetype": "text/x-python",
   "name": "python",
   "nbconvert_exporter": "python",
   "pygments_lexer": "ipython3",
   "version": "3.7.4"
  }
 },
 "nbformat": 4,
 "nbformat_minor": 2
}
